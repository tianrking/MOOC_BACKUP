{
 "cells": [
  {
   "cell_type": "markdown",
   "metadata": {},
   "source": [
    "### 1、证券基本信息表instruments_CN_STOCK_A"
   ]
  },
  {
   "cell_type": "code",
   "execution_count": 10,
   "metadata": {},
   "outputs": [
    {
     "data": {
      "text/html": [
       "<div>\n",
       "<style scoped>\n",
       "    .dataframe tbody tr th:only-of-type {\n",
       "        vertical-align: middle;\n",
       "    }\n",
       "\n",
       "    .dataframe tbody tr th {\n",
       "        vertical-align: top;\n",
       "    }\n",
       "\n",
       "    .dataframe thead th {\n",
       "        text-align: right;\n",
       "    }\n",
       "</style>\n",
       "<table border=\"1\" class=\"dataframe\">\n",
       "  <thead>\n",
       "    <tr style=\"text-align: right;\">\n",
       "      <th></th>\n",
       "      <th>date</th>\n",
       "      <th>name</th>\n",
       "      <th>instrument</th>\n",
       "    </tr>\n",
       "  </thead>\n",
       "  <tbody>\n",
       "    <tr>\n",
       "      <th>0</th>\n",
       "      <td>2019-01-02</td>\n",
       "      <td>平安银行</td>\n",
       "      <td>000001.SZA</td>\n",
       "    </tr>\n",
       "    <tr>\n",
       "      <th>2372</th>\n",
       "      <td>2019-01-02</td>\n",
       "      <td>标准股份</td>\n",
       "      <td>600302.SHA</td>\n",
       "    </tr>\n",
       "    <tr>\n",
       "      <th>2373</th>\n",
       "      <td>2019-01-02</td>\n",
       "      <td>飞乐音响</td>\n",
       "      <td>600651.SHA</td>\n",
       "    </tr>\n",
       "    <tr>\n",
       "      <th>2374</th>\n",
       "      <td>2019-01-02</td>\n",
       "      <td>凯盛科技</td>\n",
       "      <td>600552.SHA</td>\n",
       "    </tr>\n",
       "    <tr>\n",
       "      <th>2375</th>\n",
       "      <td>2019-01-02</td>\n",
       "      <td>营口港</td>\n",
       "      <td>600317.SHA</td>\n",
       "    </tr>\n",
       "  </tbody>\n",
       "</table>\n",
       "</div>"
      ],
      "text/plain": [
       "           date  name  instrument\n",
       "0    2019-01-02  平安银行  000001.SZA\n",
       "2372 2019-01-02  标准股份  600302.SHA\n",
       "2373 2019-01-02  飞乐音响  600651.SHA\n",
       "2374 2019-01-02  凯盛科技  600552.SHA\n",
       "2375 2019-01-02   营口港  600317.SHA"
      ]
     },
     "execution_count": 10,
     "metadata": {},
     "output_type": "execute_result"
    }
   ],
   "source": [
    "DataSource('instruments_CN_STOCK_A').read(start_date='2019-01-01').head()"
   ]
  },
  {
   "cell_type": "markdown",
   "metadata": {},
   "source": [
    "### 2、股票日线基本行情表"
   ]
  },
  {
   "cell_type": "code",
   "execution_count": 11,
   "metadata": {},
   "outputs": [
    {
     "data": {
      "text/html": [
       "<div>\n",
       "<style scoped>\n",
       "    .dataframe tbody tr th:only-of-type {\n",
       "        vertical-align: middle;\n",
       "    }\n",
       "\n",
       "    .dataframe tbody tr th {\n",
       "        vertical-align: top;\n",
       "    }\n",
       "\n",
       "    .dataframe thead th {\n",
       "        text-align: right;\n",
       "    }\n",
       "</style>\n",
       "<table border=\"1\" class=\"dataframe\">\n",
       "  <thead>\n",
       "    <tr style=\"text-align: right;\">\n",
       "      <th></th>\n",
       "      <th>adjust_factor</th>\n",
       "      <th>amount</th>\n",
       "      <th>close</th>\n",
       "      <th>instrument</th>\n",
       "      <th>deal_number</th>\n",
       "      <th>date</th>\n",
       "      <th>high</th>\n",
       "      <th>low</th>\n",
       "      <th>open</th>\n",
       "      <th>turn</th>\n",
       "      <th>volume</th>\n",
       "    </tr>\n",
       "  </thead>\n",
       "  <tbody>\n",
       "    <tr>\n",
       "      <th>0</th>\n",
       "      <td>7.416517</td>\n",
       "      <td>6490881.0</td>\n",
       "      <td>25.290323</td>\n",
       "      <td>002165.SZA</td>\n",
       "      <td>1979</td>\n",
       "      <td>2019-01-02</td>\n",
       "      <td>25.735313</td>\n",
       "      <td>24.919497</td>\n",
       "      <td>25.735313</td>\n",
       "      <td>0.360868</td>\n",
       "      <td>1903100.0</td>\n",
       "    </tr>\n",
       "    <tr>\n",
       "      <th>2372</th>\n",
       "      <td>11.513257</td>\n",
       "      <td>17602276.0</td>\n",
       "      <td>41.102329</td>\n",
       "      <td>002519.SZA</td>\n",
       "      <td>2215</td>\n",
       "      <td>2019-01-02</td>\n",
       "      <td>41.332592</td>\n",
       "      <td>40.066135</td>\n",
       "      <td>40.987194</td>\n",
       "      <td>0.600149</td>\n",
       "      <td>4990530.0</td>\n",
       "    </tr>\n",
       "    <tr>\n",
       "      <th>2373</th>\n",
       "      <td>2.142141</td>\n",
       "      <td>6537364.0</td>\n",
       "      <td>13.816810</td>\n",
       "      <td>603987.SHA</td>\n",
       "      <td>1004</td>\n",
       "      <td>2019-01-02</td>\n",
       "      <td>13.966760</td>\n",
       "      <td>13.752545</td>\n",
       "      <td>13.838231</td>\n",
       "      <td>0.379737</td>\n",
       "      <td>1010480.0</td>\n",
       "    </tr>\n",
       "    <tr>\n",
       "      <th>2374</th>\n",
       "      <td>3.970138</td>\n",
       "      <td>34583760.0</td>\n",
       "      <td>14.292497</td>\n",
       "      <td>600339.SHA</td>\n",
       "      <td>6305</td>\n",
       "      <td>2019-01-02</td>\n",
       "      <td>14.570407</td>\n",
       "      <td>14.213094</td>\n",
       "      <td>14.570407</td>\n",
       "      <td>0.617341</td>\n",
       "      <td>9582245.0</td>\n",
       "    </tr>\n",
       "    <tr>\n",
       "      <th>2375</th>\n",
       "      <td>2.365928</td>\n",
       "      <td>221460220.0</td>\n",
       "      <td>10.623016</td>\n",
       "      <td>601377.SHA</td>\n",
       "      <td>14234</td>\n",
       "      <td>2019-01-02</td>\n",
       "      <td>10.835950</td>\n",
       "      <td>10.386424</td>\n",
       "      <td>10.741313</td>\n",
       "      <td>0.740332</td>\n",
       "      <td>49577579.0</td>\n",
       "    </tr>\n",
       "  </tbody>\n",
       "</table>\n",
       "</div>"
      ],
      "text/plain": [
       "      adjust_factor       amount      close  instrument  deal_number  \\\n",
       "0          7.416517    6490881.0  25.290323  002165.SZA         1979   \n",
       "2372      11.513257   17602276.0  41.102329  002519.SZA         2215   \n",
       "2373       2.142141    6537364.0  13.816810  603987.SHA         1004   \n",
       "2374       3.970138   34583760.0  14.292497  600339.SHA         6305   \n",
       "2375       2.365928  221460220.0  10.623016  601377.SHA        14234   \n",
       "\n",
       "           date       high        low       open      turn      volume  \n",
       "0    2019-01-02  25.735313  24.919497  25.735313  0.360868   1903100.0  \n",
       "2372 2019-01-02  41.332592  40.066135  40.987194  0.600149   4990530.0  \n",
       "2373 2019-01-02  13.966760  13.752545  13.838231  0.379737   1010480.0  \n",
       "2374 2019-01-02  14.570407  14.213094  14.570407  0.617341   9582245.0  \n",
       "2375 2019-01-02  10.835950  10.386424  10.741313  0.740332  49577579.0  "
      ]
     },
     "execution_count": 11,
     "metadata": {},
     "output_type": "execute_result"
    }
   ],
   "source": [
    "DataSource('bar1d_CN_STOCK_A').read(start_date='2019-01-01').head()"
   ]
  },
  {
   "cell_type": "markdown",
   "metadata": {},
   "source": [
    "### 3、股票分钟数据表"
   ]
  },
  {
   "cell_type": "code",
   "execution_count": 12,
   "metadata": {},
   "outputs": [
    {
     "data": {
      "text/html": [
       "<div>\n",
       "<style scoped>\n",
       "    .dataframe tbody tr th:only-of-type {\n",
       "        vertical-align: middle;\n",
       "    }\n",
       "\n",
       "    .dataframe tbody tr th {\n",
       "        vertical-align: top;\n",
       "    }\n",
       "\n",
       "    .dataframe thead th {\n",
       "        text-align: right;\n",
       "    }\n",
       "</style>\n",
       "<table border=\"1\" class=\"dataframe\">\n",
       "  <thead>\n",
       "    <tr style=\"text-align: right;\">\n",
       "      <th></th>\n",
       "      <th>date</th>\n",
       "      <th>open</th>\n",
       "      <th>close</th>\n",
       "      <th>high</th>\n",
       "      <th>low</th>\n",
       "      <th>volume</th>\n",
       "      <th>amount</th>\n",
       "      <th>instrument</th>\n",
       "    </tr>\n",
       "  </thead>\n",
       "  <tbody>\n",
       "    <tr>\n",
       "      <th>0</th>\n",
       "      <td>2019-01-02 09:31:00</td>\n",
       "      <td>9.34</td>\n",
       "      <td>9.34</td>\n",
       "      <td>9.34</td>\n",
       "      <td>9.34</td>\n",
       "      <td>0.0</td>\n",
       "      <td>0.0</td>\n",
       "      <td>000001.SZA</td>\n",
       "    </tr>\n",
       "    <tr>\n",
       "      <th>1</th>\n",
       "      <td>2019-01-02 09:32:00</td>\n",
       "      <td>9.34</td>\n",
       "      <td>9.34</td>\n",
       "      <td>9.34</td>\n",
       "      <td>9.34</td>\n",
       "      <td>0.0</td>\n",
       "      <td>0.0</td>\n",
       "      <td>000001.SZA</td>\n",
       "    </tr>\n",
       "    <tr>\n",
       "      <th>2</th>\n",
       "      <td>2019-01-02 09:33:00</td>\n",
       "      <td>9.34</td>\n",
       "      <td>9.34</td>\n",
       "      <td>9.34</td>\n",
       "      <td>9.34</td>\n",
       "      <td>0.0</td>\n",
       "      <td>0.0</td>\n",
       "      <td>000001.SZA</td>\n",
       "    </tr>\n",
       "    <tr>\n",
       "      <th>3</th>\n",
       "      <td>2019-01-02 09:34:00</td>\n",
       "      <td>9.34</td>\n",
       "      <td>9.34</td>\n",
       "      <td>9.34</td>\n",
       "      <td>9.34</td>\n",
       "      <td>0.0</td>\n",
       "      <td>0.0</td>\n",
       "      <td>000001.SZA</td>\n",
       "    </tr>\n",
       "    <tr>\n",
       "      <th>4</th>\n",
       "      <td>2019-01-02 09:35:00</td>\n",
       "      <td>9.34</td>\n",
       "      <td>9.34</td>\n",
       "      <td>9.34</td>\n",
       "      <td>9.34</td>\n",
       "      <td>0.0</td>\n",
       "      <td>0.0</td>\n",
       "      <td>000001.SZA</td>\n",
       "    </tr>\n",
       "  </tbody>\n",
       "</table>\n",
       "</div>"
      ],
      "text/plain": [
       "                 date  open  close  high   low  volume  amount  instrument\n",
       "0 2019-01-02 09:31:00  9.34   9.34  9.34  9.34     0.0     0.0  000001.SZA\n",
       "1 2019-01-02 09:32:00  9.34   9.34  9.34  9.34     0.0     0.0  000001.SZA\n",
       "2 2019-01-02 09:33:00  9.34   9.34  9.34  9.34     0.0     0.0  000001.SZA\n",
       "3 2019-01-02 09:34:00  9.34   9.34  9.34  9.34     0.0     0.0  000001.SZA\n",
       "4 2019-01-02 09:35:00  9.34   9.34  9.34  9.34     0.0     0.0  000001.SZA"
      ]
     },
     "execution_count": 12,
     "metadata": {},
     "output_type": "execute_result"
    }
   ],
   "source": [
    "DataSource('bar1m_000001.SZA').read(start_date='2019-01-01').head()"
   ]
  },
  {
   "cell_type": "markdown",
   "metadata": {},
   "source": [
    "### 4、股票状态表"
   ]
  },
  {
   "cell_type": "code",
   "execution_count": 13,
   "metadata": {},
   "outputs": [
    {
     "data": {
      "text/html": [
       "<div>\n",
       "<style scoped>\n",
       "    .dataframe tbody tr th:only-of-type {\n",
       "        vertical-align: middle;\n",
       "    }\n",
       "\n",
       "    .dataframe tbody tr th {\n",
       "        vertical-align: top;\n",
       "    }\n",
       "\n",
       "    .dataframe thead th {\n",
       "        text-align: right;\n",
       "    }\n",
       "</style>\n",
       "<table border=\"1\" class=\"dataframe\">\n",
       "  <thead>\n",
       "    <tr style=\"text-align: right;\">\n",
       "      <th></th>\n",
       "      <th>date</th>\n",
       "      <th>instrument</th>\n",
       "      <th>price_limit_status</th>\n",
       "      <th>st_status</th>\n",
       "      <th>suspend_reason</th>\n",
       "      <th>suspend_type</th>\n",
       "      <th>suspended</th>\n",
       "    </tr>\n",
       "  </thead>\n",
       "  <tbody>\n",
       "    <tr>\n",
       "      <th>0</th>\n",
       "      <td>2019-01-02</td>\n",
       "      <td>002165.SZA</td>\n",
       "      <td>2</td>\n",
       "      <td>0</td>\n",
       "      <td>nan</td>\n",
       "      <td>nan</td>\n",
       "      <td>False</td>\n",
       "    </tr>\n",
       "    <tr>\n",
       "      <th>2397</th>\n",
       "      <td>2019-01-02</td>\n",
       "      <td>603198.SHA</td>\n",
       "      <td>2</td>\n",
       "      <td>0</td>\n",
       "      <td>nan</td>\n",
       "      <td>nan</td>\n",
       "      <td>False</td>\n",
       "    </tr>\n",
       "    <tr>\n",
       "      <th>2398</th>\n",
       "      <td>2019-01-02</td>\n",
       "      <td>603799.SHA</td>\n",
       "      <td>2</td>\n",
       "      <td>0</td>\n",
       "      <td>nan</td>\n",
       "      <td>nan</td>\n",
       "      <td>False</td>\n",
       "    </tr>\n",
       "    <tr>\n",
       "      <th>2399</th>\n",
       "      <td>2019-01-02</td>\n",
       "      <td>002242.SZA</td>\n",
       "      <td>2</td>\n",
       "      <td>0</td>\n",
       "      <td>nan</td>\n",
       "      <td>nan</td>\n",
       "      <td>False</td>\n",
       "    </tr>\n",
       "    <tr>\n",
       "      <th>2400</th>\n",
       "      <td>2019-01-02</td>\n",
       "      <td>600415.SHA</td>\n",
       "      <td>2</td>\n",
       "      <td>0</td>\n",
       "      <td>nan</td>\n",
       "      <td>nan</td>\n",
       "      <td>False</td>\n",
       "    </tr>\n",
       "  </tbody>\n",
       "</table>\n",
       "</div>"
      ],
      "text/plain": [
       "           date  instrument  price_limit_status  st_status suspend_reason  \\\n",
       "0    2019-01-02  002165.SZA                   2          0            nan   \n",
       "2397 2019-01-02  603198.SHA                   2          0            nan   \n",
       "2398 2019-01-02  603799.SHA                   2          0            nan   \n",
       "2399 2019-01-02  002242.SZA                   2          0            nan   \n",
       "2400 2019-01-02  600415.SHA                   2          0            nan   \n",
       "\n",
       "     suspend_type suspended  \n",
       "0             nan     False  \n",
       "2397          nan     False  \n",
       "2398          nan     False  \n",
       "2399          nan     False  \n",
       "2400          nan     False  "
      ]
     },
     "execution_count": 13,
     "metadata": {},
     "output_type": "execute_result"
    }
   ],
   "source": [
    "DataSource('stock_status_CN_STOCK_A').read(start_date='2019-01-01').head()"
   ]
  },
  {
   "cell_type": "markdown",
   "metadata": {},
   "source": [
    "### 5、行业概念信息表"
   ]
  },
  {
   "cell_type": "code",
   "execution_count": 14,
   "metadata": {},
   "outputs": [
    {
     "data": {
      "text/html": [
       "<div>\n",
       "<style scoped>\n",
       "    .dataframe tbody tr th:only-of-type {\n",
       "        vertical-align: middle;\n",
       "    }\n",
       "\n",
       "    .dataframe tbody tr th {\n",
       "        vertical-align: top;\n",
       "    }\n",
       "\n",
       "    .dataframe thead th {\n",
       "        text-align: right;\n",
       "    }\n",
       "</style>\n",
       "<table border=\"1\" class=\"dataframe\">\n",
       "  <thead>\n",
       "    <tr style=\"text-align: right;\">\n",
       "      <th></th>\n",
       "      <th>concept</th>\n",
       "      <th>instrument</th>\n",
       "      <th>date</th>\n",
       "      <th>industry_sw_level1</th>\n",
       "      <th>industry_sw_level2</th>\n",
       "      <th>industry_sw_level3</th>\n",
       "    </tr>\n",
       "  </thead>\n",
       "  <tbody>\n",
       "    <tr>\n",
       "      <th>0</th>\n",
       "      <td>0</td>\n",
       "      <td>000001.SHA</td>\n",
       "      <td>2019-01-02</td>\n",
       "      <td>0</td>\n",
       "      <td>0</td>\n",
       "      <td>0</td>\n",
       "    </tr>\n",
       "    <tr>\n",
       "      <th>2397</th>\n",
       "      <td>融资融券标的;超涨;央企;特高压;智能电网;融资融券;大央企重组;预减;能源互联网</td>\n",
       "      <td>600312.SHA</td>\n",
       "      <td>2019-01-02</td>\n",
       "      <td>630000</td>\n",
       "      <td>630400</td>\n",
       "      <td>630401</td>\n",
       "    </tr>\n",
       "    <tr>\n",
       "      <th>2398</th>\n",
       "      <td>乡村振兴;低价小市值;生物育种;大豆;央企</td>\n",
       "      <td>600313.SHA</td>\n",
       "      <td>2019-01-02</td>\n",
       "      <td>110000</td>\n",
       "      <td>110100</td>\n",
       "      <td>110101</td>\n",
       "    </tr>\n",
       "    <tr>\n",
       "      <th>2399</th>\n",
       "      <td>融资融券;员工持股;股权激励;化妆品;二线龙头;融资融券标的;出口型企业;行业龙头</td>\n",
       "      <td>600315.SHA</td>\n",
       "      <td>2019-01-02</td>\n",
       "      <td>220000</td>\n",
       "      <td>220300</td>\n",
       "      <td>220304</td>\n",
       "    </tr>\n",
       "    <tr>\n",
       "      <th>2400</th>\n",
       "      <td>无人机;大飞机;高端装备制造;通用航空;融资融券标的;央企;航母;十大军工集团;融资融券</td>\n",
       "      <td>600316.SHA</td>\n",
       "      <td>2019-01-02</td>\n",
       "      <td>650000</td>\n",
       "      <td>650200</td>\n",
       "      <td>650201</td>\n",
       "    </tr>\n",
       "  </tbody>\n",
       "</table>\n",
       "</div>"
      ],
      "text/plain": [
       "                                           concept  instrument       date  \\\n",
       "0                                                0  000001.SHA 2019-01-02   \n",
       "2397     融资融券标的;超涨;央企;特高压;智能电网;融资融券;大央企重组;预减;能源互联网  600312.SHA 2019-01-02   \n",
       "2398                         乡村振兴;低价小市值;生物育种;大豆;央企  600313.SHA 2019-01-02   \n",
       "2399     融资融券;员工持股;股权激励;化妆品;二线龙头;融资融券标的;出口型企业;行业龙头  600315.SHA 2019-01-02   \n",
       "2400  无人机;大飞机;高端装备制造;通用航空;融资融券标的;央企;航母;十大军工集团;融资融券  600316.SHA 2019-01-02   \n",
       "\n",
       "      industry_sw_level1  industry_sw_level2  industry_sw_level3  \n",
       "0                      0                   0                   0  \n",
       "2397              630000              630400              630401  \n",
       "2398              110000              110100              110101  \n",
       "2399              220000              220300              220304  \n",
       "2400              650000              650200              650201  "
      ]
     },
     "execution_count": 14,
     "metadata": {},
     "output_type": "execute_result"
    }
   ],
   "source": [
    "DataSource('industry_CN_STOCK_A').read(start_date='2019-01-01').head()"
   ]
  },
  {
   "cell_type": "code",
   "execution_count": 15,
   "metadata": {
    "machine_learning_studio": "true",
    "ml_studio_json": "{\"Description\":\"实验创建于2017/8/26\",\"Summary\":\"\",\"Graph\":{\"EdgesInternal\":[{\"DestinationInputPortId\":\"-162:instruments\",\"SourceOutputPortId\":\"287d2cb0-f53c-4101-bdf8-104b137c8601-8:data\"},{\"DestinationInputPortId\":\"-162:features\",\"SourceOutputPortId\":\"287d2cb0-f53c-4101-bdf8-104b137c8601-24:data\"},{\"DestinationInputPortId\":\"-59:input_ds\",\"SourceOutputPortId\":\"-162:data\"},{\"DestinationInputPortId\":\"-117:input_ds\",\"SourceOutputPortId\":\"-162:data\"}],\"ModuleNodes\":[{\"Id\":\"287d2cb0-f53c-4101-bdf8-104b137c8601-8\",\"ModuleId\":\"BigQuantSpace.instruments.instruments-v2\",\"ModuleParameters\":[{\"Name\":\"start_date\",\"Value\":\"2015-01-01\",\"ValueType\":\"Literal\",\"LinkedGlobalParameter\":null},{\"Name\":\"end_date\",\"Value\":\"2015-12-01\",\"ValueType\":\"Literal\",\"LinkedGlobalParameter\":null},{\"Name\":\"market\",\"Value\":\"CN_STOCK_A\",\"ValueType\":\"Literal\",\"LinkedGlobalParameter\":null},{\"Name\":\"instrument_list\",\"Value\":\"000001.SZA\",\"ValueType\":\"Literal\",\"LinkedGlobalParameter\":null},{\"Name\":\"max_count\",\"Value\":\"0\",\"ValueType\":\"Literal\",\"LinkedGlobalParameter\":null}],\"InputPortsInternal\":[{\"DataSourceId\":null,\"TrainedModelId\":null,\"TransformModuleId\":null,\"Name\":\"rolling_conf\",\"NodeId\":\"287d2cb0-f53c-4101-bdf8-104b137c8601-8\"}],\"OutputPortsInternal\":[{\"Name\":\"data\",\"NodeId\":\"287d2cb0-f53c-4101-bdf8-104b137c8601-8\",\"OutputType\":null}],\"UsePreviousResults\":true,\"moduleIdForCode\":1,\"IsPartOfPartialRun\":null,\"Comment\":\"\",\"CommentCollapsed\":true},{\"Id\":\"287d2cb0-f53c-4101-bdf8-104b137c8601-24\",\"ModuleId\":\"BigQuantSpace.input_features.input_features-v1\",\"ModuleParameters\":[{\"Name\":\"features\",\"Value\":\"# #号开始的表示注释\\n# 多个特征，每行一个，可以包含基础特征和衍生特征\\nopen\\nclose\\nhigh\\nlow\\namount\",\"ValueType\":\"Literal\",\"LinkedGlobalParameter\":null}],\"InputPortsInternal\":[{\"DataSourceId\":null,\"TrainedModelId\":null,\"TransformModuleId\":null,\"Name\":\"features_ds\",\"NodeId\":\"287d2cb0-f53c-4101-bdf8-104b137c8601-24\"}],\"OutputPortsInternal\":[{\"Name\":\"data\",\"NodeId\":\"287d2cb0-f53c-4101-bdf8-104b137c8601-24\",\"OutputType\":null}],\"UsePreviousResults\":true,\"moduleIdForCode\":3,\"IsPartOfPartialRun\":null,\"Comment\":\"\",\"CommentCollapsed\":true},{\"Id\":\"-162\",\"ModuleId\":\"BigQuantSpace.use_datasource.use_datasource-v1\",\"ModuleParameters\":[{\"Name\":\"datasource_id\",\"Value\":\"bar1d_CN_STOCK_A\",\"ValueType\":\"Literal\",\"LinkedGlobalParameter\":null},{\"Name\":\"start_date\",\"Value\":\"\",\"ValueType\":\"Literal\",\"LinkedGlobalParameter\":null},{\"Name\":\"end_date\",\"Value\":\"\",\"ValueType\":\"Literal\",\"LinkedGlobalParameter\":null}],\"InputPortsInternal\":[{\"DataSourceId\":null,\"TrainedModelId\":null,\"TransformModuleId\":null,\"Name\":\"instruments\",\"NodeId\":\"-162\"},{\"DataSourceId\":null,\"TrainedModelId\":null,\"TransformModuleId\":null,\"Name\":\"features\",\"NodeId\":\"-162\"}],\"OutputPortsInternal\":[{\"Name\":\"data\",\"NodeId\":\"-162\",\"OutputType\":null}],\"UsePreviousResults\":true,\"moduleIdForCode\":2,\"IsPartOfPartialRun\":null,\"Comment\":\"\",\"CommentCollapsed\":true},{\"Id\":\"-59\",\"ModuleId\":\"BigQuantSpace.Tplot.Tplot-v1\",\"ModuleParameters\":[{\"Name\":\"x\",\"Value\":\"date\",\"ValueType\":\"Literal\",\"LinkedGlobalParameter\":null},{\"Name\":\"y\",\"Value\":\"open\",\"ValueType\":\"Literal\",\"LinkedGlobalParameter\":null},{\"Name\":\"title\",\"Value\":\"开盘价折线图\",\"ValueType\":\"Literal\",\"LinkedGlobalParameter\":null},{\"Name\":\"chart_type\",\"Value\":\"spline\",\"ValueType\":\"Literal\",\"LinkedGlobalParameter\":null},{\"Name\":\"chart_options\",\"Value\":\"{'chart':{'height': 500}}\",\"ValueType\":\"Literal\",\"LinkedGlobalParameter\":null}],\"InputPortsInternal\":[{\"DataSourceId\":null,\"TrainedModelId\":null,\"TransformModuleId\":null,\"Name\":\"input_ds\",\"NodeId\":\"-59\"}],\"OutputPortsInternal\":[],\"UsePreviousResults\":true,\"moduleIdForCode\":10,\"IsPartOfPartialRun\":null,\"Comment\":\"绘制开盘价折线图\",\"CommentCollapsed\":false},{\"Id\":\"-117\",\"ModuleId\":\"BigQuantSpace.Tplot.Tplot-v1\",\"ModuleParameters\":[{\"Name\":\"x\",\"Value\":\"date\",\"ValueType\":\"Literal\",\"LinkedGlobalParameter\":null},{\"Name\":\"y\",\"Value\":\"open,high,low,close,amount\",\"ValueType\":\"Literal\",\"LinkedGlobalParameter\":null},{\"Name\":\"title\",\"Value\":\"K线图\",\"ValueType\":\"Literal\",\"LinkedGlobalParameter\":null},{\"Name\":\"chart_type\",\"Value\":\"candlestick\",\"ValueType\":\"Literal\",\"LinkedGlobalParameter\":null},{\"Name\":\"chart_options\",\"Value\":\"{'series': [{},{'type': 'column'}]}\",\"ValueType\":\"Literal\",\"LinkedGlobalParameter\":null}],\"InputPortsInternal\":[{\"DataSourceId\":null,\"TrainedModelId\":null,\"TransformModuleId\":null,\"Name\":\"input_ds\",\"NodeId\":\"-117\"}],\"OutputPortsInternal\":[],\"UsePreviousResults\":true,\"moduleIdForCode\":4,\"IsPartOfPartialRun\":null,\"Comment\":\"绘制K线图\",\"CommentCollapsed\":false}],\"SerializedClientData\":\"<?xml version='1.0' encoding='utf-16'?><DataV1 xmlns:xsd='http://www.w3.org/2001/XMLSchema' xmlns:xsi='http://www.w3.org/2001/XMLSchema-instance'><Meta /><NodePositions><NodePosition Node='287d2cb0-f53c-4101-bdf8-104b137c8601-8' Position='211,64,200,200'/><NodePosition Node='287d2cb0-f53c-4101-bdf8-104b137c8601-24' Position='556,66,200,200'/><NodePosition Node='-162' Position='371,178,200,200'/><NodePosition Node='-59' Position='215.17459106445312,304.0763854980469,200,200'/><NodePosition Node='-117' Position='569.5267944335938,317.09326171875,200,200'/></NodePositions><NodeGroups /></DataV1>\"},\"IsDraft\":true,\"ParentExperimentId\":null,\"WebService\":{\"IsWebServiceExperiment\":false,\"Inputs\":[],\"Outputs\":[],\"Parameters\":[{\"Name\":\"交易日期\",\"Value\":\"\",\"ParameterDefinition\":{\"Name\":\"交易日期\",\"FriendlyName\":\"交易日期\",\"DefaultValue\":\"\",\"ParameterType\":\"String\",\"HasDefaultValue\":true,\"IsOptional\":true,\"ParameterRules\":[],\"HasRules\":false,\"MarkupType\":0,\"CredentialDescriptor\":null}}],\"WebServiceGroupId\":null,\"SerializedClientData\":\"<?xml version='1.0' encoding='utf-16'?><DataV1 xmlns:xsd='http://www.w3.org/2001/XMLSchema' xmlns:xsi='http://www.w3.org/2001/XMLSchema-instance'><Meta /><NodePositions></NodePositions><NodeGroups /></DataV1>\"},\"DisableNodesUpdate\":false,\"Category\":\"user\",\"Tags\":[],\"IsPartialRun\":true}"
   },
   "outputs": [
    {
     "data": {
      "text/plain": [
       "[2019-05-04 13:19:55.324002] INFO: bigquant: instruments.v2 开始运行.."
      ]
     },
     "metadata": {
      "is_log": true,
      "status": "INFO"
     },
     "output_type": "display_data"
    },
    {
     "data": {
      "text/plain": [
       "[2019-05-04 13:19:55.411720] INFO: bigquant: 命中缓存"
      ]
     },
     "metadata": {
      "is_log": true,
      "status": "INFO"
     },
     "output_type": "display_data"
    },
    {
     "data": {
      "text/plain": [
       "[2019-05-04 13:19:55.413457] INFO: bigquant: instruments.v2 运行完成[0.089455s]."
      ]
     },
     "metadata": {
      "is_log": true,
      "status": "INFO"
     },
     "output_type": "display_data"
    },
    {
     "data": {
      "text/plain": [
       "[2019-05-04 13:19:55.416383] INFO: bigquant: input_features.v1 开始运行.."
      ]
     },
     "metadata": {
      "is_log": true,
      "status": "INFO"
     },
     "output_type": "display_data"
    },
    {
     "data": {
      "text/plain": [
       "[2019-05-04 13:19:55.441122] INFO: bigquant: 命中缓存"
      ]
     },
     "metadata": {
      "is_log": true,
      "status": "INFO"
     },
     "output_type": "display_data"
    },
    {
     "data": {
      "text/plain": [
       "[2019-05-04 13:19:55.443062] INFO: bigquant: input_features.v1 运行完成[0.026719s]."
      ]
     },
     "metadata": {
      "is_log": true,
      "status": "INFO"
     },
     "output_type": "display_data"
    },
    {
     "data": {
      "text/plain": [
       "[2019-05-04 13:19:55.446186] INFO: bigquant: use_datasource.v1 开始运行.."
      ]
     },
     "metadata": {
      "is_log": true,
      "status": "INFO"
     },
     "output_type": "display_data"
    },
    {
     "data": {
      "text/plain": [
       "[2019-05-04 13:19:55.473975] INFO: bigquant: 命中缓存"
      ]
     },
     "metadata": {
      "is_log": true,
      "status": "INFO"
     },
     "output_type": "display_data"
    },
    {
     "data": {
      "text/plain": [
       "[2019-05-04 13:19:55.475703] INFO: bigquant: use_datasource.v1 运行完成[0.029508s]."
      ]
     },
     "metadata": {
      "is_log": true,
      "status": "INFO"
     },
     "output_type": "display_data"
    },
    {
     "data": {
      "text/plain": [
       "[2019-05-04 13:19:55.479769] INFO: bigquant: Tplot.v1 开始运行.."
      ]
     },
     "metadata": {
      "is_log": true,
      "status": "INFO"
     },
     "output_type": "display_data"
    },
    {
     "data": {
      "text/plain": [
       "[2019-05-04 13:19:55.616578] INFO: bigquant: 命中缓存"
      ]
     },
     "metadata": {
      "is_log": true,
      "status": "INFO"
     },
     "output_type": "display_data"
    },
    {
     "data": {
      "text/html": [
       "<div id=\"bigchart-2988985cf8714050adacb1bf3f897957\" class=\"bigchart\"></div><div class=\"bigchart-data\"><pre style=\"display:none\">bigcharts-data-start/{\"chart\":{\"type\":\"spline\",\"renderTo\":\"bigchart-2988985cf8714050adacb1bf3f897957\",\"height\":500},\"stock\":true,\"title\":{\"text\":\"\\u5f00\\u76d8\\u4ef7\\u6298\\u7ebf\\u56fe\"},\"xAxis\":{\"type\":\"datetime\",\"title\":{\"text\":\"date\"}},\"legend\":{\"enabled\":true},\"series\":[{\"yAxis\":0,\"name\":\"open\",\"data\":[[1420416000000,1136.1486],[1420502400000,1126.201],[1420588800000,1105.5956],[1420675200000,1101.3323],[1420761600000,1058.7001],[1421020800000,1056.5685],[1421107200000,1040.9366],[1421193600000,1050.1736],[1421280000000,1055.1475],[1421366400000,1094.2269],[1421625600000,995.4623],[1421712000000,982.6726],[1421798400000,986.2253],[1421884800000,1018.91],[1421971200000,1020.3311],[1422230400000,1020.3311],[1422316800000,1019.6205],[1422403200000,985.5148],[1422489600000,981.9621],[1422576000000,989.778],[1422835200000,966.3303],[1422921600000,979.1199],[1423008000000,994.7518],[1423094400000,1016.0679],[1423180800000,972.7251],[1423440000000,959.2249],[1423526400000,958.5143],[1423612800000,979.1199],[1423699200000,976.9883],[1423785600000,989.778],[1424044800000,991.1991],[1424131200000,991.9096],[1424822400000,997.5939],[1424908800000,980.541],[1424995200000,999.015],[1425254400000,996.8834],[1425340800000,993.3307],[1425427200000,967.7513],[1425513600000,959.2249],[1425600000000,949.9879],[1425859200000,957.0933],[1425945600000,994.7518],[1426032000000,979.8305],[1426118400000,1008.9625],[1426204800000,1058.7001],[1426464000000,1072.9108],[1426550400000,1102.0428],[1426636800000,1091.3848],[1426723200000,1099.9113],[1426809600000,1079.3057],[1427068800000,1089.2532],[1427155200000,1096.3585],[1427241600000,1085.7004],[1427328000000,1055.8579],[1427414400000,1072.9108],[1427673600000,1082.1478],[1427760000000,1139.7013],[1427846400000,1124.0695],[1427932800000,1143.254],[1428019200000,1115.5431],[1428364800000,1147.5172],[1428451200000,1202.9391],[1428537600000,1275.4138],[1428624000000,1278.9666],[1428883200000,1461.8994],[1428969600000,1418.9023],[1429056000000,1401.7036],[1429142400000,1405.1433],[1429228800000,1504.8965],[1429488000000,1470.4988],[1429574400000,1403.4235],[1429660800000,1425.7819],[1429747200000,1460.1796],[1429833600000,1401.7036],[1430092800000,1393.9641],[1430179200000,1414.6027],[1430265600000,1432.6614],[1430352000000,1447.2804],[1430697600000,1436.1012],[1430784000000,1411.1628],[1430870400000,1360.4264],[1430956800000,1351.827],[1431043200000,1350.967],[1431302400000,1358.7065],[1431388800000,1374.1854],[1431475200000,1391.3843],[1431561600000,1375.9053],[1431648000000,1358.7065],[1431907200000,1307.1101],[1431993600000,1304.5303],[1432080000000,1376.7653],[1432166400000,1358.7065],[1432252800000,1368.1659],[1432512000000,1406.0033],[1432598400000,1430.0815],[1432684800000,1429.2217],[1432771200000,1418.9023],[1432857600000,1333.7682],[1433116800000,1318.2893],[1433203200000,1366.4459],[1433289600000,1356.1267],[1433376000000,1363.0062],[1433462400000,1436.1012],[1433721600000,1403.4235],[1433808000000,1492.8573],[1433894400000,1444.7006],[1433980800000,1434.3813],[1434067200000,1417.1825],[1434326400000,1421.4822],[1434412800000,1358.7065],[1434499200000,1361.2864],[1434585600000,1348.3872],[1434672000000,1311.4098],[1435017600000,1258.9534],[1435104000000,1289.9113],[1435190400000,1339.7878],[1435276800000,1258.9534],[1435536000000,1210.7966],[1435622400000,1164.3599],[1435708800000,1234.0151],[1435795200000,1195.3177],[1435881600000,1202.1973],[1436140800000,1229.7153],[1436227200000,1174.6792],[1436313600000,1187.5782],[1436400000000,1134.262],[1436486400000,1191.0181],[1436745600000,1238.3148],[1436832000000,1221.116],[1436918400000,1174.6792],[1437004800000,1169.5195],[1437091200000,1174.6792],[1437350400000,1186.7184],[1437436800000,1161.78],[1437523200000,1160.0602],[1437609600000,1157.4803],[1437696000000,1176.399],[1437955200000,1139.4216],[1438041600000,1048.2678],[1438128000000,1083.5254],[1438214400000,1084.3854],[1438300800000,1045.688],[1438560000000,1049.1278],[1438646400000,1098.1444],[1438732800000,1100.7242],[1438819200000,1074.926],[1438905600000,1084.3854],[1439164800000,1088.6851],[1439251200000,1110.1836],[1439337600000,1091.2649],[1439424000000,1075.786],[1439510400000,1091.2649],[1439769600000,1084.3854],[1439856000000,1074.926],[1439942400000,1040.5284],[1440028800000,1046.548],[1440115200000,1023.3296],[1440374400000,954.5343],[1440460800000,847.0417],[1440547200000,825.5432],[1440633600000,873.6999],[1440720000000,936.4756],[1440979200000,920.9966],[1441065600000,937.3355],[1441152000000,961.4138],[1441584000000,993.2316],[1441670400000,935.6156],[1441756800000,948.5147],[1441843200000,945.9349],[1441929600000,947.6548],[1442188800000,945.075],[1442275200000,919.2767],[1442361600000,910.6774],[1442448000000,933.0358],[1442534400000,932.1758],[1442793600000,920.1367],[1442880000000,931.3159],[1442966400000,933.8958],[1443052800000,925.2963],[1443139200000,919.2767],[1443398400000,908.0975],[1443484800000,898.6382],[1443571200000,894.3384],[1444262400000,933.0358],[1444348800000,924.4364],[1444608000000,942.4952],[1444694400000,963.1337],[1444780800000,949.3747],[1444867200000,941.6352],[1444953600000,963.9937],[1445212800000,969.1533],[1445299200000,963.1337],[1445385600000,970.8732],[1445472000000,967.4334],[1445558400000,979.4726],[1445817600000,997.5314],[1445904000000,988.9319],[1445990400000,985.4922],[1446076800000,971.7332],[1446163200000,971.7332],[1446422400000,969.1533],[1446508800000,958.834],[1446595200000,952.8145],[1446681600000,997.5314],[1446768000000,1033.6489],[1447027200000,1074.926],[1447113600000,1100.7242],[1447200000000,1092.1249],[1447286400000,1083.5254],[1447372800000,1050.8477],[1447632000000,1043.1083],[1447718400000,1067.1865],[1447804800000,1071.4863],[1447891200000,1066.3267],[1447977600000,1074.926],[1448236800000,1079.2257],[1448323200000,1067.1865],[1448409600000,1049.9878],[1448496000000,1062.8868],[1448582400000,1047.408],[1448841600000,1007.8506],[1448928000000,1006.1308]]}]}/bigcharts-data-end</pre></div>"
      ],
      "text/plain": [
       "<IPython.core.display.HTML object>"
      ]
     },
     "metadata": {},
     "output_type": "display_data"
    },
    {
     "data": {
      "text/plain": [
       "[2019-05-04 13:19:55.963499] INFO: bigquant: Tplot.v1 运行完成[0.483706s]."
      ]
     },
     "metadata": {
      "is_log": true,
      "status": "INFO"
     },
     "output_type": "display_data"
    },
    {
     "data": {
      "text/plain": [
       "[2019-05-04 13:19:55.967361] INFO: bigquant: Tplot.v1 开始运行.."
      ]
     },
     "metadata": {
      "is_log": true,
      "status": "INFO"
     },
     "output_type": "display_data"
    },
    {
     "data": {
      "text/plain": [
       "[2019-05-04 13:19:56.107775] INFO: bigquant: 命中缓存"
      ]
     },
     "metadata": {
      "is_log": true,
      "status": "INFO"
     },
     "output_type": "display_data"
    },
    {
     "data": {
      "text/html": [
       "<div id=\"bigchart-11ee00b378a5466b8fb2263be30e2200\" class=\"bigchart\"></div><div class=\"bigchart-data\"><pre style=\"display:none\">bigcharts-data-start/{\"chart\":{\"type\":\"candlestick\",\"renderTo\":\"bigchart-11ee00b378a5466b8fb2263be30e2200\",\"height\":400},\"yAxis\":[{\"labels\":{\"align\":\"right\",\"x\":-3},\"lineWidth\":2,\"title\":{\"text\":\"OHLC\"},\"height\":\"60%\"},{\"top\":\"65%\",\"offset\":0,\"labels\":{\"align\":\"right\",\"x\":-3},\"lineWidth\":2,\"height\":\"35%\"}],\"stock\":true,\"title\":{\"text\":\"K\\u7ebf\\u56fe\"},\"xAxis\":{\"type\":\"datetime\",\"title\":{\"text\":\"date\"}},\"legend\":{\"enabled\":true},\"series\":[{\"data\":[[1420416000000,1136.1486,1156.7542,1108.4376,1138.2803],[1420502400000,1126.201,1164.5701,1104.885,1121.2273],[1420588800000,1105.5956,1124.78,1087.1216,1099.9113],[1420675200000,1101.3323,1106.306,1058.7001,1062.9633],[1420761600000,1058.7001,1127.6222,1045.1998,1071.4897],[1421020800000,1056.5685,1069.3582,1030.2786,1049.4631],[1421107200000,1040.9366,1058.7001,1038.0945,1043.0682],[1421193600000,1050.1736,1080.0162,1044.4894,1052.3053],[1421280000000,1055.1475,1090.6742,1045.1998,1090.6742],[1421366400000,1094.2269,1109.8588,1078.5951,1092.0953],[1421625600000,995.4623,1035.2523,982.6726,982.6726],[1421712000000,982.6726,999.015,963.4882,982.6726],[1421798400000,986.2253,1037.384,976.9883,1024.5944],[1421884800000,1018.91,1031.6997,1006.1204,1016.0679],[1421971200000,1020.3311,1039.5156,1016.0679,1023.1732],[1422230400000,1020.3311,1026.0154,1006.1204,1018.91],[1422316800000,1019.6205,1021.0416,982.6726,994.0412],[1422403200000,985.5148,1016.0679,980.541,999.015],[1422489600000,981.9621,995.4623,976.9883,987.6464],[1422576000000,989.778,1003.2782,977.6989,989.778],[1422835200000,966.3303,980.541,962.7776,968.4619],[1422921600000,979.1199,994.0412,967.7513,991.1991],[1423008000000,994.7518,997.5939,973.4357,974.1462],[1423094400000,1016.0679,1025.3048,977.6989,979.8305],[1423180800000,972.7251,991.1991,952.1196,959.9354],[1423440000000,959.2249,972.0146,939.3299,960.646],[1423526400000,958.5143,981.9621,953.5406,978.4094],[1423612800000,979.1199,984.0937,972.0146,975.5673],[1423699200000,976.9883,987.6464,967.7513,984.8043],[1423785600000,989.778,1007.5414,983.3832,991.1991],[1424044800000,991.1991,995.4623,975.5673,989.0674],[1424131200000,991.9096,1002.5677,989.778,994.0412],[1424822400000,997.5939,998.3044,977.6989,980.541],[1424908800000,980.541,1000.436,966.3303,999.7255],[1424995200000,999.015,1006.1204,991.9096,994.0412],[1425254400000,996.8834,1001.1466,985.5148,996.8834],[1425340800000,993.3307,993.3307,965.6198,966.3303],[1425427200000,967.7513,974.8568,959.2249,964.1987],[1425513600000,959.2249,961.3565,944.3036,950.6985],[1425600000000,949.9879,959.9354,948.5668,954.9617],[1425859200000,957.0933,1018.91,946.4352,1005.4098],[1425945600000,994.7518,1003.2782,978.4094,978.4094],[1426032000000,979.8305,1000.436,979.8305,984.8043],[1426118400000,1008.9625,1062.9633,1000.436,1037.384],[1426204800000,1058.7001,1109.1482,1051.5947,1065.095],[1426464000000,1072.9108,1101.3323,1060.1212,1094.9375],[1426550400000,1102.0428,1122.6484,1083.5688,1094.2269],[1426636800000,1091.3848,1107.0166,1086.411,1102.0428],[1426723200000,1099.9113,1099.9113,1074.3319,1079.3057],[1426809600000,1079.3057,1104.885,1070.0687,1088.5426],[1427068800000,1089.2532,1105.5956,1089.2532,1096.3585],[1427155200000,1096.3585,1107.7272,1081.4373,1090.6742],[1427241600000,1085.7004,1088.5426,1057.9895,1059.4106],[1427328000000,1055.8579,1095.6479,1045.1998,1073.6213],[1427414400000,1072.9108,1086.411,1055.8579,1071.4897],[1427673600000,1082.1478,1132.5959,1072.9108,1112.7009],[1427760000000,1139.7013,1179.4913,1110.5693,1119.0957],[1427846400000,1124.0695,1146.8066,1104.885,1134.017],[1427932800000,1143.254,1146.8066,1109.8588,1122.6484],[1428019200000,1115.5431,1132.5959,1109.1482,1126.201],[1428364800000,1147.5172,1205.0707,1147.5172,1194.4126],[1428451200000,1202.9391,1284.6509,1183.0441,1273.2822],[1428537600000,1275.4138,1353.5729,1259.7821,1278.9666],[1428624000000,1278.9666,1406.8632,1268.3085,1406.8632],[1428883200000,1461.8994,1475.6584,1388.8044,1422.3422],[1428969600000,1418.9023,1418.9023,1384.5048,1401.7036],[1429056000000,1401.7036,1485.9778,1384.5048,1431.8015],[1429142400000,1405.1433,1470.4988,1397.4038,1461.8994],[1429228800000,1504.8965,1504.8965,1444.7006,1455.8799],[1429488000000,1470.4988,1479.0983,1389.6644,1401.7036],[1429574400000,1403.4235,1436.1012,1374.1854,1424.062],[1429660800000,1425.7819,1460.1796,1418.9023,1457.5997],[1429747200000,1460.1796,1465.3392,1424.062,1432.6614],[1429833600000,1401.7036,1419.7623,1376.7653,1387.9445],[1430092800000,1393.9641,1427.5018,1393.1041,1412.0228],[1430179200000,1414.6027,1494.5771,1394.824,1436.1012],[1430265600000,1432.6614,1440.4009,1393.1041,1431.8015],[1430352000000,1447.2804,1484.2578,1434.3813,1436.1012],[1430697600000,1436.1012,1436.1012,1399.9836,1420.6222],[1430784000000,1411.1628,1420.6222,1332.9083,1363.8662],[1430870400000,1360.4264,1401.7036,1332.0483,1351.827],[1430956800000,1351.827,1365.5861,1332.9083,1347.5272],[1431043200000,1350.967,1374.1854,1332.9083,1363.0062],[1431302400000,1358.7065,1386.2246,1332.0483,1378.4851],[1431388800000,1374.1854,1391.3843,1345.8074,1372.4656],[1431475200000,1391.3843,1397.4038,1353.5469,1365.5861],[1431561600000,1375.9053,1380.2051,1349.2472,1366.4459],[1431648000000,1358.7065,1365.5861,1313.1296,1328.6086],[1431907200000,1307.1101,1320.0092,1287.3314,1305.3901],[1431993600000,1304.5303,1353.5469,1294.2109,1340.6477],[1432080000000,1376.7653,1388.8044,1341.5077,1353.5469],[1432166400000,1358.7065,1366.4459,1343.2275,1357.8466],[1432252800000,1368.1659,1401.7036,1360.4264,1399.1238],[1432512000000,1406.0033,1436.9612,1406.0033,1427.5018],[1432598400000,1430.0815,1436.1012,1399.9836,1429.2217],[1432684800000,1429.2217,1454.1599,1410.303,1417.1825],[1432771200000,1418.9023,1419.7623,1326.8887,1332.9083],[1432857600000,1333.7682,1347.5272,1299.3706,1317.4293],[1433116800000,1318.2893,1374.1854,1306.2501,1367.3059],[1433203200000,1366.4459,1367.3059,1334.6282,1356.1267],[1433289600000,1356.1267,1371.6056,1332.9083,1361.2864],[1433376000000,1363.0062,1425.7819,1346.6674,1407.7231],[1433462400000,1436.1012,1444.7006,1378.4851,1401.7036],[1433721600000,1403.4235,1500.5968,1392.2443,1486.8376],[1433808000000,1492.8573,1500.5968,1434.3813,1460.1796],[1433894400000,1444.7006,1455.8799,1421.4822,1434.3813],[1433980800000,1434.3813,1442.1207,1406.0033,1417.1825],[1434067200000,1417.1825,1430.0815,1402.5635,1419.7623],[1434326400000,1421.4822,1427.5018,1367.3059,1369.0258],[1434412800000,1358.7065,1381.0649,1332.9083,1344.9475],[1434499200000,1361.2864,1366.4459,1328.6086,1352.6869],[1434585600000,1348.3872,1348.3872,1290.7712,1322.589],[1434672000000,1311.4098,1323.449,1246.9142,1258.0934],[1435017600000,1258.9534,1287.3314,1213.3765,1285.6116],[1435104000000,1289.9113,1301.0905,1264.113,1300.2306],[1435190400000,1339.7878,1344.0875,1269.2727,1278.7321],[1435276800000,1258.9534,1285.6116,1150.6008,1184.1385],[1435536000000,1210.7966,1216.8163,1096.4246,1166.0797],[1435622400000,1164.3599,1250.354,1150.6008,1250.354],[1435708800000,1234.0151,1254.6537,1181.5587,1197.0376],[1435795200000,1195.3177,1230.5753,1150.6008,1182.4187],[1435881600000,1202.1973,1203.0573,1099.8644,1123.9426],[1436140800000,1229.7153,1230.5753,1142.8613,1193.5979],[1436227200000,1174.6792,1259.8134,1135.9818,1259.8134],[1436313600000,1187.5782,1203.9171,1134.262,1134.262],[1436400000000,1134.262,1241.7545,1041.3883,1226.2756],[1436486400000,1191.0181,1320.8691,1170.3795,1277.8721],[1436745600000,1238.3148,1280.4519,1214.2365,1241.7545],[1436832000000,1221.116,1236.595,1161.78,1192.7379],[1436918400000,1174.6792,1200.4774,1152.3207,1167.7997],[1437004800000,1169.5195,1183.2786,1154.0406,1169.5195],[1437091200000,1174.6792,1198.7576,1163.5,1188.4382],[1437350400000,1186.7184,1186.7184,1163.5,1169.5195],[1437436800000,1161.78,1172.9594,1150.6008,1166.9397],[1437523200000,1160.0602,1164.3599,1147.161,1162.64],[1437609600000,1157.4803,1182.4187,1153.1807,1175.5391],[1437696000000,1176.399,1178.1189,1145.4412,1150.6008],[1437955200000,1139.4216,1145.4412,1035.3688,1069.7664],[1438041600000,1048.2678,1097.2845,1044.8281,1085.2454],[1438128000000,1083.5254,1085.2454,1064.6067,1083.5254],[1438214400000,1084.3854,1086.9652,1051.7076,1054.2875],[1438300800000,1045.688,1068.0465,1033.6489,1062.8868],[1438560000000,1049.1278,1105.0239,1044.8281,1102.4441],[1438646400000,1098.1444,1117.0631,1082.6655,1105.8839],[1438732800000,1100.7242,1113.6234,1080.9457,1082.6655],[1438819200000,1074.926,1094.7047,1068.9065,1077.5059],[1438905600000,1084.3854,1093.8447,1078.3658,1084.3854],[1439164800000,1088.6851,1117.0631,1079.2257,1111.0436],[1439251200000,1110.1836,1113.6234,1099.8644,1104.1641],[1439337600000,1091.2649,1098.1444,1080.0857,1080.9457],[1439424000000,1075.786,1089.545,1068.0465,1080.9457],[1439510400000,1091.2649,1096.4246,1081.8055,1086.9652],[1439769600000,1084.3854,1091.2649,1070.6263,1078.3658],[1439856000000,1074.926,1095.5646,1027.6293,1055.1473],[1439942400000,1040.5284,1051.7076,1023.3296,1051.7076],[1440028800000,1046.548,1046.548,1023.3296,1036.2288],[1440115200000,1023.3296,1031.0691,985.4922,988.9319],[1440374400000,954.5343,960.5539,890.0388,890.0388],[1440460800000,847.0417,890.0388,801.4648,813.504],[1440547200000,825.5432,879.7195,799.745,852.2014],[1440633600000,873.6999,937.3355,847.9017,928.7361],[1440720000000,936.4756,953.6744,907.2375,931.3159],[1440979200000,920.9966,951.9545,901.218,951.9545],[1441065600000,937.3355,998.3913,912.3972,994.9515],[1441152000000,961.4138,1031.929,951.0945,1018.1699],[1441584000000,993.2316,994.0916,936.4756,936.4756],[1441670400000,935.6156,958.834,910.6774,945.9349],[1441756800000,948.5147,962.2738,935.6156,954.5343],[1441843200000,945.9349,961.4138,940.7753,950.2346],[1441929600000,947.6548,956.2542,935.6156,942.4952],[1442188800000,945.075,945.9349,898.6382,934.7557],[1442275200000,919.2767,933.0358,902.9379,908.9575],[1442361600000,910.6774,952.8145,904.6578,937.3355],[1442448000000,933.0358,957.9741,926.1562,926.1562],[1442534400000,932.1758,942.4952,922.7165,929.596],[1442793600000,920.1367,936.4756,915.837,930.456],[1442880000000,931.3159,951.0945,930.456,942.4952],[1442966400000,933.8958,938.1954,918.4168,920.1367],[1443052800000,925.2963,929.596,917.5569,920.9966],[1443139200000,919.2767,920.9966,898.6382,907.2375],[1443398400000,908.0975,910.6774,896.9183,905.5177],[1443484800000,898.6382,908.0975,887.4589,892.6186],[1443571200000,894.3384,910.6774,893.4785,902.0779],[1444262400000,933.0358,936.4756,920.1367,920.1367],[1444348800000,924.4364,941.6352,921.8566,937.3355],[1444608000000,942.4952,978.6127,938.1954,965.7136],[1444694400000,963.1337,968.2934,953.6744,957.1141],[1444780800000,949.3747,958.834,940.7753,944.215],[1444867200000,941.6352,960.5539,940.7753,960.5539],[1444953600000,963.9937,971.7332,959.694,965.7136],[1445212800000,969.1533,976.0328,958.834,968.2934],[1445299200000,963.1337,978.6127,962.2738,973.453],[1445385600000,970.8732,1010.4305,961.4138,964.8536],[1445472000000,967.4334,980.3325,961.4138,974.313],[1445558400000,979.4726,991.5118,975.1729,986.3521],[1445817600000,997.5314,1015.5901,983.7723,990.6519],[1445904000000,988.9319,1000.9711,975.1729,987.2121],[1445990400000,985.4922,987.2121,967.4334,969.1533],[1446076800000,971.7332,976.8928,967.4334,969.1533],[1446163200000,971.7332,982.0524,969.1533,976.8928],[1446422400000,969.1533,973.453,954.5343,957.9741],[1446508800000,958.834,963.9937,946.7949,950.2346],[1446595200000,952.8145,1006.1308,950.2346,1005.2708],[1446681600000,997.5314,1080.9457,993.2316,1037.9486],[1446768000000,1033.6489,1067.1865,1025.0494,1065.4667],[1447027200000,1074.926,1150.6008,1071.4863,1112.7634],[1447113600000,1100.7242,1123.9426,1084.3854,1096.4246],[1447200000000,1092.1249,1099.0044,1064.6067,1079.2257],[1447286400000,1083.5254,1087.8252,1056.0073,1066.3267],[1447372800000,1050.8477,1073.2062,1048.2678,1052.5676],[1447632000000,1043.1083,1065.4667,1039.6685,1061.167],[1447718400000,1067.1865,1092.1249,1062.8868,1074.926],[1447804800000,1071.4863,1092.1249,1058.5872,1068.0465],[1447891200000,1066.3267,1075.786,1060.307,1074.926],[1447977600000,1074.926,1082.6655,1068.0465,1079.2257],[1448236800000,1079.2257,1083.5254,1064.6067,1070.6263],[1448323200000,1067.1865,1070.6263,1045.688,1056.0073],[1448409600000,1049.9878,1063.7468,1046.548,1059.4471],[1448496000000,1062.8868,1064.6067,1049.1278,1051.7076],[1448582400000,1047.408,1049.1278,991.5118,1008.7106],[1448841600000,1007.8506,1020.7498,988.9319,1009.5706],[1448928000000,1006.1308,1019.8898,989.7919,1010.4305]],\"type\":\"candlestick\",\"name\":\"OHLC\",\"yAxis\":0},{\"yAxis\":1,\"type\":\"column\",\"name\":\"amount\",\"data\":[[1420416000000,4565387846.4],[1420502400000,3453446167.7],[1420588800000,2634796408.8],[1420675200000,2128003431.7],[1420761600000,3835378099.9],[1421020800000,2293104602.0],[1421107200000,1204987148.9],[1421193600000,1889296679.4],[1421280000000,1868795909.7],[1421366400000,2403346194.6],[1421625600000,3016203087.3],[1421712000000,2064280554.9],[1421798400000,2758192757.0],[1421884800000,1801436255.4],[1421971200000,2108746796.1],[1422230400000,1508446593.2],[1422316800000,1881058964.7],[1422403200000,1742175735.9],[1422489600000,1408825355.9],[1422576000000,1298735718.9],[1422835200000,1176949559.7],[1422921600000,1217876590.2],[1423008000000,1122666755.3],[1423094400000,2710523885.9],[1423180800000,1411298590.4],[1423440000000,1273141159.6],[1423526400000,991823743.8],[1423612800000,763414581.5],[1423699200000,838611239.4],[1423785600000,1244514793.5],[1424044800000,999898468.8],[1424131200000,954430237.8],[1424822400000,799193628.9],[1424908800000,1424064862.1],[1424995200000,1115146052.8],[1425254400000,1423603269.2],[1425340800000,1457305035.4],[1425427200000,1108145418.6],[1425513600000,1109151960.1],[1425600000000,748959127.7],[1425859200000,3067985540.6],[1425945600000,1927581938.5],[1426032000000,1258356122.2],[1426118400000,4805590363.2],[1426204800000,4799935194.5],[1426464000000,3387198610.3],[1426550400000,3020408697.6],[1426636800000,2823982778.4],[1426723200000,2413982124.2],[1426809600000,3027315327.8],[1427068800000,2750596675.2],[1427155200000,2396553386.0],[1427241600000,2396613996.9],[1427328000000,2246003758.3],[1427414400000,1577607058.0],[1427673600000,4014724425.8],[1427760000000,4393135215.4],[1427846400000,2608976849.8],[1427932800000,2222670592.8],[1428019200000,2262844473.1],[1428364800000,4898119462.7],[1428451200000,5784459038.7],[1428537600000,5794631956.5],[1428624000000,6339648863.2],[1428883200000,8021097201.5],[1428969600000,4020209605.4],[1429056000000,5746875158.8],[1429142400000,4102824562.5],[1429228800000,4447333030.2],[1429488000000,5776437953.0],[1429574400000,3943357049.2],[1429660800000,4640335829.8],[1429747200000,3893522074.1],[1429833600000,3959606489.8],[1430092800000,4027939224.7],[1430179200000,8014319269.8],[1430265600000,3550493337.4],[1430352000000,4899379904.0],[1430697600000,2351547449.3],[1430784000000,3685372405.2],[1430870400000,3107565652.2],[1430956800000,1968941843.8],[1431043200000,2163108919.9],[1431302400000,3349066839.6],[1431388800000,3166864484.5],[1431475200000,2807445575.7],[1431561600000,2283604814.1],[1431648000000,2718885235.7],[1431907200000,2327558365.8],[1431993600000,2959557085.5],[1432080000000,4115472698.3],[1432166400000,2214024935.8],[1432252800000,4233675705.5],[1432512000000,4518316427.6],[1432598400000,4607493713.7],[1432684800000,3888992245.7],[1432771200000,4404154742.9],[1432857600000,3103543670.9],[1433116800000,3365459275.2],[1433203200000,2991564977.7],[1433289600000,3103860651.2],[1433376000000,5971846070.6],[1433462400000,4681142525.9],[1433721600000,8596942094.4],[1433808000000,5601775951.1],[1433894400000,3679460604.6],[1433980800000,2811189687.3],[1434067200000,3131996558.6],[1434326400000,3547149534.9],[1434412800000,2858213720.6],[1434499200000,2689990222.2],[1434585600000,2468466176.7],[1434672000000,2345768673.7],[1435017600000,2643179923.8],[1435104000000,2290363605.1],[1435190400000,3179774392.9],[1435276800000,3623880484.6],[1435536000000,3570319306.5],[1435622400000,3572978441.4],[1435708800000,2629096356.3],[1435795200000,2762337227.5],[1435881600000,3473335630.3],[1436140800000,4660186339.1],[1436227200000,6808003723.3],[1436313600000,6762103350.9],[1436400000000,5904698616.9],[1436486400000,6891581207.2],[1436745600000,4737400470.7],[1436832000000,3608580675.9],[1436918400000,2225696912.6],[1437004800000,1884221624.9],[1437091200000,2304999342.0],[1437350400000,1852316440.9],[1437436800000,1529148267.3],[1437523200000,1528783830.5],[1437609600000,2022035341.3],[1437696000000,1815658962.5],[1437955200000,2289450164.7],[1438041600000,2509971532.0],[1438128000000,1210759096.3],[1438214400000,962337460.8],[1438300800000,1472860295.7],[1438560000000,1757739733.4],[1438646400000,988843500.5],[1438732800000,704539354.3],[1438819200000,567208519.2],[1438905600000,785501392.0],[1439164800000,1346325151.2],[1439251200000,1065323949.3],[1439337600000,869580822.8],[1439424000000,760265710.3],[1439510400000,1043762737.6],[1439769600000,852588992.0],[1439856000000,1459671045.1],[1439942400000,1157078547.5],[1440028800000,815652760.5],[1440115200000,1095668267.9],[1440374400000,1601529034.6],[1440460800000,2122788584.8],[1440547200000,2460482141.3],[1440633600000,1912163265.6],[1440720000000,1728745630.4],[1440979200000,1578261442.4],[1441065600000,3003860703.8],[1441152000000,3273803293.0],[1441584000000,1544055075.1],[1441670400000,815241863.3],[1441756800000,940582957.0],[1441843200000,514578386.5],[1441929600000,469297504.8],[1442188800000,813927117.1],[1442275200000,579042247.0],[1442361600000,612767028.6],[1442448000000,682338188.7],[1442534400000,345063783.7],[1442793600000,416851084.5],[1442880000000,541007302.4],[1442966400000,399583544.6],[1443052800000,277274187.9],[1443139200000,471537653.0],[1443398400000,209186171.5],[1443484800000,347612298.6],[1443571200000,383230180.0],[1444262400000,533806134.1],[1444348800000,516310498.0],[1444608000000,950602307.7],[1444694400000,401600928.8],[1444780800000,462963473.8],[1444867200000,539103671.6],[1444953600000,640488894.1],[1445212800000,814910975.0],[1445299200000,807642379.7],[1445385600000,1523591977.0],[1445472000000,928960028.8],[1445558400000,1073981531.3],[1445817600000,1260872031.5],[1445904000000,664648826.8],[1445990400000,619790793.2],[1446076800000,357830452.0],[1446163200000,607980997.1],[1446422400000,544000187.0],[1446508800000,434818762.6],[1446595200000,1493255541.7],[1446681600000,2780266755.8],[1446768000000,1781331280.0],[1447027200000,3137641551.2],[1447113600000,1438707529.7],[1447200000000,1280174417.2],[1447286400000,833753298.1],[1447372800000,722252994.2],[1447632000000,685977382.9],[1447718400000,1315319787.3],[1447804800000,991513834.8],[1447891200000,585570983.3],[1447977600000,747487174.7],[1448236800000,760493340.7],[1448323200000,812675943.5],[1448409600000,629507063.6],[1448496000000,679692129.9],[1448582400000,867702430.6],[1448841600000,770221398.4],[1448928000000,793118214.1]]}]}/bigcharts-data-end</pre></div>"
      ],
      "text/plain": [
       "<IPython.core.display.HTML object>"
      ]
     },
     "metadata": {},
     "output_type": "display_data"
    },
    {
     "data": {
      "text/plain": [
       "[2019-05-04 13:19:56.420775] INFO: bigquant: Tplot.v1 运行完成[0.453402s]."
      ]
     },
     "metadata": {
      "is_log": true,
      "status": "INFO"
     },
     "output_type": "display_data"
    }
   ],
   "source": [
    "# 本代码由可视化策略环境自动生成 2019年5月4日 13:19\n",
    "# 本代码单元只能在可视化模式下编辑。您也可以拷贝代码，粘贴到新建的代码单元或者策略，然后修改。\n",
    "\n",
    "\n",
    "m1 = M.instruments.v2(\n",
    "    start_date='2015-01-01',\n",
    "    end_date='2015-12-01',\n",
    "    market='CN_STOCK_A',\n",
    "    instrument_list='000001.SZA',\n",
    "    max_count=0\n",
    ")\n",
    "\n",
    "m3 = M.input_features.v1(\n",
    "    features=\"\"\"# #号开始的表示注释\n",
    "# 多个特征，每行一个，可以包含基础特征和衍生特征\n",
    "open\n",
    "close\n",
    "high\n",
    "low\n",
    "amount\"\"\"\n",
    ")\n",
    "\n",
    "m2 = M.use_datasource.v1(\n",
    "    instruments=m1.data,\n",
    "    features=m3.data,\n",
    "    datasource_id='bar1d_CN_STOCK_A',\n",
    "    start_date='',\n",
    "    end_date=''\n",
    ")\n",
    "\n",
    "m10 = M.Tplot.v1(\n",
    "    input_ds=m2.data,\n",
    "    x='date',\n",
    "    y='open',\n",
    "    title='开盘价折线图',\n",
    "    chart_type='spline',\n",
    "    chart_options={'chart':{'height': 500}}\n",
    ")\n",
    "\n",
    "m4 = M.Tplot.v1(\n",
    "    input_ds=m2.data,\n",
    "    x='date',\n",
    "    y='open,high,low,close,amount',\n",
    "    title='K线图',\n",
    "    chart_type='candlestick',\n",
    "    chart_options={'series': [{},{'type': 'column'}]}\n",
    ")\n"
   ]
  },
  {
   "cell_type": "code",
   "execution_count": 16,
   "metadata": {},
   "outputs": [
    {
     "data": {
      "text/html": [
       "<div>\n",
       "<style scoped>\n",
       "    .dataframe tbody tr th:only-of-type {\n",
       "        vertical-align: middle;\n",
       "    }\n",
       "\n",
       "    .dataframe tbody tr th {\n",
       "        vertical-align: top;\n",
       "    }\n",
       "\n",
       "    .dataframe thead th {\n",
       "        text-align: right;\n",
       "    }\n",
       "</style>\n",
       "<table border=\"1\" class=\"dataframe\">\n",
       "  <thead>\n",
       "    <tr style=\"text-align: right;\">\n",
       "      <th></th>\n",
       "      <th>instrument</th>\n",
       "      <th>open</th>\n",
       "      <th>close</th>\n",
       "      <th>low</th>\n",
       "      <th>high</th>\n",
       "      <th>amount</th>\n",
       "    </tr>\n",
       "    <tr>\n",
       "      <th>date</th>\n",
       "      <th></th>\n",
       "      <th></th>\n",
       "      <th></th>\n",
       "      <th></th>\n",
       "      <th></th>\n",
       "      <th></th>\n",
       "    </tr>\n",
       "  </thead>\n",
       "  <tbody>\n",
       "    <tr>\n",
       "      <th>2015-01-05</th>\n",
       "      <td>000001.SZA</td>\n",
       "      <td>1136.148560</td>\n",
       "      <td>1138.280273</td>\n",
       "      <td>1108.437622</td>\n",
       "      <td>1156.754150</td>\n",
       "      <td>4.565388e+09</td>\n",
       "    </tr>\n",
       "    <tr>\n",
       "      <th>2015-01-06</th>\n",
       "      <td>000001.SZA</td>\n",
       "      <td>1126.201050</td>\n",
       "      <td>1121.227295</td>\n",
       "      <td>1104.885010</td>\n",
       "      <td>1164.570068</td>\n",
       "      <td>3.453446e+09</td>\n",
       "    </tr>\n",
       "    <tr>\n",
       "      <th>2015-01-07</th>\n",
       "      <td>000001.SZA</td>\n",
       "      <td>1105.595581</td>\n",
       "      <td>1099.911255</td>\n",
       "      <td>1087.121582</td>\n",
       "      <td>1124.780029</td>\n",
       "      <td>2.634796e+09</td>\n",
       "    </tr>\n",
       "    <tr>\n",
       "      <th>2015-01-08</th>\n",
       "      <td>000001.SZA</td>\n",
       "      <td>1101.332275</td>\n",
       "      <td>1062.963257</td>\n",
       "      <td>1058.700073</td>\n",
       "      <td>1106.306030</td>\n",
       "      <td>2.128003e+09</td>\n",
       "    </tr>\n",
       "    <tr>\n",
       "      <th>2015-01-09</th>\n",
       "      <td>000001.SZA</td>\n",
       "      <td>1058.700073</td>\n",
       "      <td>1071.489746</td>\n",
       "      <td>1045.199829</td>\n",
       "      <td>1127.622192</td>\n",
       "      <td>3.835378e+09</td>\n",
       "    </tr>\n",
       "  </tbody>\n",
       "</table>\n",
       "</div>"
      ],
      "text/plain": [
       "            instrument         open        close          low         high  \\\n",
       "date                                                                         \n",
       "2015-01-05  000001.SZA  1136.148560  1138.280273  1108.437622  1156.754150   \n",
       "2015-01-06  000001.SZA  1126.201050  1121.227295  1104.885010  1164.570068   \n",
       "2015-01-07  000001.SZA  1105.595581  1099.911255  1087.121582  1124.780029   \n",
       "2015-01-08  000001.SZA  1101.332275  1062.963257  1058.700073  1106.306030   \n",
       "2015-01-09  000001.SZA  1058.700073  1071.489746  1045.199829  1127.622192   \n",
       "\n",
       "                  amount  \n",
       "date                      \n",
       "2015-01-05  4.565388e+09  \n",
       "2015-01-06  3.453446e+09  \n",
       "2015-01-07  2.634796e+09  \n",
       "2015-01-08  2.128003e+09  \n",
       "2015-01-09  3.835378e+09  "
      ]
     },
     "execution_count": 16,
     "metadata": {},
     "output_type": "execute_result"
    }
   ],
   "source": [
    "df = m2.data.read_df().set_index('date')\n",
    "df.head()"
   ]
  },
  {
   "cell_type": "code",
   "execution_count": 17,
   "metadata": {},
   "outputs": [
    {
     "data": {
      "text/html": [
       "<div id=\"bigchart-9d75c79efb004b58a2961a081ea9e4c5\" class=\"bigchart\"></div><div class=\"bigchart-data\"><pre style=\"display:none\">bigcharts-data-start/{\"chart\":{\"type\":\"spline\",\"renderTo\":\"bigchart-9d75c79efb004b58a2961a081ea9e4c5\",\"height\":400},\"stock\":true,\"title\":{\"text\":\"\\u6700\\u4f4e\\u4ef7\\u683c\"},\"xAxis\":{\"type\":\"datetime\",\"title\":{\"text\":\"date\"}},\"legend\":{\"enabled\":true},\"series\":[{\"yAxis\":0,\"name\":\"low\",\"data\":[[1420416000000,1108.4376],[1420502400000,1104.885],[1420588800000,1087.1216],[1420675200000,1058.7001],[1420761600000,1045.1998],[1421020800000,1030.2786],[1421107200000,1038.0945],[1421193600000,1044.4894],[1421280000000,1045.1998],[1421366400000,1078.5951],[1421625600000,982.6726],[1421712000000,963.4882],[1421798400000,976.9883],[1421884800000,1006.1204],[1421971200000,1016.0679],[1422230400000,1006.1204],[1422316800000,982.6726],[1422403200000,980.541],[1422489600000,976.9883],[1422576000000,977.6989],[1422835200000,962.7776],[1422921600000,967.7513],[1423008000000,973.4357],[1423094400000,977.6989],[1423180800000,952.1196],[1423440000000,939.3299],[1423526400000,953.5406],[1423612800000,972.0146],[1423699200000,967.7513],[1423785600000,983.3832],[1424044800000,975.5673],[1424131200000,989.778],[1424822400000,977.6989],[1424908800000,966.3303],[1424995200000,991.9096],[1425254400000,985.5148],[1425340800000,965.6198],[1425427200000,959.2249],[1425513600000,944.3036],[1425600000000,948.5668],[1425859200000,946.4352],[1425945600000,978.4094],[1426032000000,979.8305],[1426118400000,1000.436],[1426204800000,1051.5947],[1426464000000,1060.1212],[1426550400000,1083.5688],[1426636800000,1086.411],[1426723200000,1074.3319],[1426809600000,1070.0687],[1427068800000,1089.2532],[1427155200000,1081.4373],[1427241600000,1057.9895],[1427328000000,1045.1998],[1427414400000,1055.8579],[1427673600000,1072.9108],[1427760000000,1110.5693],[1427846400000,1104.885],[1427932800000,1109.8588],[1428019200000,1109.1482],[1428364800000,1147.5172],[1428451200000,1183.0441],[1428537600000,1259.7821],[1428624000000,1268.3085],[1428883200000,1388.8044],[1428969600000,1384.5048],[1429056000000,1384.5048],[1429142400000,1397.4038],[1429228800000,1444.7006],[1429488000000,1389.6644],[1429574400000,1374.1854],[1429660800000,1418.9023],[1429747200000,1424.062],[1429833600000,1376.7653],[1430092800000,1393.1041],[1430179200000,1394.824],[1430265600000,1393.1041],[1430352000000,1434.3813],[1430697600000,1399.9836],[1430784000000,1332.9083],[1430870400000,1332.0483],[1430956800000,1332.9083],[1431043200000,1332.9083],[1431302400000,1332.0483],[1431388800000,1345.8074],[1431475200000,1353.5469],[1431561600000,1349.2472],[1431648000000,1313.1296],[1431907200000,1287.3314],[1431993600000,1294.2109],[1432080000000,1341.5077],[1432166400000,1343.2275],[1432252800000,1360.4264],[1432512000000,1406.0033],[1432598400000,1399.9836],[1432684800000,1410.303],[1432771200000,1326.8887],[1432857600000,1299.3706],[1433116800000,1306.2501],[1433203200000,1334.6282],[1433289600000,1332.9083],[1433376000000,1346.6674],[1433462400000,1378.4851],[1433721600000,1392.2443],[1433808000000,1434.3813],[1433894400000,1421.4822],[1433980800000,1406.0033],[1434067200000,1402.5635],[1434326400000,1367.3059],[1434412800000,1332.9083],[1434499200000,1328.6086],[1434585600000,1290.7712],[1434672000000,1246.9142],[1435017600000,1213.3765],[1435104000000,1264.113],[1435190400000,1269.2727],[1435276800000,1150.6008],[1435536000000,1096.4246],[1435622400000,1150.6008],[1435708800000,1181.5587],[1435795200000,1150.6008],[1435881600000,1099.8644],[1436140800000,1142.8613],[1436227200000,1135.9818],[1436313600000,1134.262],[1436400000000,1041.3883],[1436486400000,1170.3795],[1436745600000,1214.2365],[1436832000000,1161.78],[1436918400000,1152.3207],[1437004800000,1154.0406],[1437091200000,1163.5],[1437350400000,1163.5],[1437436800000,1150.6008],[1437523200000,1147.161],[1437609600000,1153.1807],[1437696000000,1145.4412],[1437955200000,1035.3688],[1438041600000,1044.8281],[1438128000000,1064.6067],[1438214400000,1051.7076],[1438300800000,1033.6489],[1438560000000,1044.8281],[1438646400000,1082.6655],[1438732800000,1080.9457],[1438819200000,1068.9065],[1438905600000,1078.3658],[1439164800000,1079.2257],[1439251200000,1099.8644],[1439337600000,1080.0857],[1439424000000,1068.0465],[1439510400000,1081.8055],[1439769600000,1070.6263],[1439856000000,1027.6293],[1439942400000,1023.3296],[1440028800000,1023.3296],[1440115200000,985.4922],[1440374400000,890.0388],[1440460800000,801.4648],[1440547200000,799.745],[1440633600000,847.9017],[1440720000000,907.2375],[1440979200000,901.218],[1441065600000,912.3972],[1441152000000,951.0945],[1441584000000,936.4756],[1441670400000,910.6774],[1441756800000,935.6156],[1441843200000,940.7753],[1441929600000,935.6156],[1442188800000,898.6382],[1442275200000,902.9379],[1442361600000,904.6578],[1442448000000,926.1562],[1442534400000,922.7165],[1442793600000,915.837],[1442880000000,930.456],[1442966400000,918.4168],[1443052800000,917.5569],[1443139200000,898.6382],[1443398400000,896.9183],[1443484800000,887.4589],[1443571200000,893.4785],[1444262400000,920.1367],[1444348800000,921.8566],[1444608000000,938.1954],[1444694400000,953.6744],[1444780800000,940.7753],[1444867200000,940.7753],[1444953600000,959.694],[1445212800000,958.834],[1445299200000,962.2738],[1445385600000,961.4138],[1445472000000,961.4138],[1445558400000,975.1729],[1445817600000,983.7723],[1445904000000,975.1729],[1445990400000,967.4334],[1446076800000,967.4334],[1446163200000,969.1533],[1446422400000,954.5343],[1446508800000,946.7949],[1446595200000,950.2346],[1446681600000,993.2316],[1446768000000,1025.0494],[1447027200000,1071.4863],[1447113600000,1084.3854],[1447200000000,1064.6067],[1447286400000,1056.0073],[1447372800000,1048.2678],[1447632000000,1039.6685],[1447718400000,1062.8868],[1447804800000,1058.5872],[1447891200000,1060.307],[1447977600000,1068.0465],[1448236800000,1064.6067],[1448323200000,1045.688],[1448409600000,1046.548],[1448496000000,1049.1278],[1448582400000,991.5118],[1448841600000,988.9319],[1448928000000,989.7919]]}]}/bigcharts-data-end</pre></div>"
      ],
      "text/plain": [
       "<IPython.core.display.HTML object>"
      ]
     },
     "metadata": {},
     "output_type": "display_data"
    }
   ],
   "source": [
    "T.plot(df[['low']], title='最低价格', chart_type='spline')"
   ]
  },
  {
   "cell_type": "code",
   "execution_count": 18,
   "metadata": {},
   "outputs": [
    {
     "data": {
      "text/html": [
       "<div id=\"bigchart-0a5368d422694b64b9618b8234ba4a4a\" class=\"bigchart\"></div><div class=\"bigchart-data\"><pre style=\"display:none\">bigcharts-data-start/{\"chart\":{\"type\":\"area\",\"renderTo\":\"bigchart-0a5368d422694b64b9618b8234ba4a4a\",\"height\":400},\"stock\":true,\"title\":{\"text\":\"\\u6700\\u9ad8\\u6700\\u4f4e\\u4ef7\\u683c\"},\"xAxis\":{\"type\":\"datetime\",\"title\":{\"text\":\"date\"}},\"legend\":{\"enabled\":true},\"series\":[{\"yAxis\":0,\"name\":\"low\",\"data\":[[1420416000000,1108.4376],[1420502400000,1104.885],[1420588800000,1087.1216],[1420675200000,1058.7001],[1420761600000,1045.1998],[1421020800000,1030.2786],[1421107200000,1038.0945],[1421193600000,1044.4894],[1421280000000,1045.1998],[1421366400000,1078.5951],[1421625600000,982.6726],[1421712000000,963.4882],[1421798400000,976.9883],[1421884800000,1006.1204],[1421971200000,1016.0679],[1422230400000,1006.1204],[1422316800000,982.6726],[1422403200000,980.541],[1422489600000,976.9883],[1422576000000,977.6989],[1422835200000,962.7776],[1422921600000,967.7513],[1423008000000,973.4357],[1423094400000,977.6989],[1423180800000,952.1196],[1423440000000,939.3299],[1423526400000,953.5406],[1423612800000,972.0146],[1423699200000,967.7513],[1423785600000,983.3832],[1424044800000,975.5673],[1424131200000,989.778],[1424822400000,977.6989],[1424908800000,966.3303],[1424995200000,991.9096],[1425254400000,985.5148],[1425340800000,965.6198],[1425427200000,959.2249],[1425513600000,944.3036],[1425600000000,948.5668],[1425859200000,946.4352],[1425945600000,978.4094],[1426032000000,979.8305],[1426118400000,1000.436],[1426204800000,1051.5947],[1426464000000,1060.1212],[1426550400000,1083.5688],[1426636800000,1086.411],[1426723200000,1074.3319],[1426809600000,1070.0687],[1427068800000,1089.2532],[1427155200000,1081.4373],[1427241600000,1057.9895],[1427328000000,1045.1998],[1427414400000,1055.8579],[1427673600000,1072.9108],[1427760000000,1110.5693],[1427846400000,1104.885],[1427932800000,1109.8588],[1428019200000,1109.1482],[1428364800000,1147.5172],[1428451200000,1183.0441],[1428537600000,1259.7821],[1428624000000,1268.3085],[1428883200000,1388.8044],[1428969600000,1384.5048],[1429056000000,1384.5048],[1429142400000,1397.4038],[1429228800000,1444.7006],[1429488000000,1389.6644],[1429574400000,1374.1854],[1429660800000,1418.9023],[1429747200000,1424.062],[1429833600000,1376.7653],[1430092800000,1393.1041],[1430179200000,1394.824],[1430265600000,1393.1041],[1430352000000,1434.3813],[1430697600000,1399.9836],[1430784000000,1332.9083],[1430870400000,1332.0483],[1430956800000,1332.9083],[1431043200000,1332.9083],[1431302400000,1332.0483],[1431388800000,1345.8074],[1431475200000,1353.5469],[1431561600000,1349.2472],[1431648000000,1313.1296],[1431907200000,1287.3314],[1431993600000,1294.2109],[1432080000000,1341.5077],[1432166400000,1343.2275],[1432252800000,1360.4264],[1432512000000,1406.0033],[1432598400000,1399.9836],[1432684800000,1410.303],[1432771200000,1326.8887],[1432857600000,1299.3706],[1433116800000,1306.2501],[1433203200000,1334.6282],[1433289600000,1332.9083],[1433376000000,1346.6674],[1433462400000,1378.4851],[1433721600000,1392.2443],[1433808000000,1434.3813],[1433894400000,1421.4822],[1433980800000,1406.0033],[1434067200000,1402.5635],[1434326400000,1367.3059],[1434412800000,1332.9083],[1434499200000,1328.6086],[1434585600000,1290.7712],[1434672000000,1246.9142],[1435017600000,1213.3765],[1435104000000,1264.113],[1435190400000,1269.2727],[1435276800000,1150.6008],[1435536000000,1096.4246],[1435622400000,1150.6008],[1435708800000,1181.5587],[1435795200000,1150.6008],[1435881600000,1099.8644],[1436140800000,1142.8613],[1436227200000,1135.9818],[1436313600000,1134.262],[1436400000000,1041.3883],[1436486400000,1170.3795],[1436745600000,1214.2365],[1436832000000,1161.78],[1436918400000,1152.3207],[1437004800000,1154.0406],[1437091200000,1163.5],[1437350400000,1163.5],[1437436800000,1150.6008],[1437523200000,1147.161],[1437609600000,1153.1807],[1437696000000,1145.4412],[1437955200000,1035.3688],[1438041600000,1044.8281],[1438128000000,1064.6067],[1438214400000,1051.7076],[1438300800000,1033.6489],[1438560000000,1044.8281],[1438646400000,1082.6655],[1438732800000,1080.9457],[1438819200000,1068.9065],[1438905600000,1078.3658],[1439164800000,1079.2257],[1439251200000,1099.8644],[1439337600000,1080.0857],[1439424000000,1068.0465],[1439510400000,1081.8055],[1439769600000,1070.6263],[1439856000000,1027.6293],[1439942400000,1023.3296],[1440028800000,1023.3296],[1440115200000,985.4922],[1440374400000,890.0388],[1440460800000,801.4648],[1440547200000,799.745],[1440633600000,847.9017],[1440720000000,907.2375],[1440979200000,901.218],[1441065600000,912.3972],[1441152000000,951.0945],[1441584000000,936.4756],[1441670400000,910.6774],[1441756800000,935.6156],[1441843200000,940.7753],[1441929600000,935.6156],[1442188800000,898.6382],[1442275200000,902.9379],[1442361600000,904.6578],[1442448000000,926.1562],[1442534400000,922.7165],[1442793600000,915.837],[1442880000000,930.456],[1442966400000,918.4168],[1443052800000,917.5569],[1443139200000,898.6382],[1443398400000,896.9183],[1443484800000,887.4589],[1443571200000,893.4785],[1444262400000,920.1367],[1444348800000,921.8566],[1444608000000,938.1954],[1444694400000,953.6744],[1444780800000,940.7753],[1444867200000,940.7753],[1444953600000,959.694],[1445212800000,958.834],[1445299200000,962.2738],[1445385600000,961.4138],[1445472000000,961.4138],[1445558400000,975.1729],[1445817600000,983.7723],[1445904000000,975.1729],[1445990400000,967.4334],[1446076800000,967.4334],[1446163200000,969.1533],[1446422400000,954.5343],[1446508800000,946.7949],[1446595200000,950.2346],[1446681600000,993.2316],[1446768000000,1025.0494],[1447027200000,1071.4863],[1447113600000,1084.3854],[1447200000000,1064.6067],[1447286400000,1056.0073],[1447372800000,1048.2678],[1447632000000,1039.6685],[1447718400000,1062.8868],[1447804800000,1058.5872],[1447891200000,1060.307],[1447977600000,1068.0465],[1448236800000,1064.6067],[1448323200000,1045.688],[1448409600000,1046.548],[1448496000000,1049.1278],[1448582400000,991.5118],[1448841600000,988.9319],[1448928000000,989.7919]]},{\"yAxis\":0,\"name\":\"high\",\"data\":[[1420416000000,1156.7542],[1420502400000,1164.5701],[1420588800000,1124.78],[1420675200000,1106.306],[1420761600000,1127.6222],[1421020800000,1069.3582],[1421107200000,1058.7001],[1421193600000,1080.0162],[1421280000000,1090.6742],[1421366400000,1109.8588],[1421625600000,1035.2523],[1421712000000,999.015],[1421798400000,1037.384],[1421884800000,1031.6997],[1421971200000,1039.5156],[1422230400000,1026.0154],[1422316800000,1021.0416],[1422403200000,1016.0679],[1422489600000,995.4623],[1422576000000,1003.2782],[1422835200000,980.541],[1422921600000,994.0412],[1423008000000,997.5939],[1423094400000,1025.3048],[1423180800000,991.1991],[1423440000000,972.0146],[1423526400000,981.9621],[1423612800000,984.0937],[1423699200000,987.6464],[1423785600000,1007.5414],[1424044800000,995.4623],[1424131200000,1002.5677],[1424822400000,998.3044],[1424908800000,1000.436],[1424995200000,1006.1204],[1425254400000,1001.1466],[1425340800000,993.3307],[1425427200000,974.8568],[1425513600000,961.3565],[1425600000000,959.9354],[1425859200000,1018.91],[1425945600000,1003.2782],[1426032000000,1000.436],[1426118400000,1062.9633],[1426204800000,1109.1482],[1426464000000,1101.3323],[1426550400000,1122.6484],[1426636800000,1107.0166],[1426723200000,1099.9113],[1426809600000,1104.885],[1427068800000,1105.5956],[1427155200000,1107.7272],[1427241600000,1088.5426],[1427328000000,1095.6479],[1427414400000,1086.411],[1427673600000,1132.5959],[1427760000000,1179.4913],[1427846400000,1146.8066],[1427932800000,1146.8066],[1428019200000,1132.5959],[1428364800000,1205.0707],[1428451200000,1284.6509],[1428537600000,1353.5729],[1428624000000,1406.8632],[1428883200000,1475.6584],[1428969600000,1418.9023],[1429056000000,1485.9778],[1429142400000,1470.4988],[1429228800000,1504.8965],[1429488000000,1479.0983],[1429574400000,1436.1012],[1429660800000,1460.1796],[1429747200000,1465.3392],[1429833600000,1419.7623],[1430092800000,1427.5018],[1430179200000,1494.5771],[1430265600000,1440.4009],[1430352000000,1484.2578],[1430697600000,1436.1012],[1430784000000,1420.6222],[1430870400000,1401.7036],[1430956800000,1365.5861],[1431043200000,1374.1854],[1431302400000,1386.2246],[1431388800000,1391.3843],[1431475200000,1397.4038],[1431561600000,1380.2051],[1431648000000,1365.5861],[1431907200000,1320.0092],[1431993600000,1353.5469],[1432080000000,1388.8044],[1432166400000,1366.4459],[1432252800000,1401.7036],[1432512000000,1436.9612],[1432598400000,1436.1012],[1432684800000,1454.1599],[1432771200000,1419.7623],[1432857600000,1347.5272],[1433116800000,1374.1854],[1433203200000,1367.3059],[1433289600000,1371.6056],[1433376000000,1425.7819],[1433462400000,1444.7006],[1433721600000,1500.5968],[1433808000000,1500.5968],[1433894400000,1455.8799],[1433980800000,1442.1207],[1434067200000,1430.0815],[1434326400000,1427.5018],[1434412800000,1381.0649],[1434499200000,1366.4459],[1434585600000,1348.3872],[1434672000000,1323.449],[1435017600000,1287.3314],[1435104000000,1301.0905],[1435190400000,1344.0875],[1435276800000,1285.6116],[1435536000000,1216.8163],[1435622400000,1250.354],[1435708800000,1254.6537],[1435795200000,1230.5753],[1435881600000,1203.0573],[1436140800000,1230.5753],[1436227200000,1259.8134],[1436313600000,1203.9171],[1436400000000,1241.7545],[1436486400000,1320.8691],[1436745600000,1280.4519],[1436832000000,1236.595],[1436918400000,1200.4774],[1437004800000,1183.2786],[1437091200000,1198.7576],[1437350400000,1186.7184],[1437436800000,1172.9594],[1437523200000,1164.3599],[1437609600000,1182.4187],[1437696000000,1178.1189],[1437955200000,1145.4412],[1438041600000,1097.2845],[1438128000000,1085.2454],[1438214400000,1086.9652],[1438300800000,1068.0465],[1438560000000,1105.0239],[1438646400000,1117.0631],[1438732800000,1113.6234],[1438819200000,1094.7047],[1438905600000,1093.8447],[1439164800000,1117.0631],[1439251200000,1113.6234],[1439337600000,1098.1444],[1439424000000,1089.545],[1439510400000,1096.4246],[1439769600000,1091.2649],[1439856000000,1095.5646],[1439942400000,1051.7076],[1440028800000,1046.548],[1440115200000,1031.0691],[1440374400000,960.5539],[1440460800000,890.0388],[1440547200000,879.7195],[1440633600000,937.3355],[1440720000000,953.6744],[1440979200000,951.9545],[1441065600000,998.3913],[1441152000000,1031.929],[1441584000000,994.0916],[1441670400000,958.834],[1441756800000,962.2738],[1441843200000,961.4138],[1441929600000,956.2542],[1442188800000,945.9349],[1442275200000,933.0358],[1442361600000,952.8145],[1442448000000,957.9741],[1442534400000,942.4952],[1442793600000,936.4756],[1442880000000,951.0945],[1442966400000,938.1954],[1443052800000,929.596],[1443139200000,920.9966],[1443398400000,910.6774],[1443484800000,908.0975],[1443571200000,910.6774],[1444262400000,936.4756],[1444348800000,941.6352],[1444608000000,978.6127],[1444694400000,968.2934],[1444780800000,958.834],[1444867200000,960.5539],[1444953600000,971.7332],[1445212800000,976.0328],[1445299200000,978.6127],[1445385600000,1010.4305],[1445472000000,980.3325],[1445558400000,991.5118],[1445817600000,1015.5901],[1445904000000,1000.9711],[1445990400000,987.2121],[1446076800000,976.8928],[1446163200000,982.0524],[1446422400000,973.453],[1446508800000,963.9937],[1446595200000,1006.1308],[1446681600000,1080.9457],[1446768000000,1067.1865],[1447027200000,1150.6008],[1447113600000,1123.9426],[1447200000000,1099.0044],[1447286400000,1087.8252],[1447372800000,1073.2062],[1447632000000,1065.4667],[1447718400000,1092.1249],[1447804800000,1092.1249],[1447891200000,1075.786],[1447977600000,1082.6655],[1448236800000,1083.5254],[1448323200000,1070.6263],[1448409600000,1063.7468],[1448496000000,1064.6067],[1448582400000,1049.1278],[1448841600000,1020.7498],[1448928000000,1019.8898]]}]}/bigcharts-data-end</pre></div>"
      ],
      "text/plain": [
       "<IPython.core.display.HTML object>"
      ]
     },
     "metadata": {},
     "output_type": "display_data"
    }
   ],
   "source": [
    "T.plot(df[['low', 'high']], title='最高最低价格', chart_type='area')"
   ]
  },
  {
   "cell_type": "code",
   "execution_count": 19,
   "metadata": {},
   "outputs": [
    {
     "data": {
      "text/html": [
       "<div id=\"bigchart-81b0f96105f94ed3a698e959c4732307\" class=\"bigchart\"></div><div class=\"bigchart-data\"><pre style=\"display:none\">bigcharts-data-start/{\"chart\":{\"renderTo\":\"bigchart-81b0f96105f94ed3a698e959c4732307\",\"title\":\"\\u80a1\\u7968\\u6570\\u636e\\u5206\\u6790\",\"height\":500},\"yAxis\":[{\"labels\":{\"align\":\"right\",\"x\":-3},\"lineWidth\":2,\"title\":{\"text\":\"OHLC\"},\"height\":\"60%\"},{\"top\":\"65%\",\"offset\":0,\"labels\":{\"align\":\"right\",\"x\":-3},\"lineWidth\":2,\"height\":\"35%\"}],\"stock\":true,\"xAxis\":{\"type\":\"datetime\",\"title\":{\"text\":\"date\"}},\"legend\":{\"enabled\":true},\"series\":[{\"data\":[[1420416000000,1136.1486,1156.7542,1108.4376,1138.2803],[1420502400000,1126.201,1164.5701,1104.885,1121.2273],[1420588800000,1105.5956,1124.78,1087.1216,1099.9113],[1420675200000,1101.3323,1106.306,1058.7001,1062.9633],[1420761600000,1058.7001,1127.6222,1045.1998,1071.4897],[1421020800000,1056.5685,1069.3582,1030.2786,1049.4631],[1421107200000,1040.9366,1058.7001,1038.0945,1043.0682],[1421193600000,1050.1736,1080.0162,1044.4894,1052.3053],[1421280000000,1055.1475,1090.6742,1045.1998,1090.6742],[1421366400000,1094.2269,1109.8588,1078.5951,1092.0953],[1421625600000,995.4623,1035.2523,982.6726,982.6726],[1421712000000,982.6726,999.015,963.4882,982.6726],[1421798400000,986.2253,1037.384,976.9883,1024.5944],[1421884800000,1018.91,1031.6997,1006.1204,1016.0679],[1421971200000,1020.3311,1039.5156,1016.0679,1023.1732],[1422230400000,1020.3311,1026.0154,1006.1204,1018.91],[1422316800000,1019.6205,1021.0416,982.6726,994.0412],[1422403200000,985.5148,1016.0679,980.541,999.015],[1422489600000,981.9621,995.4623,976.9883,987.6464],[1422576000000,989.778,1003.2782,977.6989,989.778],[1422835200000,966.3303,980.541,962.7776,968.4619],[1422921600000,979.1199,994.0412,967.7513,991.1991],[1423008000000,994.7518,997.5939,973.4357,974.1462],[1423094400000,1016.0679,1025.3048,977.6989,979.8305],[1423180800000,972.7251,991.1991,952.1196,959.9354],[1423440000000,959.2249,972.0146,939.3299,960.646],[1423526400000,958.5143,981.9621,953.5406,978.4094],[1423612800000,979.1199,984.0937,972.0146,975.5673],[1423699200000,976.9883,987.6464,967.7513,984.8043],[1423785600000,989.778,1007.5414,983.3832,991.1991],[1424044800000,991.1991,995.4623,975.5673,989.0674],[1424131200000,991.9096,1002.5677,989.778,994.0412],[1424822400000,997.5939,998.3044,977.6989,980.541],[1424908800000,980.541,1000.436,966.3303,999.7255],[1424995200000,999.015,1006.1204,991.9096,994.0412],[1425254400000,996.8834,1001.1466,985.5148,996.8834],[1425340800000,993.3307,993.3307,965.6198,966.3303],[1425427200000,967.7513,974.8568,959.2249,964.1987],[1425513600000,959.2249,961.3565,944.3036,950.6985],[1425600000000,949.9879,959.9354,948.5668,954.9617],[1425859200000,957.0933,1018.91,946.4352,1005.4098],[1425945600000,994.7518,1003.2782,978.4094,978.4094],[1426032000000,979.8305,1000.436,979.8305,984.8043],[1426118400000,1008.9625,1062.9633,1000.436,1037.384],[1426204800000,1058.7001,1109.1482,1051.5947,1065.095],[1426464000000,1072.9108,1101.3323,1060.1212,1094.9375],[1426550400000,1102.0428,1122.6484,1083.5688,1094.2269],[1426636800000,1091.3848,1107.0166,1086.411,1102.0428],[1426723200000,1099.9113,1099.9113,1074.3319,1079.3057],[1426809600000,1079.3057,1104.885,1070.0687,1088.5426],[1427068800000,1089.2532,1105.5956,1089.2532,1096.3585],[1427155200000,1096.3585,1107.7272,1081.4373,1090.6742],[1427241600000,1085.7004,1088.5426,1057.9895,1059.4106],[1427328000000,1055.8579,1095.6479,1045.1998,1073.6213],[1427414400000,1072.9108,1086.411,1055.8579,1071.4897],[1427673600000,1082.1478,1132.5959,1072.9108,1112.7009],[1427760000000,1139.7013,1179.4913,1110.5693,1119.0957],[1427846400000,1124.0695,1146.8066,1104.885,1134.017],[1427932800000,1143.254,1146.8066,1109.8588,1122.6484],[1428019200000,1115.5431,1132.5959,1109.1482,1126.201],[1428364800000,1147.5172,1205.0707,1147.5172,1194.4126],[1428451200000,1202.9391,1284.6509,1183.0441,1273.2822],[1428537600000,1275.4138,1353.5729,1259.7821,1278.9666],[1428624000000,1278.9666,1406.8632,1268.3085,1406.8632],[1428883200000,1461.8994,1475.6584,1388.8044,1422.3422],[1428969600000,1418.9023,1418.9023,1384.5048,1401.7036],[1429056000000,1401.7036,1485.9778,1384.5048,1431.8015],[1429142400000,1405.1433,1470.4988,1397.4038,1461.8994],[1429228800000,1504.8965,1504.8965,1444.7006,1455.8799],[1429488000000,1470.4988,1479.0983,1389.6644,1401.7036],[1429574400000,1403.4235,1436.1012,1374.1854,1424.062],[1429660800000,1425.7819,1460.1796,1418.9023,1457.5997],[1429747200000,1460.1796,1465.3392,1424.062,1432.6614],[1429833600000,1401.7036,1419.7623,1376.7653,1387.9445],[1430092800000,1393.9641,1427.5018,1393.1041,1412.0228],[1430179200000,1414.6027,1494.5771,1394.824,1436.1012],[1430265600000,1432.6614,1440.4009,1393.1041,1431.8015],[1430352000000,1447.2804,1484.2578,1434.3813,1436.1012],[1430697600000,1436.1012,1436.1012,1399.9836,1420.6222],[1430784000000,1411.1628,1420.6222,1332.9083,1363.8662],[1430870400000,1360.4264,1401.7036,1332.0483,1351.827],[1430956800000,1351.827,1365.5861,1332.9083,1347.5272],[1431043200000,1350.967,1374.1854,1332.9083,1363.0062],[1431302400000,1358.7065,1386.2246,1332.0483,1378.4851],[1431388800000,1374.1854,1391.3843,1345.8074,1372.4656],[1431475200000,1391.3843,1397.4038,1353.5469,1365.5861],[1431561600000,1375.9053,1380.2051,1349.2472,1366.4459],[1431648000000,1358.7065,1365.5861,1313.1296,1328.6086],[1431907200000,1307.1101,1320.0092,1287.3314,1305.3901],[1431993600000,1304.5303,1353.5469,1294.2109,1340.6477],[1432080000000,1376.7653,1388.8044,1341.5077,1353.5469],[1432166400000,1358.7065,1366.4459,1343.2275,1357.8466],[1432252800000,1368.1659,1401.7036,1360.4264,1399.1238],[1432512000000,1406.0033,1436.9612,1406.0033,1427.5018],[1432598400000,1430.0815,1436.1012,1399.9836,1429.2217],[1432684800000,1429.2217,1454.1599,1410.303,1417.1825],[1432771200000,1418.9023,1419.7623,1326.8887,1332.9083],[1432857600000,1333.7682,1347.5272,1299.3706,1317.4293],[1433116800000,1318.2893,1374.1854,1306.2501,1367.3059],[1433203200000,1366.4459,1367.3059,1334.6282,1356.1267],[1433289600000,1356.1267,1371.6056,1332.9083,1361.2864],[1433376000000,1363.0062,1425.7819,1346.6674,1407.7231],[1433462400000,1436.1012,1444.7006,1378.4851,1401.7036],[1433721600000,1403.4235,1500.5968,1392.2443,1486.8376],[1433808000000,1492.8573,1500.5968,1434.3813,1460.1796],[1433894400000,1444.7006,1455.8799,1421.4822,1434.3813],[1433980800000,1434.3813,1442.1207,1406.0033,1417.1825],[1434067200000,1417.1825,1430.0815,1402.5635,1419.7623],[1434326400000,1421.4822,1427.5018,1367.3059,1369.0258],[1434412800000,1358.7065,1381.0649,1332.9083,1344.9475],[1434499200000,1361.2864,1366.4459,1328.6086,1352.6869],[1434585600000,1348.3872,1348.3872,1290.7712,1322.589],[1434672000000,1311.4098,1323.449,1246.9142,1258.0934],[1435017600000,1258.9534,1287.3314,1213.3765,1285.6116],[1435104000000,1289.9113,1301.0905,1264.113,1300.2306],[1435190400000,1339.7878,1344.0875,1269.2727,1278.7321],[1435276800000,1258.9534,1285.6116,1150.6008,1184.1385],[1435536000000,1210.7966,1216.8163,1096.4246,1166.0797],[1435622400000,1164.3599,1250.354,1150.6008,1250.354],[1435708800000,1234.0151,1254.6537,1181.5587,1197.0376],[1435795200000,1195.3177,1230.5753,1150.6008,1182.4187],[1435881600000,1202.1973,1203.0573,1099.8644,1123.9426],[1436140800000,1229.7153,1230.5753,1142.8613,1193.5979],[1436227200000,1174.6792,1259.8134,1135.9818,1259.8134],[1436313600000,1187.5782,1203.9171,1134.262,1134.262],[1436400000000,1134.262,1241.7545,1041.3883,1226.2756],[1436486400000,1191.0181,1320.8691,1170.3795,1277.8721],[1436745600000,1238.3148,1280.4519,1214.2365,1241.7545],[1436832000000,1221.116,1236.595,1161.78,1192.7379],[1436918400000,1174.6792,1200.4774,1152.3207,1167.7997],[1437004800000,1169.5195,1183.2786,1154.0406,1169.5195],[1437091200000,1174.6792,1198.7576,1163.5,1188.4382],[1437350400000,1186.7184,1186.7184,1163.5,1169.5195],[1437436800000,1161.78,1172.9594,1150.6008,1166.9397],[1437523200000,1160.0602,1164.3599,1147.161,1162.64],[1437609600000,1157.4803,1182.4187,1153.1807,1175.5391],[1437696000000,1176.399,1178.1189,1145.4412,1150.6008],[1437955200000,1139.4216,1145.4412,1035.3688,1069.7664],[1438041600000,1048.2678,1097.2845,1044.8281,1085.2454],[1438128000000,1083.5254,1085.2454,1064.6067,1083.5254],[1438214400000,1084.3854,1086.9652,1051.7076,1054.2875],[1438300800000,1045.688,1068.0465,1033.6489,1062.8868],[1438560000000,1049.1278,1105.0239,1044.8281,1102.4441],[1438646400000,1098.1444,1117.0631,1082.6655,1105.8839],[1438732800000,1100.7242,1113.6234,1080.9457,1082.6655],[1438819200000,1074.926,1094.7047,1068.9065,1077.5059],[1438905600000,1084.3854,1093.8447,1078.3658,1084.3854],[1439164800000,1088.6851,1117.0631,1079.2257,1111.0436],[1439251200000,1110.1836,1113.6234,1099.8644,1104.1641],[1439337600000,1091.2649,1098.1444,1080.0857,1080.9457],[1439424000000,1075.786,1089.545,1068.0465,1080.9457],[1439510400000,1091.2649,1096.4246,1081.8055,1086.9652],[1439769600000,1084.3854,1091.2649,1070.6263,1078.3658],[1439856000000,1074.926,1095.5646,1027.6293,1055.1473],[1439942400000,1040.5284,1051.7076,1023.3296,1051.7076],[1440028800000,1046.548,1046.548,1023.3296,1036.2288],[1440115200000,1023.3296,1031.0691,985.4922,988.9319],[1440374400000,954.5343,960.5539,890.0388,890.0388],[1440460800000,847.0417,890.0388,801.4648,813.504],[1440547200000,825.5432,879.7195,799.745,852.2014],[1440633600000,873.6999,937.3355,847.9017,928.7361],[1440720000000,936.4756,953.6744,907.2375,931.3159],[1440979200000,920.9966,951.9545,901.218,951.9545],[1441065600000,937.3355,998.3913,912.3972,994.9515],[1441152000000,961.4138,1031.929,951.0945,1018.1699],[1441584000000,993.2316,994.0916,936.4756,936.4756],[1441670400000,935.6156,958.834,910.6774,945.9349],[1441756800000,948.5147,962.2738,935.6156,954.5343],[1441843200000,945.9349,961.4138,940.7753,950.2346],[1441929600000,947.6548,956.2542,935.6156,942.4952],[1442188800000,945.075,945.9349,898.6382,934.7557],[1442275200000,919.2767,933.0358,902.9379,908.9575],[1442361600000,910.6774,952.8145,904.6578,937.3355],[1442448000000,933.0358,957.9741,926.1562,926.1562],[1442534400000,932.1758,942.4952,922.7165,929.596],[1442793600000,920.1367,936.4756,915.837,930.456],[1442880000000,931.3159,951.0945,930.456,942.4952],[1442966400000,933.8958,938.1954,918.4168,920.1367],[1443052800000,925.2963,929.596,917.5569,920.9966],[1443139200000,919.2767,920.9966,898.6382,907.2375],[1443398400000,908.0975,910.6774,896.9183,905.5177],[1443484800000,898.6382,908.0975,887.4589,892.6186],[1443571200000,894.3384,910.6774,893.4785,902.0779],[1444262400000,933.0358,936.4756,920.1367,920.1367],[1444348800000,924.4364,941.6352,921.8566,937.3355],[1444608000000,942.4952,978.6127,938.1954,965.7136],[1444694400000,963.1337,968.2934,953.6744,957.1141],[1444780800000,949.3747,958.834,940.7753,944.215],[1444867200000,941.6352,960.5539,940.7753,960.5539],[1444953600000,963.9937,971.7332,959.694,965.7136],[1445212800000,969.1533,976.0328,958.834,968.2934],[1445299200000,963.1337,978.6127,962.2738,973.453],[1445385600000,970.8732,1010.4305,961.4138,964.8536],[1445472000000,967.4334,980.3325,961.4138,974.313],[1445558400000,979.4726,991.5118,975.1729,986.3521],[1445817600000,997.5314,1015.5901,983.7723,990.6519],[1445904000000,988.9319,1000.9711,975.1729,987.2121],[1445990400000,985.4922,987.2121,967.4334,969.1533],[1446076800000,971.7332,976.8928,967.4334,969.1533],[1446163200000,971.7332,982.0524,969.1533,976.8928],[1446422400000,969.1533,973.453,954.5343,957.9741],[1446508800000,958.834,963.9937,946.7949,950.2346],[1446595200000,952.8145,1006.1308,950.2346,1005.2708],[1446681600000,997.5314,1080.9457,993.2316,1037.9486],[1446768000000,1033.6489,1067.1865,1025.0494,1065.4667],[1447027200000,1074.926,1150.6008,1071.4863,1112.7634],[1447113600000,1100.7242,1123.9426,1084.3854,1096.4246],[1447200000000,1092.1249,1099.0044,1064.6067,1079.2257],[1447286400000,1083.5254,1087.8252,1056.0073,1066.3267],[1447372800000,1050.8477,1073.2062,1048.2678,1052.5676],[1447632000000,1043.1083,1065.4667,1039.6685,1061.167],[1447718400000,1067.1865,1092.1249,1062.8868,1074.926],[1447804800000,1071.4863,1092.1249,1058.5872,1068.0465],[1447891200000,1066.3267,1075.786,1060.307,1074.926],[1447977600000,1074.926,1082.6655,1068.0465,1079.2257],[1448236800000,1079.2257,1083.5254,1064.6067,1070.6263],[1448323200000,1067.1865,1070.6263,1045.688,1056.0073],[1448409600000,1049.9878,1063.7468,1046.548,1059.4471],[1448496000000,1062.8868,1064.6067,1049.1278,1051.7076],[1448582400000,1047.408,1049.1278,991.5118,1008.7106],[1448841600000,1007.8506,1020.7498,988.9319,1009.5706],[1448928000000,1006.1308,1019.8898,989.7919,1010.4305]],\"type\":\"candlestick\",\"name\":\"OHLC\",\"yAxis\":0},{\"yAxis\":1,\"type\":\"column\",\"name\":\"amount\",\"data\":[[1420416000000,4565387846.4],[1420502400000,3453446167.7],[1420588800000,2634796408.8],[1420675200000,2128003431.7],[1420761600000,3835378099.9],[1421020800000,2293104602.0],[1421107200000,1204987148.9],[1421193600000,1889296679.4],[1421280000000,1868795909.7],[1421366400000,2403346194.6],[1421625600000,3016203087.3],[1421712000000,2064280554.9],[1421798400000,2758192757.0],[1421884800000,1801436255.4],[1421971200000,2108746796.1],[1422230400000,1508446593.2],[1422316800000,1881058964.7],[1422403200000,1742175735.9],[1422489600000,1408825355.9],[1422576000000,1298735718.9],[1422835200000,1176949559.7],[1422921600000,1217876590.2],[1423008000000,1122666755.3],[1423094400000,2710523885.9],[1423180800000,1411298590.4],[1423440000000,1273141159.6],[1423526400000,991823743.8],[1423612800000,763414581.5],[1423699200000,838611239.4],[1423785600000,1244514793.5],[1424044800000,999898468.8],[1424131200000,954430237.8],[1424822400000,799193628.9],[1424908800000,1424064862.1],[1424995200000,1115146052.8],[1425254400000,1423603269.2],[1425340800000,1457305035.4],[1425427200000,1108145418.6],[1425513600000,1109151960.1],[1425600000000,748959127.7],[1425859200000,3067985540.6],[1425945600000,1927581938.5],[1426032000000,1258356122.2],[1426118400000,4805590363.2],[1426204800000,4799935194.5],[1426464000000,3387198610.3],[1426550400000,3020408697.6],[1426636800000,2823982778.4],[1426723200000,2413982124.2],[1426809600000,3027315327.8],[1427068800000,2750596675.2],[1427155200000,2396553386.0],[1427241600000,2396613996.9],[1427328000000,2246003758.3],[1427414400000,1577607058.0],[1427673600000,4014724425.8],[1427760000000,4393135215.4],[1427846400000,2608976849.8],[1427932800000,2222670592.8],[1428019200000,2262844473.1],[1428364800000,4898119462.7],[1428451200000,5784459038.7],[1428537600000,5794631956.5],[1428624000000,6339648863.2],[1428883200000,8021097201.5],[1428969600000,4020209605.4],[1429056000000,5746875158.8],[1429142400000,4102824562.5],[1429228800000,4447333030.2],[1429488000000,5776437953.0],[1429574400000,3943357049.2],[1429660800000,4640335829.8],[1429747200000,3893522074.1],[1429833600000,3959606489.8],[1430092800000,4027939224.7],[1430179200000,8014319269.8],[1430265600000,3550493337.4],[1430352000000,4899379904.0],[1430697600000,2351547449.3],[1430784000000,3685372405.2],[1430870400000,3107565652.2],[1430956800000,1968941843.8],[1431043200000,2163108919.9],[1431302400000,3349066839.6],[1431388800000,3166864484.5],[1431475200000,2807445575.7],[1431561600000,2283604814.1],[1431648000000,2718885235.7],[1431907200000,2327558365.8],[1431993600000,2959557085.5],[1432080000000,4115472698.3],[1432166400000,2214024935.8],[1432252800000,4233675705.5],[1432512000000,4518316427.6],[1432598400000,4607493713.7],[1432684800000,3888992245.7],[1432771200000,4404154742.9],[1432857600000,3103543670.9],[1433116800000,3365459275.2],[1433203200000,2991564977.7],[1433289600000,3103860651.2],[1433376000000,5971846070.6],[1433462400000,4681142525.9],[1433721600000,8596942094.4],[1433808000000,5601775951.1],[1433894400000,3679460604.6],[1433980800000,2811189687.3],[1434067200000,3131996558.6],[1434326400000,3547149534.9],[1434412800000,2858213720.6],[1434499200000,2689990222.2],[1434585600000,2468466176.7],[1434672000000,2345768673.7],[1435017600000,2643179923.8],[1435104000000,2290363605.1],[1435190400000,3179774392.9],[1435276800000,3623880484.6],[1435536000000,3570319306.5],[1435622400000,3572978441.4],[1435708800000,2629096356.3],[1435795200000,2762337227.5],[1435881600000,3473335630.3],[1436140800000,4660186339.1],[1436227200000,6808003723.3],[1436313600000,6762103350.9],[1436400000000,5904698616.9],[1436486400000,6891581207.2],[1436745600000,4737400470.7],[1436832000000,3608580675.9],[1436918400000,2225696912.6],[1437004800000,1884221624.9],[1437091200000,2304999342.0],[1437350400000,1852316440.9],[1437436800000,1529148267.3],[1437523200000,1528783830.5],[1437609600000,2022035341.3],[1437696000000,1815658962.5],[1437955200000,2289450164.7],[1438041600000,2509971532.0],[1438128000000,1210759096.3],[1438214400000,962337460.8],[1438300800000,1472860295.7],[1438560000000,1757739733.4],[1438646400000,988843500.5],[1438732800000,704539354.3],[1438819200000,567208519.2],[1438905600000,785501392.0],[1439164800000,1346325151.2],[1439251200000,1065323949.3],[1439337600000,869580822.8],[1439424000000,760265710.3],[1439510400000,1043762737.6],[1439769600000,852588992.0],[1439856000000,1459671045.1],[1439942400000,1157078547.5],[1440028800000,815652760.5],[1440115200000,1095668267.9],[1440374400000,1601529034.6],[1440460800000,2122788584.8],[1440547200000,2460482141.3],[1440633600000,1912163265.6],[1440720000000,1728745630.4],[1440979200000,1578261442.4],[1441065600000,3003860703.8],[1441152000000,3273803293.0],[1441584000000,1544055075.1],[1441670400000,815241863.3],[1441756800000,940582957.0],[1441843200000,514578386.5],[1441929600000,469297504.8],[1442188800000,813927117.1],[1442275200000,579042247.0],[1442361600000,612767028.6],[1442448000000,682338188.7],[1442534400000,345063783.7],[1442793600000,416851084.5],[1442880000000,541007302.4],[1442966400000,399583544.6],[1443052800000,277274187.9],[1443139200000,471537653.0],[1443398400000,209186171.5],[1443484800000,347612298.6],[1443571200000,383230180.0],[1444262400000,533806134.1],[1444348800000,516310498.0],[1444608000000,950602307.7],[1444694400000,401600928.8],[1444780800000,462963473.8],[1444867200000,539103671.6],[1444953600000,640488894.1],[1445212800000,814910975.0],[1445299200000,807642379.7],[1445385600000,1523591977.0],[1445472000000,928960028.8],[1445558400000,1073981531.3],[1445817600000,1260872031.5],[1445904000000,664648826.8],[1445990400000,619790793.2],[1446076800000,357830452.0],[1446163200000,607980997.1],[1446422400000,544000187.0],[1446508800000,434818762.6],[1446595200000,1493255541.7],[1446681600000,2780266755.8],[1446768000000,1781331280.0],[1447027200000,3137641551.2],[1447113600000,1438707529.7],[1447200000000,1280174417.2],[1447286400000,833753298.1],[1447372800000,722252994.2],[1447632000000,685977382.9],[1447718400000,1315319787.3],[1447804800000,991513834.8],[1447891200000,585570983.3],[1447977600000,747487174.7],[1448236800000,760493340.7],[1448323200000,812675943.5],[1448409600000,629507063.6],[1448496000000,679692129.9],[1448582400000,867702430.6],[1448841600000,770221398.4],[1448928000000,793118214.1]]}]}/bigcharts-data-end</pre></div>"
      ],
      "text/plain": [
       "<IPython.core.display.HTML object>"
      ]
     },
     "metadata": {},
     "output_type": "display_data"
    }
   ],
   "source": [
    "T.plot(df[['open', 'high', 'low', 'close', 'amount']],\n",
    "       # 设置图表title和高度；'series': [{},{'type': 'column'}] 设置第二个数据系列（即 amount）显示类型为柱状图(column)\n",
    "       options={'chart': {'title':\"股票数据分析\", 'height': 500}, 'series': [{},{'type': 'column'}]},\n",
    "       stock=True, candlestick=True)"
   ]
  },
  {
   "cell_type": "markdown",
   "metadata": {},
   "source": [
    "## 绘制多个曲线"
   ]
  },
  {
   "cell_type": "code",
   "execution_count": 20,
   "metadata": {},
   "outputs": [],
   "source": [
    "df = DataSource('bar1d_CN_STOCK_A').read(instruments=['000010.SZA','600010.SHA'],start_date='2019-01-01')"
   ]
  },
  {
   "cell_type": "code",
   "execution_count": 21,
   "metadata": {},
   "outputs": [
    {
     "data": {
      "text/html": [
       "<div>\n",
       "<style scoped>\n",
       "    .dataframe tbody tr th:only-of-type {\n",
       "        vertical-align: middle;\n",
       "    }\n",
       "\n",
       "    .dataframe tbody tr th {\n",
       "        vertical-align: top;\n",
       "    }\n",
       "\n",
       "    .dataframe thead th {\n",
       "        text-align: right;\n",
       "    }\n",
       "</style>\n",
       "<table border=\"1\" class=\"dataframe\">\n",
       "  <thead>\n",
       "    <tr style=\"text-align: right;\">\n",
       "      <th>instrument</th>\n",
       "      <th>000010.SZA</th>\n",
       "      <th>600010.SHA</th>\n",
       "    </tr>\n",
       "    <tr>\n",
       "      <th>date</th>\n",
       "      <th></th>\n",
       "      <th></th>\n",
       "    </tr>\n",
       "  </thead>\n",
       "  <tbody>\n",
       "    <tr>\n",
       "      <th>2019-01-02</th>\n",
       "      <td>35.340519</td>\n",
       "      <td>12.173035</td>\n",
       "    </tr>\n",
       "    <tr>\n",
       "      <th>2019-01-03</th>\n",
       "      <td>35.340519</td>\n",
       "      <td>12.338655</td>\n",
       "    </tr>\n",
       "    <tr>\n",
       "      <th>2019-01-04</th>\n",
       "      <td>35.771503</td>\n",
       "      <td>12.587084</td>\n",
       "    </tr>\n",
       "    <tr>\n",
       "      <th>2019-01-07</th>\n",
       "      <td>36.633465</td>\n",
       "      <td>12.587084</td>\n",
       "    </tr>\n",
       "    <tr>\n",
       "      <th>2019-01-08</th>\n",
       "      <td>36.310230</td>\n",
       "      <td>12.504273</td>\n",
       "    </tr>\n",
       "  </tbody>\n",
       "</table>\n",
       "</div>"
      ],
      "text/plain": [
       "instrument  000010.SZA  600010.SHA\n",
       "date                              \n",
       "2019-01-02   35.340519   12.173035\n",
       "2019-01-03   35.340519   12.338655\n",
       "2019-01-04   35.771503   12.587084\n",
       "2019-01-07   36.633465   12.587084\n",
       "2019-01-08   36.310230   12.504273"
      ]
     },
     "execution_count": 21,
     "metadata": {},
     "output_type": "execute_result"
    }
   ],
   "source": [
    "close_series = pd.pivot_table(df,index='date', columns='instrument', values='close')\n",
    "close_series.head(5)"
   ]
  },
  {
   "cell_type": "code",
   "execution_count": 22,
   "metadata": {},
   "outputs": [
    {
     "data": {
      "text/html": [
       "<div id=\"bigchart-78bb9670d93a4fb49be368987a61c768\" class=\"bigchart\"></div><div class=\"bigchart-data\"><pre style=\"display:none\">bigcharts-data-start/{\"chart\":{\"renderTo\":\"bigchart-78bb9670d93a4fb49be368987a61c768\",\"height\":400},\"xAxis\":{\"type\":\"datetime\",\"title\":{\"text\":\"date\"}},\"legend\":{\"enabled\":true},\"stock\":true,\"series\":[{\"yAxis\":0,\"name\":\"000010.SZA\",\"data\":[[1546387200000,35.3405],[1546473600000,35.3405],[1546560000000,35.7715],[1546819200000,36.6335],[1546905600000,36.3102],[1546992000000,36.5257],[1547078400000,36.6335],[1547164800000,40.2968],[1547424000000,38.2496],[1547510400000,38.0342],[1547596800000,38.0342],[1547683200000,36.849],[1547769600000,36.2025],[1548028800000,36.5257],[1548115200000,36.3102],[1548201600000,35.987],[1548288000000,35.7715],[1548374400000,35.2328],[1548633600000,35.0173],[1548720000000,33.4011],[1548806400000,30.923],[1548892800000,31.8927],[1548979200000,32.6469],[1549843200000,33.2934],[1549929600000,34.2631],[1550016000000,34.5863],[1550102400000,34.2631],[1550188800000,34.4786],[1550448000000,35.7715],[1550534400000,36.418],[1550620800000,36.0947],[1550707200000,35.6638],[1550793600000,36.6335],[1551052800000,37.9264],[1551139200000,39.3271],[1551225600000,38.4651],[1551312000000,38.2496],[1551398400000,38.2496],[1551657600000,39.0039],[1551744000000,41.2665],[1551830400000,44.3911],[1551916800000,44.2834],[1552003200000,40.5123],[1552262400000,42.1285],[1552348800000,42.6672],[1552435200000,41.6975],[1552521600000,39.8658],[1552608000000,40.8355],[1552867200000,41.482],[1552953600000,41.6975],[1553040000000,42.775],[1553126400000,42.344],[1553212800000,42.344],[1553472000000,41.051],[1553558400000,39.0039],[1553644800000,37.8187],[1553731200000,36.9567],[1553817600000,37.6032],[1554076800000,39.4348],[1554163200000,39.1116],[1554249600000,39.2194],[1554336000000,40.5123],[1554681600000,40.5123],[1554768000000,41.2665],[1554854400000,41.051],[1554940800000,40.5123],[1555027200000,41.051],[1555286400000,40.7278],[1555372800000,40.7278],[1555459200000,40.5123],[1555545600000,39.6503],[1555632000000,39.7581],[1555891200000,40.2968],[1555977600000,38.4651],[1556064000000,38.8961],[1556150400000,38.8961],[1556236800000,36.9567],[1556496000000,35.125],[1556582400000,36.849]]},{\"yAxis\":0,\"name\":\"600010.SHA\",\"data\":[[1546387200000,12.173],[1546473600000,12.3387],[1546560000000,12.5871],[1546819200000,12.5871],[1546905600000,12.5043],[1546992000000,12.5043],[1547078400000,12.5043],[1547164800000,12.6699],[1547424000000,12.6699],[1547510400000,12.6699],[1547596800000,12.5871],[1547683200000,12.6699],[1547769600000,13.0011],[1548028800000,12.8355],[1548115200000,12.5043],[1548201600000,12.5043],[1548288000000,12.5043],[1548374400000,12.5043],[1548633600000,12.4215],[1548720000000,12.3387],[1548806400000,12.2558],[1548892800000,12.173],[1548979200000,12.4215],[1549843200000,12.5871],[1549929600000,12.7527],[1550016000000,13.0011],[1550102400000,12.9183],[1550188800000,12.7527],[1550448000000,13.0839],[1550534400000,13.0839],[1550620800000,13.0839],[1550707200000,13.0011],[1550793600000,13.1668],[1551052800000,13.9948],[1551139200000,15.0714],[1551225600000,14.8229],[1551312000000,14.6573],[1551398400000,14.9058],[1551657600000,15.1542],[1551744000000,15.237],[1551830400000,16.7276],[1551916800000,17.1416],[1552003200000,15.8167],[1552262400000,16.2307],[1552348800000,16.1479],[1552435200000,15.9823],[1552521600000,15.4026],[1552608000000,15.4854],[1552867200000,16.1479],[1552953600000,15.8995],[1553040000000,15.8167],[1553126400000,15.8995],[1553212800000,15.8167],[1553472000000,15.4026],[1553558400000,14.9058],[1553644800000,14.8229],[1553731200000,14.5745],[1553817600000,15.1542],[1554076800000,15.651],[1554163200000,15.7339],[1554249600000,15.7339],[1554336000000,15.651],[1554681600000,16.0651],[1554768000000,15.7339],[1554854400000,15.5682],[1554940800000,15.3198],[1555027200000,15.237],[1555286400000,15.237],[1555372800000,15.4026],[1555459200000,15.4026],[1555545600000,15.237],[1555632000000,15.4026],[1555891200000,15.1542],[1555977600000,15.0714],[1556064000000,14.9886],[1556150400000,14.7401],[1556236800000,14.3261],[1556496000000,13.912],[1556582400000,14.0777]]}]}/bigcharts-data-end</pre></div>"
      ],
      "text/plain": [
       "<IPython.core.display.HTML object>"
      ]
     },
     "metadata": {},
     "output_type": "display_data"
    }
   ],
   "source": [
    "T.plot(close_series)"
   ]
  },
  {
   "cell_type": "markdown",
   "metadata": {},
   "source": [
    "### 批量绘制多个K线"
   ]
  },
  {
   "cell_type": "code",
   "execution_count": 23,
   "metadata": {},
   "outputs": [
    {
     "data": {
      "text/html": [
       "<div id=\"bigchart-653c3a72e4894c91bd4cc02ec7e6a8c0\" class=\"bigchart\"></div><div class=\"bigchart-data\"><pre style=\"display:none\">bigcharts-data-start/{\"chart\":{\"renderTo\":\"bigchart-653c3a72e4894c91bd4cc02ec7e6a8c0\",\"height\":400},\"xAxis\":{\"type\":\"datetime\",\"title\":{\"text\":\"date\"}},\"legend\":{\"enabled\":true},\"stock\":true,\"series\":[{\"data\":[[1546387200000,35.0173,35.6638,35.0173,35.3405],[1546473600000,35.4483,35.7715,35.125,35.3405],[1546560000000,35.125,35.8792,34.694,35.7715],[1546819200000,35.8792,36.6335,35.7715,36.6335],[1546905600000,36.6335,36.6335,36.0947,36.3102],[1546992000000,36.418,36.9567,36.2025,36.5257],[1547078400000,36.2025,37.1722,36.2025,36.6335],[1547164800000,36.5257,40.2968,35.987,40.2968],[1547424000000,40.1891,40.1891,37.9264,38.2496],[1547510400000,37.8187,38.4651,37.3877,38.0342],[1547596800000,38.0342,38.4651,37.8187,38.0342],[1547683200000,37.9264,38.2496,36.849,36.849],[1547769600000,36.6335,36.6335,35.2328,36.2025],[1548028800000,36.2025,36.849,35.6638,36.5257],[1548115200000,36.5257,36.5257,35.987,36.3102],[1548201600000,36.3102,36.3102,35.6638,35.987],[1548288000000,36.0947,36.2025,35.3405,35.7715],[1548374400000,35.987,35.987,35.0173,35.2328],[1548633600000,35.2328,35.7715,34.9095,35.0173],[1548720000000,34.9095,35.2328,32.5391,33.4011],[1548806400000,31.0307,32.2159,30.3842,30.923],[1548892800000,30.8152,33.8321,30.7075,31.8927],[1548979200000,31.3539,32.9701,31.3539,32.6469],[1549843200000,33.4011,33.4011,32.7546,33.2934],[1549929600000,33.4011,34.3708,33.1856,34.2631],[1550016000000,34.2631,34.8018,33.8321,34.5863],[1550102400000,35.125,35.125,33.9398,34.2631],[1550188800000,34.3708,34.9095,33.7243,34.4786],[1550448000000,34.5863,36.418,34.5863,35.7715],[1550534400000,36.9567,37.1722,35.7715,36.418],[1550620800000,37.0644,37.0644,35.6638,36.0947],[1550707200000,35.987,36.7412,35.556,35.6638],[1550793600000,35.7715,36.6335,35.556,36.6335],[1551052800000,36.418,38.3574,36.3102,37.9264],[1551139200000,38.0342,41.482,37.0644,39.3271],[1551225600000,39.3271,39.6503,37.7109,38.4651],[1551312000000,38.2496,38.8961,37.8187,38.2496],[1551398400000,38.2496,38.4651,37.7109,38.2496],[1551657600000,38.4651,39.8658,38.3574,39.0039],[1551744000000,38.8961,42.344,38.2496,41.2665],[1551830400000,41.8052,44.6066,40.2968,44.3911],[1551916800000,43.9602,46.1151,43.2059,44.2834],[1552003200000,43.6369,43.6369,40.4046,40.5123],[1552262400000,41.2665,42.1285,40.5123,42.1285],[1552348800000,42.344,43.2059,41.8052,42.6672],[1552435200000,42.1285,42.6672,41.051,41.6975],[1552521600000,41.6975,42.1285,39.3271,39.8658],[1552608000000,39.9736,41.8052,39.9736,40.8355],[1552867200000,40.8355,41.6975,40.5123,41.482],[1552953600000,41.913,41.913,41.2665,41.6975],[1553040000000,41.6975,42.8827,40.7278,42.775],[1553126400000,42.2362,42.9905,42.0207,42.344],[1553212800000,42.2362,42.6672,41.8052,42.344],[1553472000000,41.3743,41.6975,40.9433,41.051],[1553558400000,40.9433,41.2665,38.7884,39.0039],[1553644800000,38.2496,39.2194,36.2025,37.8187],[1553731200000,37.4954,37.9264,36.7412,36.9567],[1553817600000,36.849,37.8187,36.3102,37.6032],[1554076800000,38.2496,39.6503,37.7109,39.4348],[1554163200000,39.5426,39.7581,38.7884,39.1116],[1554249600000,39.1116,39.4348,38.7884,39.2194],[1554336000000,39.3271,41.6975,39.2194,40.5123],[1554681600000,40.62,42.1285,39.4348,40.5123],[1554768000000,40.62,41.5898,39.4348,41.2665],[1554854400000,41.1588,41.482,40.0813,41.051],[1554940800000,41.051,41.2665,39.8658,40.5123],[1555027200000,40.5123,41.5898,39.0039,41.051],[1555286400000,41.3743,42.0207,40.62,40.7278],[1555372800000,40.4046,40.8355,39.2194,40.7278],[1555459200000,40.9433,40.9433,39.8658,40.5123],[1555545600000,40.2968,40.5123,39.5426,39.6503],[1555632000000,39.7581,39.9736,39.1116,39.7581],[1555891200000,40.2968,41.051,39.7581,40.2968],[1555977600000,39.5426,39.5426,38.4651,38.4651],[1556064000000,38.8961,39.1116,37.9264,38.8961],[1556150400000,38.8961,38.8961,38.8961,38.8961],[1556236800000,36.9567,36.9567,36.9567,36.9567],[1556496000000,35.125,35.125,35.125,35.125],[1556582400000,33.4011,36.849,33.4011,36.849]],\"type\":\"candlestick\",\"name\":\"OHLC\",\"yAxis\":0}]}/bigcharts-data-end</pre></div>"
      ],
      "text/plain": [
       "<IPython.core.display.HTML object>"
      ]
     },
     "metadata": {},
     "output_type": "display_data"
    },
    {
     "data": {
      "text/html": [
       "<div id=\"bigchart-ad8ed3379b0c447a951f19fa094b17ad\" class=\"bigchart\"></div><div class=\"bigchart-data\"><pre style=\"display:none\">bigcharts-data-start/{\"chart\":{\"renderTo\":\"bigchart-ad8ed3379b0c447a951f19fa094b17ad\",\"height\":400},\"xAxis\":{\"type\":\"datetime\",\"title\":{\"text\":\"date\"}},\"legend\":{\"enabled\":true},\"stock\":true,\"series\":[{\"data\":[[1546387200000,80.0976,80.0976,78.4375,78.5759],[1546473600000,79.1292,79.5442,77.8842,78.0225],[1546560000000,76.6391,80.0976,76.2241,79.9593],[1546819200000,79.9593,83.4177,79.8209,83.4177],[1546905600000,83.4177,84.8011,82.726,83.4177],[1546992000000,84.3861,85.4928,83.4177,83.971],[1547078400000,84.1094,86.7378,84.1094,84.5244],[1547164800000,84.5244,86.7378,84.5244,85.7694],[1547424000000,85.6311,86.0461,84.1094,84.8011],[1547510400000,85.4928,87.0145,84.6627,86.8761],[1547596800000,86.3228,87.2912,85.3544,85.4928],[1547683200000,85.9078,86.3228,84.6627,86.0461],[1547769600000,86.1844,86.1844,83.556,84.9394],[1548028800000,84.9394,86.1844,84.2477,85.3544],[1548115200000,85.4928,86.0461,83.4177,84.1094],[1548201600000,83.971,84.3861,83.2794,83.8327],[1548288000000,84.1094,86.7378,83.556,85.6311],[1548374400000,85.9078,86.3228,84.5244,84.5244],[1548633600000,84.9394,86.1844,83.8327,84.1094],[1548720000000,84.3861,84.5244,80.6509,82.4493],[1548806400000,82.4493,84.1094,81.7576,81.7576],[1548892800000,82.311,82.5877,79.2676,80.6509],[1548979200000,80.7893,83.556,80.3743,83.4177],[1549843200000,83.556,87.0145,83.556,86.5995],[1549929600000,86.5995,89.2279,86.0461,88.3979],[1550016000000,88.3979,96.6981,88.3979,94.0697],[1550102400000,94.0697,95.0381,92.133,93.6547],[1550188800000,94.6231,97.3898,93.6547,93.6547],[1550448000000,97.1131,103.0617,96.2831,101.8166],[1550534400000,104.1684,104.1684,98.9115,99.8799],[1550620800000,99.4649,100.2949,97.5282,98.9115],[1550707200000,98.3582,100.7099,97.1131,97.5282],[1550793600000,96.9748,102.0933,96.9748,101.5399],[1551052800000,103.615,107.2118,102.37,106.7968],[1551139200000,106.5201,106.6584,102.6466,103.4767],[1551225600000,103.3383,105.1367,101.2633,102.785],[1551312000000,102.37,103.8917,100.9866,101.8166],[1551398400000,102.5083,103.4767,101.2633,103.0617],[1551657600000,103.615,106.7968,103.4767,104.03],[1551744000000,104.1684,109.8402,103.4767,109.4252],[1551830400000,109.5635,111.2236,106.7968,110.1169],[1551916800000,109.7019,113.852,108.1802,112.0536],[1552003200000,109.9786,123.1206,106.7968,112.192],[1552262400000,116.8954,118.9705,112.7453,117.3105],[1552348800000,118.9705,122.7056,116.2038,121.1839],[1552435200000,120.9072,120.9072,111.3619,113.437],[1552521600000,112.7453,113.437,106.5201,108.0418],[1552608000000,108.7335,110.8086,107.6268,109.2869],[1552867200000,108.3185,113.2987,107.0735,113.2987],[1552953600000,112.8836,119.8005,112.3303,116.7571],[1553040000000,119.5239,123.1206,112.0536,115.097],[1553126400000,112.7453,126.5791,112.7453,126.5791],[1553212800000,133.911,139.3062,127.5475,139.3062],[1553472000000,145.2547,153.2783,139.4445,150.3732],[1553558400000,140.9662,149.2665,135.2944,138.1995],[1553644800000,139.0295,139.9978,127.8241,130.7292],[1553731200000,128.6542,133.496,124.7807,125.334],[1553817600000,123.9507,131.4209,121.4606,129.7608],[1554076800000,130.8676,137.5078,130.8676,135.571],[1554163200000,135.0177,137.9228,132.9426,134.8793],[1554249600000,140.9662,144.978,133.6343,135.8477],[1554336000000,135.8477,135.9861,131.5592,132.3893],[1554681600000,132.5276,133.3576,126.3024,129.3458],[1554768000000,128.6542,132.2509,126.8558,131.1442],[1554854400000,129.7608,132.8043,127.4091,131.9743],[1554940800000,131.9743,131.9743,128.2391,128.6542],[1555027200000,128.1008,129.6225,123.674,124.7807],[1555286400000,127.1324,128.9308,124.2273,124.3657],[1555372800000,122.7056,126.7174,120.3539,126.5791],[1555459200000,126.5791,129.0692,125.8874,126.7174],[1555545600000,126.9941,127.1324,124.2273,124.2273],[1555632000000,123.259,124.089,121.8756,123.9507],[1555891200000,124.504,126.0257,122.7056,122.844],[1555977600000,123.1206,123.259,117.1721,118.5555],[1556064000000,119.9389,122.2906,118.0021,121.5989],[1556150400000,122.1523,124.089,117.0338,117.4488],[1556236800000,116.4804,120.2155,116.4804,118.0021],[1556496000000,118.4172,119.2472,108.4568,110.8086],[1556582400000,111.6386,115.5121,111.6386,114.5437]],\"type\":\"candlestick\",\"name\":\"OHLC\",\"yAxis\":0}]}/bigcharts-data-end</pre></div>"
      ],
      "text/plain": [
       "<IPython.core.display.HTML object>"
      ]
     },
     "metadata": {},
     "output_type": "display_data"
    },
    {
     "data": {
      "text/html": [
       "<div id=\"bigchart-42f45ec151ee4fee92dafddbef0b532e\" class=\"bigchart\"></div><div class=\"bigchart-data\"><pre style=\"display:none\">bigcharts-data-start/{\"chart\":{\"renderTo\":\"bigchart-42f45ec151ee4fee92dafddbef0b532e\",\"height\":400},\"xAxis\":{\"type\":\"datetime\",\"title\":{\"text\":\"date\"}},\"legend\":{\"enabled\":true},\"stock\":true,\"series\":[{\"data\":[[1546387200000,12.2558,12.3387,12.0902,12.173],[1546473600000,12.173,12.4215,12.0902,12.3387],[1546560000000,12.173,12.5871,12.173,12.5871],[1546819200000,12.5871,12.6699,12.4215,12.5871],[1546905600000,12.5871,12.6699,12.4215,12.5043],[1546992000000,12.5043,12.7527,12.5043,12.5043],[1547078400000,12.5043,12.5871,12.4215,12.5043],[1547164800000,12.5043,12.6699,12.4215,12.6699],[1547424000000,12.5871,12.8355,12.5871,12.6699],[1547510400000,12.6699,12.7527,12.5043,12.6699],[1547596800000,12.6699,12.6699,12.5043,12.5871],[1547683200000,12.5043,13.0011,12.5043,12.6699],[1547769600000,12.6699,13.0011,12.5871,13.0011],[1548028800000,12.9183,13.0011,12.7527,12.8355],[1548115200000,12.8355,12.8355,12.4215,12.5043],[1548201600000,12.5043,12.5871,12.4215,12.5043],[1548288000000,12.5043,12.5871,12.4215,12.5043],[1548374400000,12.5871,12.6699,12.5043,12.5043],[1548633600000,12.5871,12.6699,12.4215,12.4215],[1548720000000,12.4215,12.5043,12.173,12.3387],[1548806400000,12.3387,12.4215,12.2558,12.2558],[1548892800000,12.3387,12.4215,12.173,12.173],[1548979200000,12.2558,12.5043,12.173,12.4215],[1549843200000,12.4215,12.6699,12.4215,12.5871],[1549929600000,12.5871,12.8355,12.5043,12.7527],[1550016000000,12.7527,13.0011,12.5871,13.0011],[1550102400000,12.9183,13.0011,12.8355,12.9183],[1550188800000,12.9183,12.9183,12.7527,12.7527],[1550448000000,12.8355,13.0839,12.7527,13.0839],[1550534400000,13.0011,13.3324,12.9183,13.0839],[1550620800000,13.0839,13.3324,12.9183,13.0839],[1550707200000,13.1668,13.2496,12.9183,13.0011],[1550793600000,12.9183,13.1668,12.8355,13.1668],[1551052800000,13.1668,14.0777,13.1668,13.9948],[1551139200000,13.912,15.4026,13.6636,15.0714],[1551225600000,14.6573,15.5682,14.5745,14.8229],[1551312000000,14.8229,15.0714,14.4917,14.6573],[1551398400000,14.6573,14.9886,14.4089,14.9058],[1551657600000,14.9886,15.4854,14.9058,15.1542],[1551744000000,14.9886,15.237,14.9058,15.237],[1551830400000,15.1542,16.7276,15.0714,16.7276],[1551916800000,16.7276,17.4729,16.3963,17.1416],[1552003200000,16.6448,16.7276,15.7339,15.8167],[1552262400000,15.7339,16.3963,15.651,16.2307],[1552348800000,16.3135,16.4791,15.8995,16.1479],[1552435200000,16.0651,16.2307,15.7339,15.9823],[1552521600000,15.8167,16.1479,15.1542,15.4026],[1552608000000,15.4854,15.651,15.3198,15.4854],[1552867200000,15.7339,16.2307,15.651,16.1479],[1552953600000,16.0651,16.1479,15.8167,15.8995],[1553040000000,15.8995,15.8995,15.5682,15.8167],[1553126400000,15.8167,15.9823,15.7339,15.8995],[1553212800000,15.8167,15.8995,15.5682,15.8167],[1553472000000,15.4854,15.651,15.3198,15.4026],[1553558400000,15.4026,15.4854,14.8229,14.9058],[1553644800000,14.9886,15.0714,14.7401,14.8229],[1553731200000,14.7401,14.8229,14.4917,14.5745],[1553817600000,14.5745,15.1542,14.4917,15.1542],[1554076800000,15.237,15.8167,15.1542,15.651],[1554163200000,15.7339,15.8167,15.3198,15.7339],[1554249600000,15.5682,15.8995,15.4854,15.7339],[1554336000000,15.8167,15.8995,15.5682,15.651],[1554681600000,15.7339,16.1479,15.651,16.0651],[1554768000000,15.9823,15.9823,15.651,15.7339],[1554854400000,15.651,15.7339,15.3198,15.5682],[1554940800000,15.4854,15.5682,15.237,15.3198],[1555027200000,15.237,15.3198,15.0714,15.237],[1555286400000,15.4026,15.4854,15.1542,15.237],[1555372800000,15.1542,15.4854,14.9886,15.4026],[1555459200000,15.4026,15.4854,15.237,15.4026],[1555545600000,15.4026,15.4026,15.1542,15.237],[1555632000000,15.3198,15.4854,15.0714,15.4026],[1555891200000,15.4854,15.4854,15.0714,15.1542],[1555977600000,15.1542,15.3198,14.9058,15.0714],[1556064000000,15.0714,15.0714,14.7401,14.9886],[1556150400000,14.9058,15.1542,14.6573,14.7401],[1556236800000,14.5745,14.6573,14.3261,14.3261],[1556496000000,14.3261,14.4089,13.7464,13.912],[1556582400000,13.8292,14.1605,13.8292,14.0777]],\"type\":\"candlestick\",\"name\":\"OHLC\",\"yAxis\":0}]}/bigcharts-data-end</pre></div>"
      ],
      "text/plain": [
       "<IPython.core.display.HTML object>"
      ]
     },
     "metadata": {},
     "output_type": "display_data"
    }
   ],
   "source": [
    "df = DataSource('bar1d_CN_STOCK_A').read(instruments=['000010.SZA','600010.SHA','000021.SZA'],start_date='2019-01-01').set_index('date')\n",
    "for k in df.instrument.unique():   \n",
    "    T.plot(df[df.instrument==k][['open', 'high', 'low', 'close']], candlestick=True)"
   ]
  },
  {
   "cell_type": "code",
   "execution_count": 24,
   "metadata": {},
   "outputs": [
    {
     "data": {
      "text/html": [
       "<div>\n",
       "<style scoped>\n",
       "    .dataframe tbody tr th:only-of-type {\n",
       "        vertical-align: middle;\n",
       "    }\n",
       "\n",
       "    .dataframe tbody tr th {\n",
       "        vertical-align: top;\n",
       "    }\n",
       "\n",
       "    .dataframe thead th {\n",
       "        text-align: right;\n",
       "    }\n",
       "</style>\n",
       "<table border=\"1\" class=\"dataframe\">\n",
       "  <thead>\n",
       "    <tr style=\"text-align: right;\">\n",
       "      <th></th>\n",
       "      <th>adjust_factor</th>\n",
       "      <th>amount</th>\n",
       "      <th>close</th>\n",
       "      <th>instrument</th>\n",
       "      <th>deal_number</th>\n",
       "      <th>high</th>\n",
       "      <th>low</th>\n",
       "      <th>open</th>\n",
       "      <th>turn</th>\n",
       "      <th>volume</th>\n",
       "    </tr>\n",
       "    <tr>\n",
       "      <th>date</th>\n",
       "      <th></th>\n",
       "      <th></th>\n",
       "      <th></th>\n",
       "      <th></th>\n",
       "      <th></th>\n",
       "      <th></th>\n",
       "      <th></th>\n",
       "      <th></th>\n",
       "      <th></th>\n",
       "      <th></th>\n",
       "    </tr>\n",
       "  </thead>\n",
       "  <tbody>\n",
       "    <tr>\n",
       "      <th>2019-04-30</th>\n",
       "      <td>8.280976</td>\n",
       "      <td>226526953.0</td>\n",
       "      <td>14.077660</td>\n",
       "      <td>600010.SHA</td>\n",
       "      <td>17913</td>\n",
       "      <td>14.160469</td>\n",
       "      <td>13.829230</td>\n",
       "      <td>13.829230</td>\n",
       "      <td>0.422172</td>\n",
       "      <td>133732333.0</td>\n",
       "    </tr>\n",
       "    <tr>\n",
       "      <th>2019-04-30</th>\n",
       "      <td>10.774549</td>\n",
       "      <td>92050426.0</td>\n",
       "      <td>36.848957</td>\n",
       "      <td>000010.SZA</td>\n",
       "      <td>9438</td>\n",
       "      <td>36.848957</td>\n",
       "      <td>33.401100</td>\n",
       "      <td>33.401100</td>\n",
       "      <td>5.514832</td>\n",
       "      <td>28796815.0</td>\n",
       "    </tr>\n",
       "    <tr>\n",
       "      <th>2019-04-30</th>\n",
       "      <td>13.833780</td>\n",
       "      <td>157394560.0</td>\n",
       "      <td>114.543701</td>\n",
       "      <td>000021.SZA</td>\n",
       "      <td>18030</td>\n",
       "      <td>115.512062</td>\n",
       "      <td>111.638603</td>\n",
       "      <td>111.638603</td>\n",
       "      <td>1.298975</td>\n",
       "      <td>19086586.0</td>\n",
       "    </tr>\n",
       "  </tbody>\n",
       "</table>\n",
       "</div>"
      ],
      "text/plain": [
       "            adjust_factor       amount       close  instrument  deal_number  \\\n",
       "date                                                                          \n",
       "2019-04-30       8.280976  226526953.0   14.077660  600010.SHA        17913   \n",
       "2019-04-30      10.774549   92050426.0   36.848957  000010.SZA         9438   \n",
       "2019-04-30      13.833780  157394560.0  114.543701  000021.SZA        18030   \n",
       "\n",
       "                  high         low        open      turn       volume  \n",
       "date                                                                   \n",
       "2019-04-30   14.160469   13.829230   13.829230  0.422172  133732333.0  \n",
       "2019-04-30   36.848957   33.401100   33.401100  5.514832   28796815.0  \n",
       "2019-04-30  115.512062  111.638603  111.638603  1.298975   19086586.0  "
      ]
     },
     "execution_count": 24,
     "metadata": {},
     "output_type": "execute_result"
    }
   ],
   "source": [
    "df.ix[df.index.max()]"
   ]
  },
  {
   "cell_type": "code",
   "execution_count": 27,
   "metadata": {},
   "outputs": [
    {
     "data": {
      "image/png": "[encoded data removed]",
      "text/plain": [
       "<Figure size 1224x720 with 1 Axes>"
      ]
     },
     "metadata": {
      "needs_background": "light"
     },
     "output_type": "display_data"
    }
   ],
   "source": [
    "import matplotlib.pyplot as plt\n",
    "import mpl_finance as mpf\n",
    "\n",
    "# 创建图像\n",
    "fig = plt.figure(figsize=(17, 10))\n",
    "ax = fig.add_axes([0,0,1,0.5])\n",
    "for instrument in df.instrument.unique():\n",
    "    close_max = df.close.max()\n",
    "    data = df[df.instrument==instrument]\n",
    "    # 绘制k线\n",
    "    mpf.candlestick2_ochl(ax, data['open'], data['close'], data['high'], data['low'], \n",
    "                          width=0.5, colorup='r', colordown='g', alpha=0.8)\n",
    "    arrow_x = 0\n",
    "    arrow_y = data['close'][0]\n",
    "    text_x = -3\n",
    "    text_y = data['close'][0]+5\n",
    "    plt.annotate(instrument, xy=(arrow_x, arrow_y), xycoords='data', xytext=(text_x, text_y), arrowprops=dict(arrowstyle='->',connectionstyle=\"arc3,rad=.2\")) \n",
    "\n",
    "# 设置横轴坐标\n",
    "ax.set_xticks(range(0, len(data.index), 5))\n",
    "ax.set_xticklabels(data.index.strftime('%Y-%m-%d')[::5])\n",
    "\n",
    "# 网格\n",
    "ax.grid(True)\n",
    "plt.show()"
   ]
  },
  {
   "cell_type": "code",
   "execution_count": 26,
   "metadata": {},
   "outputs": [
    {
     "data": {
      "image/png": "[encoded data removed]",
      "text/plain": [
       "<Figure size 360x360 with 1 Axes>"
      ]
     },
     "metadata": {
      "needs_background": "light"
     },
     "output_type": "display_data"
    }
   ],
   "source": [
    "# 创建图像\n",
    "fig1 = plt.figure(figsize=(5, 5))\n",
    "ax = fig1.add_axes([0,0,1,0.5])\n",
    "# 设置横轴坐标\n",
    "ax.set_xticks(range(0, 20, 5))\n",
    "plt.text(4, 0.5, 'Here you are', family='fantasy', fontsize=20, style='italic',color='mediumvioletred')\n",
    "# 网格\n",
    "ax.grid(True)\n",
    "plt.show()"
   ]
  }
 ],
 "metadata": {
  "kernelspec": {
   "display_name": "Python 3",
   "language": "python",
   "name": "python3"
  },
  "language_info": {
   "codemirror_mode": {
    "name": "ipython",
    "version": 3
   },
   "file_extension": ".py",
   "mimetype": "text/x-python",
   "name": "python",
   "nbconvert_exporter": "python",
   "pygments_lexer": "ipython3",
   "version": "3.5.4"
  }
 },
 "nbformat": 4,
 "nbformat_minor": 2
}
