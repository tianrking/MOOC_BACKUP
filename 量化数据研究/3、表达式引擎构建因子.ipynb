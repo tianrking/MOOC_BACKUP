{
 "cells": [
  {
   "cell_type": "code",
   "execution_count": 1,
   "metadata": {
    "machine_learning_studio": "true",
    "ml_studio_json": "{\"Description\":\"实验创建于2019/4/30\",\"Summary\":\"\",\"Graph\":{\"EdgesInternal\":[{\"DestinationInputPortId\":\"-9:features\",\"SourceOutputPortId\":\"-4:data\"},{\"DestinationInputPortId\":\"-16:features\",\"SourceOutputPortId\":\"-4:data\"},{\"DestinationInputPortId\":\"-16:input_data\",\"SourceOutputPortId\":\"-9:data\"},{\"DestinationInputPortId\":\"-9:instruments\",\"SourceOutputPortId\":\"-24:data\"}],\"ModuleNodes\":[{\"Id\":\"-4\",\"ModuleId\":\"BigQuantSpace.input_features.input_features-v1\",\"ModuleParameters\":[{\"Name\":\"features\",\"Value\":\"\\n# #号开始的表示注释，注释需单独一行\\n# 多个特征，每行一个，可以包含基础特征和衍生特征，特征须为本平台特征\\nmean(close_0,5)\\n\",\"ValueType\":\"Literal\",\"LinkedGlobalParameter\":null}],\"InputPortsInternal\":[{\"DataSourceId\":null,\"TrainedModelId\":null,\"TransformModuleId\":null,\"Name\":\"features_ds\",\"NodeId\":\"-4\"}],\"OutputPortsInternal\":[{\"Name\":\"data\",\"NodeId\":\"-4\",\"OutputType\":null}],\"UsePreviousResults\":true,\"moduleIdForCode\":1,\"IsPartOfPartialRun\":null,\"Comment\":\"\",\"CommentCollapsed\":true},{\"Id\":\"-9\",\"ModuleId\":\"BigQuantSpace.general_feature_extractor.general_feature_extractor-v7\",\"ModuleParameters\":[{\"Name\":\"start_date\",\"Value\":\"\",\"ValueType\":\"Literal\",\"LinkedGlobalParameter\":null},{\"Name\":\"end_date\",\"Value\":\"\",\"ValueType\":\"Literal\",\"LinkedGlobalParameter\":null},{\"Name\":\"before_start_days\",\"Value\":90,\"ValueType\":\"Literal\",\"LinkedGlobalParameter\":null}],\"InputPortsInternal\":[{\"DataSourceId\":null,\"TrainedModelId\":null,\"TransformModuleId\":null,\"Name\":\"instruments\",\"NodeId\":\"-9\"},{\"DataSourceId\":null,\"TrainedModelId\":null,\"TransformModuleId\":null,\"Name\":\"features\",\"NodeId\":\"-9\"}],\"OutputPortsInternal\":[{\"Name\":\"data\",\"NodeId\":\"-9\",\"OutputType\":null}],\"UsePreviousResults\":true,\"moduleIdForCode\":2,\"IsPartOfPartialRun\":null,\"Comment\":\"\",\"CommentCollapsed\":true},{\"Id\":\"-16\",\"ModuleId\":\"BigQuantSpace.derived_feature_extractor.derived_feature_extractor-v3\",\"ModuleParameters\":[{\"Name\":\"date_col\",\"Value\":\"date\",\"ValueType\":\"Literal\",\"LinkedGlobalParameter\":null},{\"Name\":\"instrument_col\",\"Value\":\"instrument\",\"ValueType\":\"Literal\",\"LinkedGlobalParameter\":null},{\"Name\":\"drop_na\",\"Value\":\"False\",\"ValueType\":\"Literal\",\"LinkedGlobalParameter\":null},{\"Name\":\"remove_extra_columns\",\"Value\":\"False\",\"ValueType\":\"Literal\",\"LinkedGlobalParameter\":null},{\"Name\":\"user_functions\",\"Value\":\"{}\",\"ValueType\":\"Literal\",\"LinkedGlobalParameter\":null}],\"InputPortsInternal\":[{\"DataSourceId\":null,\"TrainedModelId\":null,\"TransformModuleId\":null,\"Name\":\"input_data\",\"NodeId\":\"-16\"},{\"DataSourceId\":null,\"TrainedModelId\":null,\"TransformModuleId\":null,\"Name\":\"features\",\"NodeId\":\"-16\"}],\"OutputPortsInternal\":[{\"Name\":\"data\",\"NodeId\":\"-16\",\"OutputType\":null}],\"UsePreviousResults\":true,\"moduleIdForCode\":3,\"IsPartOfPartialRun\":null,\"Comment\":\"\",\"CommentCollapsed\":true},{\"Id\":\"-24\",\"ModuleId\":\"BigQuantSpace.instruments.instruments-v2\",\"ModuleParameters\":[{\"Name\":\"start_date\",\"Value\":\"2018-01-01\",\"ValueType\":\"Literal\",\"LinkedGlobalParameter\":null},{\"Name\":\"end_date\",\"Value\":\"2018-05-01\",\"ValueType\":\"Literal\",\"LinkedGlobalParameter\":null},{\"Name\":\"market\",\"Value\":\"CN_STOCK_A\",\"ValueType\":\"Literal\",\"LinkedGlobalParameter\":null},{\"Name\":\"instrument_list\",\"Value\":\"\",\"ValueType\":\"Literal\",\"LinkedGlobalParameter\":null},{\"Name\":\"max_count\",\"Value\":0,\"ValueType\":\"Literal\",\"LinkedGlobalParameter\":null}],\"InputPortsInternal\":[{\"DataSourceId\":null,\"TrainedModelId\":null,\"TransformModuleId\":null,\"Name\":\"rolling_conf\",\"NodeId\":\"-24\"}],\"OutputPortsInternal\":[{\"Name\":\"data\",\"NodeId\":\"-24\",\"OutputType\":null}],\"UsePreviousResults\":true,\"moduleIdForCode\":4,\"IsPartOfPartialRun\":null,\"Comment\":\"\",\"CommentCollapsed\":true}],\"SerializedClientData\":\"<?xml version='1.0' encoding='utf-16'?><DataV1 xmlns:xsd='http://www.w3.org/2001/XMLSchema' xmlns:xsi='http://www.w3.org/2001/XMLSchema-instance'><Meta /><NodePositions><NodePosition Node='-4' Position='388,164,200,200'/><NodePosition Node='-9' Position='216,260,200,200'/><NodePosition Node='-16' Position='243,347,200,200'/><NodePosition Node='-24' Position='59,160,200,200'/></NodePositions><NodeGroups /></DataV1>\"},\"IsDraft\":true,\"ParentExperimentId\":null,\"WebService\":{\"IsWebServiceExperiment\":false,\"Inputs\":[],\"Outputs\":[],\"Parameters\":[{\"Name\":\"交易日期\",\"Value\":\"\",\"ParameterDefinition\":{\"Name\":\"交易日期\",\"FriendlyName\":\"交易日期\",\"DefaultValue\":\"\",\"ParameterType\":\"String\",\"HasDefaultValue\":true,\"IsOptional\":true,\"ParameterRules\":[],\"HasRules\":false,\"MarkupType\":0,\"CredentialDescriptor\":null}}],\"WebServiceGroupId\":null,\"SerializedClientData\":\"<?xml version='1.0' encoding='utf-16'?><DataV1 xmlns:xsd='http://www.w3.org/2001/XMLSchema' xmlns:xsi='http://www.w3.org/2001/XMLSchema-instance'><Meta /><NodePositions></NodePositions><NodeGroups /></DataV1>\"},\"DisableNodesUpdate\":false,\"Category\":\"user\",\"Tags\":[],\"IsPartialRun\":true}"
   },
   "outputs": [
    {
     "data": {
      "text/plain": [
       "[2019-04-30 10:36:00.271633] INFO: bigquant: input_features.v1 开始运行.."
      ]
     },
     "metadata": {
      "is_log": true,
      "status": "INFO"
     },
     "output_type": "display_data"
    },
    {
     "data": {
      "text/plain": [
       "[2019-04-30 10:36:00.340552] INFO: bigquant: input_features.v1 运行完成[0.068923s]."
      ]
     },
     "metadata": {
      "is_log": true,
      "status": "INFO"
     },
     "output_type": "display_data"
    },
    {
     "data": {
      "text/plain": [
       "[2019-04-30 10:36:00.347983] INFO: bigquant: instruments.v2 开始运行.."
      ]
     },
     "metadata": {
      "is_log": true,
      "status": "INFO"
     },
     "output_type": "display_data"
    },
    {
     "data": {
      "text/plain": [
       "[2019-04-30 10:36:00.443174] INFO: bigquant: instruments.v2 运行完成[0.095182s]."
      ]
     },
     "metadata": {
      "is_log": true,
      "status": "INFO"
     },
     "output_type": "display_data"
    },
    {
     "data": {
      "text/plain": [
       "[2019-04-30 10:36:00.501685] INFO: bigquant: general_feature_extractor.v7 开始运行.."
      ]
     },
     "metadata": {
      "is_log": true,
      "status": "INFO"
     },
     "output_type": "display_data"
    },
    {
     "data": {
      "text/plain": [
       "[2019-04-30 10:36:02.245364] INFO: 基础特征抽取: 年份 2017, 特征行数=193398"
      ]
     },
     "metadata": {
      "is_log": true,
      "status": "INFO"
     },
     "output_type": "display_data"
    },
    {
     "data": {
      "text/plain": [
       "[2019-04-30 10:36:04.080813] INFO: 基础特征抽取: 年份 2018, 特征行数=249537"
      ]
     },
     "metadata": {
      "is_log": true,
      "status": "INFO"
     },
     "output_type": "display_data"
    },
    {
     "data": {
      "text/plain": [
       "[2019-04-30 10:36:04.162005] INFO: 基础特征抽取: 总行数: 442935"
      ]
     },
     "metadata": {
      "is_log": true,
      "status": "INFO"
     },
     "output_type": "display_data"
    },
    {
     "data": {
      "text/plain": [
       "[2019-04-30 10:36:04.168263] INFO: bigquant: general_feature_extractor.v7 运行完成[3.666572s]."
      ]
     },
     "metadata": {
      "is_log": true,
      "status": "INFO"
     },
     "output_type": "display_data"
    },
    {
     "data": {
      "text/plain": [
       "[2019-04-30 10:36:04.177466] INFO: bigquant: derived_feature_extractor.v3 开始运行.."
      ]
     },
     "metadata": {
      "is_log": true,
      "status": "INFO"
     },
     "output_type": "display_data"
    },
    {
     "data": {
      "text/plain": [
       "[2019-04-30 10:36:08.688455] INFO: general_feature_extractor: 提取完成 ta_ma(close_0,timeperiod=10), 3.774s"
      ]
     },
     "metadata": {
      "is_log": true,
      "status": "INFO"
     },
     "output_type": "display_data"
    },
    {
     "data": {
      "text/plain": [
       "[2019-04-30 10:36:08.777644] INFO: general_feature_extractor: /y_2017, 193398"
      ]
     },
     "metadata": {
      "is_log": true,
      "status": "INFO"
     },
     "output_type": "display_data"
    },
    {
     "data": {
      "text/plain": [
       "[2019-04-30 10:36:08.914976] INFO: general_feature_extractor: /y_2018, 249537"
      ]
     },
     "metadata": {
      "is_log": true,
      "status": "INFO"
     },
     "output_type": "display_data"
    },
    {
     "data": {
      "text/plain": [
       "[2019-04-30 10:36:09.152036] INFO: bigquant: derived_feature_extractor.v3 运行完成[4.974565s]."
      ]
     },
     "metadata": {
      "is_log": true,
      "status": "INFO"
     },
     "output_type": "display_data"
    }
   ],
   "source": [
    "# 本代码由可视化策略环境自动生成 2019年4月30日 13:57\n",
    "# 本代码单元只能在可视化模式下编辑。您也可以拷贝代码，粘贴到新建的代码单元或者策略，然后修改。\n",
    "\n",
    "\n",
    "m1 = M.input_features.v1(\n",
    "    features=\"\"\"\n",
    "# #号开始的表示注释，注释需单独一行\n",
    "# 多个特征，每行一个，可以包含基础特征和衍生特征，特征须为本平台特征\n",
    "mean(close_0,5)\n",
    "\"\"\"\n",
    ")\n",
    "\n",
    "m4 = M.instruments.v2(\n",
    "    start_date='2018-01-01',\n",
    "    end_date='2018-05-01',\n",
    "    market='CN_STOCK_A',\n",
    "    instrument_list='',\n",
    "    max_count=0\n",
    ")\n",
    "\n",
    "m2 = M.general_feature_extractor.v7(\n",
    "    instruments=m4.data,\n",
    "    features=m1.data,\n",
    "    start_date='',\n",
    "    end_date='',\n",
    "    before_start_days=90\n",
    ")\n",
    "\n",
    "m3 = M.derived_feature_extractor.v3(\n",
    "    input_data=m2.data,\n",
    "    features=m1.data,\n",
    "    date_col='date',\n",
    "    instrument_col='instrument',\n",
    "    drop_na=False,\n",
    "    remove_extra_columns=False,\n",
    "    user_functions={}\n",
    ")\n"
   ]
  },
  {
   "cell_type": "code",
   "execution_count": 5,
   "metadata": {},
   "outputs": [
    {
     "data": {
      "text/html": [
       "<div>\n",
       "<style scoped>\n",
       "    .dataframe tbody tr th:only-of-type {\n",
       "        vertical-align: middle;\n",
       "    }\n",
       "\n",
       "    .dataframe tbody tr th {\n",
       "        vertical-align: top;\n",
       "    }\n",
       "\n",
       "    .dataframe thead th {\n",
       "        text-align: right;\n",
       "    }\n",
       "</style>\n",
       "<table border=\"1\" class=\"dataframe\">\n",
       "  <thead>\n",
       "    <tr style=\"text-align: right;\">\n",
       "      <th></th>\n",
       "      <th>close_0</th>\n",
       "      <th>date</th>\n",
       "      <th>instrument</th>\n",
       "      <th>ta_ma(close_0,timeperiod=10)</th>\n",
       "    </tr>\n",
       "  </thead>\n",
       "  <tbody>\n",
       "    <tr>\n",
       "      <th>442930</th>\n",
       "      <td>25.799999</td>\n",
       "      <td>2018-04-27</td>\n",
       "      <td>603991.SHA</td>\n",
       "      <td>26.559000</td>\n",
       "    </tr>\n",
       "    <tr>\n",
       "      <th>442931</th>\n",
       "      <td>24.466702</td>\n",
       "      <td>2018-04-27</td>\n",
       "      <td>603993.SHA</td>\n",
       "      <td>25.102577</td>\n",
       "    </tr>\n",
       "    <tr>\n",
       "      <th>442932</th>\n",
       "      <td>25.330215</td>\n",
       "      <td>2018-04-27</td>\n",
       "      <td>603996.SHA</td>\n",
       "      <td>25.429760</td>\n",
       "    </tr>\n",
       "    <tr>\n",
       "      <th>442933</th>\n",
       "      <td>18.792486</td>\n",
       "      <td>2018-04-27</td>\n",
       "      <td>603997.SHA</td>\n",
       "      <td>18.529055</td>\n",
       "    </tr>\n",
       "    <tr>\n",
       "      <th>442934</th>\n",
       "      <td>17.223379</td>\n",
       "      <td>2018-04-27</td>\n",
       "      <td>603999.SHA</td>\n",
       "      <td>17.762819</td>\n",
       "    </tr>\n",
       "  </tbody>\n",
       "</table>\n",
       "</div>"
      ],
      "text/plain": [
       "          close_0       date  instrument  ta_ma(close_0,timeperiod=10)\n",
       "442930  25.799999 2018-04-27  603991.SHA                     26.559000\n",
       "442931  24.466702 2018-04-27  603993.SHA                     25.102577\n",
       "442932  25.330215 2018-04-27  603996.SHA                     25.429760\n",
       "442933  18.792486 2018-04-27  603997.SHA                     18.529055\n",
       "442934  17.223379 2018-04-27  603999.SHA                     17.762819"
      ]
     },
     "execution_count": 5,
     "metadata": {},
     "output_type": "execute_result"
    }
   ],
   "source": [
    "m3.data.read_df().tail()"
   ]
  }
 ],
 "metadata": {
  "kernelspec": {
   "display_name": "Python 3",
   "language": "python",
   "name": "python3"
  },
  "language_info": {
   "codemirror_mode": {
    "name": "ipython",
    "version": 3
   },
   "file_extension": ".py",
   "mimetype": "text/x-python",
   "name": "python",
   "nbconvert_exporter": "python",
   "pygments_lexer": "ipython3",
   "version": "3.5.4"
  }
 },
 "nbformat": 4,
 "nbformat_minor": 2
}
