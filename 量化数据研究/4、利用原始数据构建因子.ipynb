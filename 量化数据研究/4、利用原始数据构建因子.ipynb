{
 "cells": [
  {
   "cell_type": "markdown",
   "metadata": {},
   "source": [
    "### 利用原始数据和表达式引擎构建因子\n",
    "1、3年平均净利润增长率\n",
    "\n",
    "2、3年平均资产负债率\n",
    "\n",
    "3、3年净利润连续增长"
   ]
  },
  {
   "cell_type": "code",
   "execution_count": 41,
   "metadata": {
    "machine_learning_studio": "true",
    "ml_studio_json": "{\"Description\":\"实验创建于2019/4/22\",\"Summary\":\"\",\"Graph\":{\"EdgesInternal\":[{\"DestinationInputPortId\":\"-245:input_data\",\"SourceOutputPortId\":\"-222:data\"},{\"DestinationInputPortId\":\"-222:features\",\"SourceOutputPortId\":\"-232:data\"},{\"DestinationInputPortId\":\"-245:features\",\"SourceOutputPortId\":\"-232:data\"},{\"DestinationInputPortId\":\"-222:instruments\",\"SourceOutputPortId\":\"-236:data\"},{\"DestinationInputPortId\":\"-254:input_data\",\"SourceOutputPortId\":\"-245:data\"},{\"DestinationInputPortId\":\"-279:input_ds\",\"SourceOutputPortId\":\"-254:data\"},{\"DestinationInputPortId\":\"-287:input_data\",\"SourceOutputPortId\":\"-279:data_1\"},{\"DestinationInputPortId\":\"-300:input_data\",\"SourceOutputPortId\":\"-287:data\"},{\"DestinationInputPortId\":\"-287:features\",\"SourceOutputPortId\":\"-295:data\"},{\"DestinationInputPortId\":\"-62:input_data\",\"SourceOutputPortId\":\"-300:data\"},{\"DestinationInputPortId\":\"-304:input_1\",\"SourceOutputPortId\":\"-62:data\"}],\"ModuleNodes\":[{\"Id\":\"-222\",\"ModuleId\":\"BigQuantSpace.use_datasource.use_datasource-v1\",\"ModuleParameters\":[{\"Name\":\"datasource_id\",\"Value\":\"financial_statement_CN_STOCK_A\",\"ValueType\":\"Literal\",\"LinkedGlobalParameter\":null},{\"Name\":\"start_date\",\"Value\":\"\",\"ValueType\":\"Literal\",\"LinkedGlobalParameter\":null},{\"Name\":\"end_date\",\"Value\":\"\",\"ValueType\":\"Literal\",\"LinkedGlobalParameter\":null}],\"InputPortsInternal\":[{\"DataSourceId\":null,\"TrainedModelId\":null,\"TransformModuleId\":null,\"Name\":\"instruments\",\"NodeId\":\"-222\"},{\"DataSourceId\":null,\"TrainedModelId\":null,\"TransformModuleId\":null,\"Name\":\"features\",\"NodeId\":\"-222\"}],\"OutputPortsInternal\":[{\"Name\":\"data\",\"NodeId\":\"-222\",\"OutputType\":null}],\"UsePreviousResults\":true,\"moduleIdForCode\":1,\"IsPartOfPartialRun\":null,\"Comment\":\"\",\"CommentCollapsed\":true},{\"Id\":\"-232\",\"ModuleId\":\"BigQuantSpace.input_features.input_features-v1\",\"ModuleParameters\":[{\"Name\":\"features\",\"Value\":\"\\n# #号开始的表示注释，注释需单独一行\\n# 多个特征，每行一个，可以包含基础特征和衍生特征，特征须为本平台特征\\n\\n# 财报季度编号\\nfs_quarter_index\\n# 净利率同比增长率\\nfs_net_profit_yoy\\n# 净利润\\nfs_total_profit\\n# 资产负债率\\nzcfzl=(fs_current_liabilities+fs_non_current_liabilities)/(fs_current_assets+fs_non_current_assets)\",\"ValueType\":\"Literal\",\"LinkedGlobalParameter\":null}],\"InputPortsInternal\":[{\"DataSourceId\":null,\"TrainedModelId\":null,\"TransformModuleId\":null,\"Name\":\"features_ds\",\"NodeId\":\"-232\"}],\"OutputPortsInternal\":[{\"Name\":\"data\",\"NodeId\":\"-232\",\"OutputType\":null}],\"UsePreviousResults\":true,\"moduleIdForCode\":2,\"IsPartOfPartialRun\":null,\"Comment\":\"\",\"CommentCollapsed\":true},{\"Id\":\"-236\",\"ModuleId\":\"BigQuantSpace.instruments.instruments-v2\",\"ModuleParameters\":[{\"Name\":\"start_date\",\"Value\":\"2012-01-01\",\"ValueType\":\"Literal\",\"LinkedGlobalParameter\":null},{\"Name\":\"end_date\",\"Value\":\"2019-04-21\",\"ValueType\":\"Literal\",\"LinkedGlobalParameter\":null},{\"Name\":\"market\",\"Value\":\"CN_STOCK_A\",\"ValueType\":\"Literal\",\"LinkedGlobalParameter\":null},{\"Name\":\"instrument_list\",\"Value\":\"\",\"ValueType\":\"Literal\",\"LinkedGlobalParameter\":null},{\"Name\":\"max_count\",\"Value\":0,\"ValueType\":\"Literal\",\"LinkedGlobalParameter\":null}],\"InputPortsInternal\":[{\"DataSourceId\":null,\"TrainedModelId\":null,\"TransformModuleId\":null,\"Name\":\"rolling_conf\",\"NodeId\":\"-236\"}],\"OutputPortsInternal\":[{\"Name\":\"data\",\"NodeId\":\"-236\",\"OutputType\":null}],\"UsePreviousResults\":true,\"moduleIdForCode\":3,\"IsPartOfPartialRun\":null,\"Comment\":\"\",\"CommentCollapsed\":true},{\"Id\":\"-245\",\"ModuleId\":\"BigQuantSpace.derived_feature_extractor.derived_feature_extractor-v3\",\"ModuleParameters\":[{\"Name\":\"date_col\",\"Value\":\"date\",\"ValueType\":\"Literal\",\"LinkedGlobalParameter\":null},{\"Name\":\"instrument_col\",\"Value\":\"instrument\",\"ValueType\":\"Literal\",\"LinkedGlobalParameter\":null},{\"Name\":\"drop_na\",\"Value\":\"False\",\"ValueType\":\"Literal\",\"LinkedGlobalParameter\":null},{\"Name\":\"remove_extra_columns\",\"Value\":\"False\",\"ValueType\":\"Literal\",\"LinkedGlobalParameter\":null},{\"Name\":\"user_functions\",\"Value\":\"{}\",\"ValueType\":\"Literal\",\"LinkedGlobalParameter\":null}],\"InputPortsInternal\":[{\"DataSourceId\":null,\"TrainedModelId\":null,\"TransformModuleId\":null,\"Name\":\"input_data\",\"NodeId\":\"-245\"},{\"DataSourceId\":null,\"TrainedModelId\":null,\"TransformModuleId\":null,\"Name\":\"features\",\"NodeId\":\"-245\"}],\"OutputPortsInternal\":[{\"Name\":\"data\",\"NodeId\":\"-245\",\"OutputType\":null}],\"UsePreviousResults\":true,\"moduleIdForCode\":4,\"IsPartOfPartialRun\":null,\"Comment\":\"\",\"CommentCollapsed\":true},{\"Id\":\"-254\",\"ModuleId\":\"BigQuantSpace.filter.filter-v3\",\"ModuleParameters\":[{\"Name\":\"expr\",\"Value\":\"fs_quarter_index==4\",\"ValueType\":\"Literal\",\"LinkedGlobalParameter\":null},{\"Name\":\"output_left_data\",\"Value\":\"False\",\"ValueType\":\"Literal\",\"LinkedGlobalParameter\":null}],\"InputPortsInternal\":[{\"DataSourceId\":null,\"TrainedModelId\":null,\"TransformModuleId\":null,\"Name\":\"input_data\",\"NodeId\":\"-254\"}],\"OutputPortsInternal\":[{\"Name\":\"data\",\"NodeId\":\"-254\",\"OutputType\":null},{\"Name\":\"left_data\",\"NodeId\":\"-254\",\"OutputType\":null}],\"UsePreviousResults\":true,\"moduleIdForCode\":5,\"IsPartOfPartialRun\":null,\"Comment\":\"\",\"CommentCollapsed\":true},{\"Id\":\"-279\",\"ModuleId\":\"BigQuantSpace.sort.sort-v4\",\"ModuleParameters\":[{\"Name\":\"sort_by\",\"Value\":\"date\",\"ValueType\":\"Literal\",\"LinkedGlobalParameter\":null},{\"Name\":\"group_by\",\"Value\":\"instrument\",\"ValueType\":\"Literal\",\"LinkedGlobalParameter\":null},{\"Name\":\"keep_columns\",\"Value\":\"--\",\"ValueType\":\"Literal\",\"LinkedGlobalParameter\":null},{\"Name\":\"ascending\",\"Value\":\"True\",\"ValueType\":\"Literal\",\"LinkedGlobalParameter\":null}],\"InputPortsInternal\":[{\"DataSourceId\":null,\"TrainedModelId\":null,\"TransformModuleId\":null,\"Name\":\"input_ds\",\"NodeId\":\"-279\"},{\"DataSourceId\":null,\"TrainedModelId\":null,\"TransformModuleId\":null,\"Name\":\"sort_by_ds\",\"NodeId\":\"-279\"}],\"OutputPortsInternal\":[{\"Name\":\"data_1\",\"NodeId\":\"-279\",\"OutputType\":null}],\"UsePreviousResults\":true,\"moduleIdForCode\":9,\"IsPartOfPartialRun\":null,\"Comment\":\"\",\"CommentCollapsed\":true},{\"Id\":\"-287\",\"ModuleId\":\"BigQuantSpace.derived_feature_extractor.derived_feature_extractor-v3\",\"ModuleParameters\":[{\"Name\":\"date_col\",\"Value\":\"date\",\"ValueType\":\"Literal\",\"LinkedGlobalParameter\":null},{\"Name\":\"instrument_col\",\"Value\":\"instrument\",\"ValueType\":\"Literal\",\"LinkedGlobalParameter\":null},{\"Name\":\"drop_na\",\"Value\":\"False\",\"ValueType\":\"Literal\",\"LinkedGlobalParameter\":null},{\"Name\":\"remove_extra_columns\",\"Value\":\"False\",\"ValueType\":\"Literal\",\"LinkedGlobalParameter\":null},{\"Name\":\"user_functions\",\"Value\":\"{}\",\"ValueType\":\"Literal\",\"LinkedGlobalParameter\":null}],\"InputPortsInternal\":[{\"DataSourceId\":null,\"TrainedModelId\":null,\"TransformModuleId\":null,\"Name\":\"input_data\",\"NodeId\":\"-287\"},{\"DataSourceId\":null,\"TrainedModelId\":null,\"TransformModuleId\":null,\"Name\":\"features\",\"NodeId\":\"-287\"}],\"OutputPortsInternal\":[{\"Name\":\"data\",\"NodeId\":\"-287\",\"OutputType\":null}],\"UsePreviousResults\":true,\"moduleIdForCode\":10,\"IsPartOfPartialRun\":null,\"Comment\":\"\",\"CommentCollapsed\":true},{\"Id\":\"-295\",\"ModuleId\":\"BigQuantSpace.input_features.input_features-v1\",\"ModuleParameters\":[{\"Name\":\"features\",\"Value\":\"\\n# #号开始的表示注释，注释需单独一行\\n# 多个特征，每行一个，可以包含基础特征和衍生特征，特征须为本平台特征\\n#3年平均净利润增长率\\npjjlyzzl=mean(fs_net_profit_yoy,3)\\n#3年平均资产负债率\\npjzcfzl=mean(zcfzl,3)\\n# 3年净利润连续增长\\nlrydz_3year=where((fs_total_profit>shift(fs_total_profit,1))&(shift(fs_total_profit,1)>shift(fs_total_profit,2)),1,0)\",\"ValueType\":\"Literal\",\"LinkedGlobalParameter\":null}],\"InputPortsInternal\":[{\"DataSourceId\":null,\"TrainedModelId\":null,\"TransformModuleId\":null,\"Name\":\"features_ds\",\"NodeId\":\"-295\"}],\"OutputPortsInternal\":[{\"Name\":\"data\",\"NodeId\":\"-295\",\"OutputType\":null}],\"UsePreviousResults\":true,\"moduleIdForCode\":11,\"IsPartOfPartialRun\":null,\"Comment\":\"\",\"CommentCollapsed\":true},{\"Id\":\"-300\",\"ModuleId\":\"BigQuantSpace.filter.filter-v3\",\"ModuleParameters\":[{\"Name\":\"expr\",\"Value\":\"xsjlv>60\",\"ValueType\":\"Literal\",\"LinkedGlobalParameter\":null},{\"Name\":\"output_left_data\",\"Value\":\"False\",\"ValueType\":\"Literal\",\"LinkedGlobalParameter\":null}],\"InputPortsInternal\":[{\"DataSourceId\":null,\"TrainedModelId\":null,\"TransformModuleId\":null,\"Name\":\"input_data\",\"NodeId\":\"-300\"}],\"OutputPortsInternal\":[{\"Name\":\"data\",\"NodeId\":\"-300\",\"OutputType\":null},{\"Name\":\"left_data\",\"NodeId\":\"-300\",\"OutputType\":null}],\"UsePreviousResults\":true,\"moduleIdForCode\":12,\"IsPartOfPartialRun\":null,\"Comment\":\"\",\"CommentCollapsed\":true},{\"Id\":\"-304\",\"ModuleId\":\"BigQuantSpace.df_to_csv.df_to_csv-v2\",\"ModuleParameters\":[{\"Name\":\"name\",\"Value\":\"财务数据选股.csv\",\"ValueType\":\"Literal\",\"LinkedGlobalParameter\":null}],\"InputPortsInternal\":[{\"DataSourceId\":null,\"TrainedModelId\":null,\"TransformModuleId\":null,\"Name\":\"input_1\",\"NodeId\":\"-304\"}],\"OutputPortsInternal\":[],\"UsePreviousResults\":true,\"moduleIdForCode\":13,\"IsPartOfPartialRun\":null,\"Comment\":\"\",\"CommentCollapsed\":true},{\"Id\":\"-62\",\"ModuleId\":\"BigQuantSpace.filter.filter-v3\",\"ModuleParameters\":[{\"Name\":\"expr\",\"Value\":\"pjjlyzzl>0.15 and lrydz_3year>0 and pjzcfzl<0.25 and fs_net_cash_flow>0  and yyjlv>0.3\",\"ValueType\":\"Literal\",\"LinkedGlobalParameter\":null},{\"Name\":\"output_left_data\",\"Value\":\"False\",\"ValueType\":\"Literal\",\"LinkedGlobalParameter\":null}],\"InputPortsInternal\":[{\"DataSourceId\":null,\"TrainedModelId\":null,\"TransformModuleId\":null,\"Name\":\"input_data\",\"NodeId\":\"-62\"}],\"OutputPortsInternal\":[{\"Name\":\"data\",\"NodeId\":\"-62\",\"OutputType\":null},{\"Name\":\"left_data\",\"NodeId\":\"-62\",\"OutputType\":null}],\"UsePreviousResults\":true,\"moduleIdForCode\":6,\"IsPartOfPartialRun\":null,\"Comment\":\"\",\"CommentCollapsed\":true}],\"SerializedClientData\":\"<?xml version='1.0' encoding='utf-16'?><DataV1 xmlns:xsd='http://www.w3.org/2001/XMLSchema' xmlns:xsi='http://www.w3.org/2001/XMLSchema-instance'><Meta /><NodePositions><NodePosition Node='-222' Position='230,227,200,200'/><NodePosition Node='-232' Position='447,143,200,200'/><NodePosition Node='-236' Position='105,146,200,200'/><NodePosition Node='-245' Position='236,316,200,200'/><NodePosition Node='-254' Position='256,395,200,200'/><NodePosition Node='-279' Position='264,478,200,200'/><NodePosition Node='-287' Position='290,575,200,200'/><NodePosition Node='-295' Position='556.3760986328125,472.1880798339844,200,200'/><NodePosition Node='-300' Position='299,657,200,200'/><NodePosition Node='-304' Position='287,907,200,200'/><NodePosition Node='-62' Position='344,760,200,200'/></NodePositions><NodeGroups /></DataV1>\"},\"IsDraft\":true,\"ParentExperimentId\":null,\"WebService\":{\"IsWebServiceExperiment\":false,\"Inputs\":[],\"Outputs\":[],\"Parameters\":[{\"Name\":\"交易日期\",\"Value\":\"\",\"ParameterDefinition\":{\"Name\":\"交易日期\",\"FriendlyName\":\"交易日期\",\"DefaultValue\":\"\",\"ParameterType\":\"String\",\"HasDefaultValue\":true,\"IsOptional\":true,\"ParameterRules\":[],\"HasRules\":false,\"MarkupType\":0,\"CredentialDescriptor\":null}}],\"WebServiceGroupId\":null,\"SerializedClientData\":\"<?xml version='1.0' encoding='utf-16'?><DataV1 xmlns:xsd='http://www.w3.org/2001/XMLSchema' xmlns:xsi='http://www.w3.org/2001/XMLSchema-instance'><Meta /><NodePositions></NodePositions><NodeGroups /></DataV1>\"},\"DisableNodesUpdate\":false,\"Category\":\"user\",\"Tags\":[],\"IsPartialRun\":true}"
   },
   "outputs": [
    {
     "data": {
      "text/plain": [
       "[2019-04-23 20:55:28.826551] INFO: bigquant: input_features.v1 开始运行.."
      ]
     },
     "metadata": {
      "is_log": true,
      "status": "INFO"
     },
     "output_type": "display_data"
    },
    {
     "data": {
      "text/plain": [
       "[2019-04-23 20:55:28.982880] INFO: bigquant: input_features.v1 运行完成[0.15631s]."
      ]
     },
     "metadata": {
      "is_log": true,
      "status": "INFO"
     },
     "output_type": "display_data"
    },
    {
     "data": {
      "text/plain": [
       "[2019-04-23 20:55:28.990472] INFO: bigquant: instruments.v2 开始运行.."
      ]
     },
     "metadata": {
      "is_log": true,
      "status": "INFO"
     },
     "output_type": "display_data"
    },
    {
     "data": {
      "text/plain": [
       "[2019-04-23 20:55:29.085563] INFO: bigquant: 命中缓存"
      ]
     },
     "metadata": {
      "is_log": true,
      "status": "INFO"
     },
     "output_type": "display_data"
    },
    {
     "data": {
      "text/plain": [
       "[2019-04-23 20:55:29.088993] INFO: bigquant: instruments.v2 运行完成[0.098507s]."
      ]
     },
     "metadata": {
      "is_log": true,
      "status": "INFO"
     },
     "output_type": "display_data"
    },
    {
     "data": {
      "text/plain": [
       "[2019-04-23 20:55:29.095095] INFO: bigquant: use_datasource.v1 开始运行.."
      ]
     },
     "metadata": {
      "is_log": true,
      "status": "INFO"
     },
     "output_type": "display_data"
    },
    {
     "data": {
      "text/plain": [
       "[2019-04-23 20:55:30.424507] INFO: bigquant: use_datasource.v1 运行完成[1.329404s]."
      ]
     },
     "metadata": {
      "is_log": true,
      "status": "INFO"
     },
     "output_type": "display_data"
    },
    {
     "data": {
      "text/plain": [
       "[2019-04-23 20:55:30.429069] INFO: bigquant: derived_feature_extractor.v3 开始运行.."
      ]
     },
     "metadata": {
      "is_log": true,
      "status": "INFO"
     },
     "output_type": "display_data"
    },
    {
     "data": {
      "text/plain": [
       "[2019-04-23 20:55:30.633964] INFO: general_feature_extractor: 提取完成 xsjlv=fs_gross_profit_margin, 0.001s"
      ]
     },
     "metadata": {
      "is_log": true,
      "status": "INFO"
     },
     "output_type": "display_data"
    },
    {
     "data": {
      "text/plain": [
       "[2019-04-23 20:55:30.638247] INFO: general_feature_extractor: 提取完成 yyjlv=fs_net_profit/fs_operating_revenue, 0.002s"
      ]
     },
     "metadata": {
      "is_log": true,
      "status": "INFO"
     },
     "output_type": "display_data"
    },
    {
     "data": {
      "text/plain": [
       "[2019-04-23 20:55:30.648070] INFO: general_feature_extractor: 提取完成 zcfzl=(fs_current_liabilities+fs_non_current_liabilities)/(fs_current_assets+fs_non_current_assets), 0.003s"
      ]
     },
     "metadata": {
      "is_log": true,
      "status": "INFO"
     },
     "output_type": "display_data"
    },
    {
     "data": {
      "text/plain": [
       "[2019-04-23 20:55:30.758425] INFO: general_feature_extractor: /data, 80314"
      ]
     },
     "metadata": {
      "is_log": true,
      "status": "INFO"
     },
     "output_type": "display_data"
    },
    {
     "data": {
      "text/plain": [
       "[2019-04-23 20:55:30.984140] INFO: bigquant: derived_feature_extractor.v3 运行完成[0.555054s]."
      ]
     },
     "metadata": {
      "is_log": true,
      "status": "INFO"
     },
     "output_type": "display_data"
    },
    {
     "data": {
      "text/plain": [
       "[2019-04-23 20:55:30.989500] INFO: bigquant: filter.v3 开始运行.."
      ]
     },
     "metadata": {
      "is_log": true,
      "status": "INFO"
     },
     "output_type": "display_data"
    },
    {
     "data": {
      "text/plain": [
       "[2019-04-23 20:55:30.999435] INFO: filter: 使用表达式 fs_quarter_index==4 过滤"
      ]
     },
     "metadata": {
      "is_log": true,
      "status": "INFO"
     },
     "output_type": "display_data"
    },
    {
     "data": {
      "text/plain": [
       "[2019-04-23 20:55:31.136600] INFO: filter: 过滤 /data, 20650/0/80314"
      ]
     },
     "metadata": {
      "is_log": true,
      "status": "INFO"
     },
     "output_type": "display_data"
    },
    {
     "data": {
      "text/plain": [
       "[2019-04-23 20:55:31.252413] INFO: bigquant: filter.v3 运行完成[0.262885s]."
      ]
     },
     "metadata": {
      "is_log": true,
      "status": "INFO"
     },
     "output_type": "display_data"
    },
    {
     "data": {
      "text/plain": [
       "[2019-04-23 20:55:31.273906] INFO: bigquant: sort.v4 开始运行.."
      ]
     },
     "metadata": {
      "is_log": true,
      "status": "INFO"
     },
     "output_type": "display_data"
    },
    {
     "data": {
      "text/plain": [
       "[2019-04-23 20:55:32.189712] INFO: bigquant: sort.v4 运行完成[0.915793s]."
      ]
     },
     "metadata": {
      "is_log": true,
      "status": "INFO"
     },
     "output_type": "display_data"
    },
    {
     "data": {
      "text/plain": [
       "[2019-04-23 20:55:32.201484] INFO: bigquant: input_features.v1 开始运行.."
      ]
     },
     "metadata": {
      "is_log": true,
      "status": "INFO"
     },
     "output_type": "display_data"
    },
    {
     "data": {
      "text/plain": [
       "[2019-04-23 20:55:32.255973] INFO: bigquant: 命中缓存"
      ]
     },
     "metadata": {
      "is_log": true,
      "status": "INFO"
     },
     "output_type": "display_data"
    },
    {
     "data": {
      "text/plain": [
       "[2019-04-23 20:55:32.258816] INFO: bigquant: input_features.v1 运行完成[0.057328s]."
      ]
     },
     "metadata": {
      "is_log": true,
      "status": "INFO"
     },
     "output_type": "display_data"
    },
    {
     "data": {
      "text/plain": [
       "[2019-04-23 20:55:32.268007] INFO: bigquant: derived_feature_extractor.v3 开始运行.."
      ]
     },
     "metadata": {
      "is_log": true,
      "status": "INFO"
     },
     "output_type": "display_data"
    },
    {
     "data": {
      "text/plain": [
       "[2019-04-23 20:55:34.579746] INFO: general_feature_extractor: 提取完成 pjjlyzzl=mean(fs_net_profit_yoy,3), 2.200s"
      ]
     },
     "metadata": {
      "is_log": true,
      "status": "INFO"
     },
     "output_type": "display_data"
    },
    {
     "data": {
      "text/plain": [
       "[2019-04-23 20:55:36.356753] INFO: general_feature_extractor: 提取完成 pjzcfzl=mean(zcfzl,3), 1.774s"
      ]
     },
     "metadata": {
      "is_log": true,
      "status": "INFO"
     },
     "output_type": "display_data"
    },
    {
     "data": {
      "text/plain": [
       "[2019-04-23 20:55:36.395848] INFO: general_feature_extractor: 提取完成 lrydz_3year=where((fs_total_profit>shift(fs_total_profit,1))&(shift(fs_total_profit,1)>shift(fs_total_profit,2)),1,0), 0.035s"
      ]
     },
     "metadata": {
      "is_log": true,
      "status": "INFO"
     },
     "output_type": "display_data"
    },
    {
     "data": {
      "text/plain": [
       "[2019-04-23 20:55:36.523937] INFO: general_feature_extractor: /data, 20650"
      ]
     },
     "metadata": {
      "is_log": true,
      "status": "INFO"
     },
     "output_type": "display_data"
    },
    {
     "data": {
      "text/plain": [
       "[2019-04-23 20:55:36.651724] INFO: bigquant: derived_feature_extractor.v3 运行完成[4.383712s]."
      ]
     },
     "metadata": {
      "is_log": true,
      "status": "INFO"
     },
     "output_type": "display_data"
    },
    {
     "data": {
      "text/plain": [
       "[2019-04-23 20:55:36.655428] INFO: bigquant: filter.v3 开始运行.."
      ]
     },
     "metadata": {
      "is_log": true,
      "status": "INFO"
     },
     "output_type": "display_data"
    },
    {
     "data": {
      "text/plain": [
       "[2019-04-23 20:55:36.661961] INFO: filter: 使用表达式 xsjlv>60 过滤"
      ]
     },
     "metadata": {
      "is_log": true,
      "status": "INFO"
     },
     "output_type": "display_data"
    },
    {
     "data": {
      "text/plain": [
       "[2019-04-23 20:55:36.809147] INFO: filter: 过滤 /data, 1369/0/20650"
      ]
     },
     "metadata": {
      "is_log": true,
      "status": "INFO"
     },
     "output_type": "display_data"
    },
    {
     "data": {
      "text/plain": [
       "[2019-04-23 20:55:36.924591] INFO: bigquant: filter.v3 运行完成[0.269142s]."
      ]
     },
     "metadata": {
      "is_log": true,
      "status": "INFO"
     },
     "output_type": "display_data"
    },
    {
     "data": {
      "text/plain": [
       "[2019-04-23 20:55:36.928949] INFO: bigquant: filter.v3 开始运行.."
      ]
     },
     "metadata": {
      "is_log": true,
      "status": "INFO"
     },
     "output_type": "display_data"
    },
    {
     "data": {
      "text/plain": [
       "[2019-04-23 20:55:36.935020] INFO: filter: 使用表达式 pjjlyzzl>0.15 and lrydz_3year>0 and pjzcfzl<0.25 and fs_net_cash_flow>0  and yyjlv>0.3 过滤"
      ]
     },
     "metadata": {
      "is_log": true,
      "status": "INFO"
     },
     "output_type": "display_data"
    },
    {
     "data": {
      "text/plain": [
       "[2019-04-23 20:55:37.032866] INFO: filter: 过滤 /data, 71/0/1369"
      ]
     },
     "metadata": {
      "is_log": true,
      "status": "INFO"
     },
     "output_type": "display_data"
    },
    {
     "data": {
      "text/plain": [
       "[2019-04-23 20:55:37.144939] INFO: bigquant: filter.v3 运行完成[0.215971s]."
      ]
     },
     "metadata": {
      "is_log": true,
      "status": "INFO"
     },
     "output_type": "display_data"
    },
    {
     "data": {
      "text/plain": [
       "[2019-04-23 20:55:37.150707] INFO: bigquant: df_to_csv.v2 开始运行.."
      ]
     },
     "metadata": {
      "is_log": true,
      "status": "INFO"
     },
     "output_type": "display_data"
    },
    {
     "data": {
      "text/plain": [
       "[2019-04-23 20:55:37.247601] INFO: bigquant: df_to_csv.v2 运行完成[0.096881s]."
      ]
     },
     "metadata": {
      "is_log": true,
      "status": "INFO"
     },
     "output_type": "display_data"
    }
   ],
   "source": [
    "# 本代码由可视化策略环境自动生成 2019年5月9日 08:58\n",
    "# 本代码单元只能在可视化模式下编辑。您也可以拷贝代码，粘贴到新建的代码单元或者策略，然后修改。\n",
    "\n",
    "\n",
    "m2 = M.input_features.v1(\n",
    "    features=\"\"\"\n",
    "# #号开始的表示注释，注释需单独一行\n",
    "# 多个特征，每行一个，可以包含基础特征和衍生特征，特征须为本平台特征\n",
    "\n",
    "# 财报季度编号\n",
    "fs_quarter_index\n",
    "# 净利率同比增长率\n",
    "fs_net_profit_yoy\n",
    "# 净利润\n",
    "fs_total_profit\n",
    "# 资产负债率\n",
    "zcfzl=(fs_current_liabilities+fs_non_current_liabilities)/(fs_current_assets+fs_non_current_assets)\"\"\"\n",
    ")\n",
    "\n",
    "m3 = M.instruments.v2(\n",
    "    start_date='2012-01-01',\n",
    "    end_date='2019-04-21',\n",
    "    market='CN_STOCK_A',\n",
    "    instrument_list='',\n",
    "    max_count=0\n",
    ")\n",
    "\n",
    "m1 = M.use_datasource.v1(\n",
    "    instruments=m3.data,\n",
    "    features=m2.data,\n",
    "    datasource_id='financial_statement_CN_STOCK_A',\n",
    "    start_date='',\n",
    "    end_date=''\n",
    ")\n",
    "\n",
    "m4 = M.derived_feature_extractor.v3(\n",
    "    input_data=m1.data,\n",
    "    features=m2.data,\n",
    "    date_col='date',\n",
    "    instrument_col='instrument',\n",
    "    drop_na=False,\n",
    "    remove_extra_columns=False,\n",
    "    user_functions={}\n",
    ")\n",
    "\n",
    "m5 = M.filter.v3(\n",
    "    input_data=m4.data,\n",
    "    expr='fs_quarter_index==4',\n",
    "    output_left_data=False\n",
    ")\n",
    "\n",
    "m9 = M.sort.v4(\n",
    "    input_ds=m5.data,\n",
    "    sort_by='date',\n",
    "    group_by='instrument',\n",
    "    keep_columns='--',\n",
    "    ascending=True\n",
    ")\n",
    "\n",
    "m11 = M.input_features.v1(\n",
    "    features=\"\"\"\n",
    "# #号开始的表示注释，注释需单独一行\n",
    "# 多个特征，每行一个，可以包含基础特征和衍生特征，特征须为本平台特征\n",
    "#3年平均净利润增长率\n",
    "pjjlyzzl=mean(fs_net_profit_yoy,3)\n",
    "#3年平均资产负债率\n",
    "pjzcfzl=mean(zcfzl,3)\n",
    "# 3年净利润连续增长\n",
    "lrydz_3year=where((fs_total_profit>shift(fs_total_profit,1))&(shift(fs_total_profit,1)>shift(fs_total_profit,2)),1,0)\"\"\"\n",
    ")\n",
    "\n",
    "m10 = M.derived_feature_extractor.v3(\n",
    "    input_data=m9.data_1,\n",
    "    features=m11.data,\n",
    "    date_col='date',\n",
    "    instrument_col='instrument',\n",
    "    drop_na=False,\n",
    "    remove_extra_columns=False,\n",
    "    user_functions={}\n",
    ")\n",
    "\n",
    "m12 = M.filter.v3(\n",
    "    input_data=m10.data,\n",
    "    expr='xsjlv>60',\n",
    "    output_left_data=False\n",
    ")\n",
    "\n",
    "m6 = M.filter.v3(\n",
    "    input_data=m12.data,\n",
    "    expr='pjjlyzzl>0.15 and lrydz_3year>0 and pjzcfzl<0.25 and fs_net_cash_flow>0  and yyjlv>0.3',\n",
    "    output_left_data=False\n",
    ")\n",
    "\n",
    "m13 = M.df_to_csv.v2(\n",
    "    input_1=m6.data,\n",
    "    name='财务数据选股.csv'\n",
    ")\n"
   ]
  }
 ],
 "metadata": {
  "kernelspec": {
   "display_name": "Python 3",
   "language": "python",
   "name": "python3"
  },
  "language_info": {
   "codemirror_mode": {
    "name": "ipython",
    "version": 3
   },
   "file_extension": ".py",
   "mimetype": "text/x-python",
   "name": "python",
   "nbconvert_exporter": "python",
   "pygments_lexer": "ipython3",
   "version": "3.5.4"
  }
 },
 "nbformat": 4,
 "nbformat_minor": 2
}
