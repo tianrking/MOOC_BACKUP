{
 "cells": [
  {
   "cell_type": "markdown",
   "metadata": {},
   "source": [
    "### 因子预处理(上)"
   ]
  },
  {
   "cell_type": "code",
   "execution_count": null,
   "metadata": {},
   "outputs": [],
   "source": [
    "import numpy as np\n",
    "import matplotlib.mlab as mlab\n",
    "import matplotlib.pyplot as plt\n",
    "\n",
    "# 生成一个正态分布\n",
    "def demo1():\n",
    "    mu ,sigma = 0, 1\n",
    "    sampleNo = 10000\n",
    "    np.random.seed(0)\n",
    "    s = np.random.normal(mu, sigma, sampleNo)\n",
    "    plt.hist(s, bins=100, normed=True)\n",
    "    plt.show()\n",
    "demo1()"
   ]
  },
  {
   "cell_type": "markdown",
   "metadata": {},
   "source": [
    "### 一、基础数据获取"
   ]
  },
  {
   "cell_type": "code",
   "execution_count": 1,
   "metadata": {},
   "outputs": [],
   "source": [
    "start_date = '2015-01-01'\n",
    "end_date='2017-08-10'\n",
    "all_data = DataSource('market_value_CN_STOCK_A').read(start_date = start_date, end_date = end_date)"
   ]
  },
  {
   "cell_type": "code",
   "execution_count": null,
   "metadata": {},
   "outputs": [],
   "source": [
    "all_data.head()"
   ]
  },
  {
   "cell_type": "code",
   "execution_count": 14,
   "metadata": {},
   "outputs": [],
   "source": [
    "# 获取其中某一天数据\n",
    "df = all_data[all_data['date']=='2015-01-05']"
   ]
  },
  {
   "cell_type": "code",
   "execution_count": null,
   "metadata": {},
   "outputs": [],
   "source": [
    "# 某一天数据列的密度图分析，可以发现数据很粗糙，极值存在，需要做一些处理和转化\n",
    "import seaborn as sns\n",
    "sns.kdeplot(df['market_cap_float'])"
   ]
  },
  {
   "cell_type": "markdown",
   "metadata": {},
   "source": [
    "### 二、观察数据分布"
   ]
  },
  {
   "cell_type": "markdown",
   "metadata": {},
   "source": [
    "##### 数据右偏的话可以对所有数据取对数、取平方根等，它的原理是因为这样的变换的导数是逐渐减小的，也就是说它的增速逐渐减缓，所以就可以把大的数据向左移，使数据接近正态分布。如果左偏的话可以取相反数转化为右偏的情况。"
   ]
  },
  {
   "cell_type": "code",
   "execution_count": null,
   "metadata": {},
   "outputs": [],
   "source": [
    "df['market_cap_float'] = np.log(df['market_cap_float'])\n",
    "df['market_cap_float'].hist(bins=100, figsize=[10,6])"
   ]
  },
  {
   "cell_type": "markdown",
   "metadata": {},
   "source": [
    "### 三、数据处理"
   ]
  },
  {
   "cell_type": "markdown",
   "metadata": {},
   "source": [
    "#### 1. 缺失值处理"
   ]
  },
  {
   "cell_type": "code",
   "execution_count": null,
   "metadata": {},
   "outputs": [],
   "source": [
    "# 缺失值查看\n",
    "df.isnull().sum()"
   ]
  },
  {
   "cell_type": "code",
   "execution_count": 40,
   "metadata": {},
   "outputs": [],
   "source": [
    "df.dropna(inplace=True)"
   ]
  },
  {
   "cell_type": "markdown",
   "metadata": {},
   "source": [
    "####  2. 极值处理"
   ]
  },
  {
   "cell_type": "code",
   "execution_count": null,
   "metadata": {},
   "outputs": [],
   "source": [
    "p_95 = df['market_cap_float'].quantile(0.95)\n",
    "p_5 = df['market_cap_float'].quantile(0.05)\n",
    "df_winsorize = df[(df.market_cap_float<p_95)&(df.market_cap_float>p_5)] # 截断处理\n",
    "# 极值截断处理后的分布\n",
    "df_winsorize['market_cap_float'].hist(bins=100, figsize=[10,6])"
   ]
  },
  {
   "cell_type": "markdown",
   "metadata": {},
   "source": [
    "#### 3、标准化"
   ]
  },
  {
   "cell_type": "code",
   "execution_count": null,
   "metadata": {},
   "outputs": [],
   "source": [
    "df_standalize = df_winsorize.copy()\n",
    "df_standalize['market_cap_float'] = df_standalize[['market_cap_float']].apply(lambda x:(x-np.mean(x))/np.std(x))\n",
    "df_standalize['market_cap_float'].head()"
   ]
  },
  {
   "cell_type": "code",
   "execution_count": null,
   "metadata": {},
   "outputs": [],
   "source": [
    "df_standalize['market_cap_float'].hist(bins=100, figsize=[10,6])"
   ]
  },
  {
   "cell_type": "markdown",
   "metadata": {},
   "source": [
    "## 三、整合预处理"
   ]
  },
  {
   "cell_type": "code",
   "execution_count": 55,
   "metadata": {},
   "outputs": [],
   "source": [
    "# 因子预处理函数\n",
    "def preprocess(df,factor):\n",
    "    # 缺失值处理\n",
    "    df[factor].fillna(np.nanmean(df[factor]), inplace=True)\n",
    "    # 极值处理\n",
    "    p_95 = df[factor].quantile(0.95)\n",
    "    p_5 = df[factor].quantile(0.05)\n",
    "    df = df[(df[factor] < p_95)&(df[factor] > p_5)]\n",
    "    # 标准化处理\n",
    "    df[factor] = (df[factor] - df[factor].mean()) / df[factor].std()\n",
    "    return df[factor] \n",
    "\n",
    "# 按每个交易日进行因子预处理，此时因子预处理完成\n",
    "df_preprocess = df.groupby('date').apply(lambda x:preprocess(x,factor='market_cap_float'))"
   ]
  },
  {
   "cell_type": "code",
   "execution_count": null,
   "metadata": {},
   "outputs": [],
   "source": [
    "plt.figure(figsize=[10,6])\n",
    "m= plt.hist(df_preprocess,bins=100)"
   ]
  }
 ],
 "metadata": {
  "kernelspec": {
   "display_name": "Python 3",
   "language": "python",
   "name": "python3"
  },
  "language_info": {
   "codemirror_mode": {
    "name": "ipython",
    "version": 3
   },
   "file_extension": ".py",
   "mimetype": "text/x-python",
   "name": "python",
   "nbconvert_exporter": "python",
   "pygments_lexer": "ipython3",
   "version": "3.5.4"
  }
 },
 "nbformat": 4,
 "nbformat_minor": 2
}
