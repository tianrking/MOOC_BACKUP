{
 "cells": [
  {
   "cell_type": "markdown",
   "metadata": {},
   "source": [
    "### 因子预处理(中)"
   ]
  },
  {
   "cell_type": "code",
   "execution_count": 12,
   "metadata": {
    "machine_learning_studio": "true",
    "ml_studio_json": "{\"Description\":\"实验创建于2017/8/26\",\"Summary\":\"\",\"Graph\":{\"EdgesInternal\":[{\"DestinationInputPortId\":\"-107:instruments\",\"SourceOutputPortId\":\"287d2cb0-f53c-4101-bdf8-104b137c8601-8:data\"},{\"DestinationInputPortId\":\"-107:features\",\"SourceOutputPortId\":\"287d2cb0-f53c-4101-bdf8-104b137c8601-24:data\"},{\"DestinationInputPortId\":\"-114:features\",\"SourceOutputPortId\":\"287d2cb0-f53c-4101-bdf8-104b137c8601-24:data\"},{\"DestinationInputPortId\":\"-114:input_data\",\"SourceOutputPortId\":\"-107:data\"},{\"DestinationInputPortId\":\"-261:input_data\",\"SourceOutputPortId\":\"-114:data\"},{\"DestinationInputPortId\":\"-895:input_data\",\"SourceOutputPortId\":\"-261:data\"}],\"ModuleNodes\":[{\"Id\":\"287d2cb0-f53c-4101-bdf8-104b137c8601-8\",\"ModuleId\":\"BigQuantSpace.instruments.instruments-v2\",\"ModuleParameters\":[{\"Name\":\"start_date\",\"Value\":\"2015-01-01\",\"ValueType\":\"Literal\",\"LinkedGlobalParameter\":null},{\"Name\":\"end_date\",\"Value\":\"2016-01-01\",\"ValueType\":\"Literal\",\"LinkedGlobalParameter\":null},{\"Name\":\"market\",\"Value\":\"CN_STOCK_A\",\"ValueType\":\"Literal\",\"LinkedGlobalParameter\":null},{\"Name\":\"instrument_list\",\"Value\":\"\",\"ValueType\":\"Literal\",\"LinkedGlobalParameter\":null},{\"Name\":\"max_count\",\"Value\":\"0\",\"ValueType\":\"Literal\",\"LinkedGlobalParameter\":null}],\"InputPortsInternal\":[{\"DataSourceId\":null,\"TrainedModelId\":null,\"TransformModuleId\":null,\"Name\":\"rolling_conf\",\"NodeId\":\"287d2cb0-f53c-4101-bdf8-104b137c8601-8\"}],\"OutputPortsInternal\":[{\"Name\":\"data\",\"NodeId\":\"287d2cb0-f53c-4101-bdf8-104b137c8601-8\",\"OutputType\":null}],\"UsePreviousResults\":true,\"moduleIdForCode\":1,\"IsPartOfPartialRun\":null,\"Comment\":\"\",\"CommentCollapsed\":true},{\"Id\":\"287d2cb0-f53c-4101-bdf8-104b137c8601-24\",\"ModuleId\":\"BigQuantSpace.input_features.input_features-v1\",\"ModuleParameters\":[{\"Name\":\"features\",\"Value\":\"# #号开始的表示注释\\n# 多个特征，每行一个，可以包含基础特征和衍生特征\\nmarket_cap_float_0\\nlog(market_cap_float_0)/group_mean(industry_sw_level1_0,log(market_cap_float_0))\",\"ValueType\":\"Literal\",\"LinkedGlobalParameter\":null}],\"InputPortsInternal\":[{\"DataSourceId\":null,\"TrainedModelId\":null,\"TransformModuleId\":null,\"Name\":\"features_ds\",\"NodeId\":\"287d2cb0-f53c-4101-bdf8-104b137c8601-24\"}],\"OutputPortsInternal\":[{\"Name\":\"data\",\"NodeId\":\"287d2cb0-f53c-4101-bdf8-104b137c8601-24\",\"OutputType\":null}],\"UsePreviousResults\":true,\"moduleIdForCode\":3,\"IsPartOfPartialRun\":null,\"Comment\":\"\",\"CommentCollapsed\":true},{\"Id\":\"-107\",\"ModuleId\":\"BigQuantSpace.general_feature_extractor.general_feature_extractor-v7\",\"ModuleParameters\":[{\"Name\":\"start_date\",\"Value\":\"\",\"ValueType\":\"Literal\",\"LinkedGlobalParameter\":null},{\"Name\":\"end_date\",\"Value\":\"\",\"ValueType\":\"Literal\",\"LinkedGlobalParameter\":null},{\"Name\":\"before_start_days\",\"Value\":0,\"ValueType\":\"Literal\",\"LinkedGlobalParameter\":null}],\"InputPortsInternal\":[{\"DataSourceId\":null,\"TrainedModelId\":null,\"TransformModuleId\":null,\"Name\":\"instruments\",\"NodeId\":\"-107\"},{\"DataSourceId\":null,\"TrainedModelId\":null,\"TransformModuleId\":null,\"Name\":\"features\",\"NodeId\":\"-107\"}],\"OutputPortsInternal\":[{\"Name\":\"data\",\"NodeId\":\"-107\",\"OutputType\":null}],\"UsePreviousResults\":true,\"moduleIdForCode\":15,\"IsPartOfPartialRun\":null,\"Comment\":\"\",\"CommentCollapsed\":true},{\"Id\":\"-114\",\"ModuleId\":\"BigQuantSpace.derived_feature_extractor.derived_feature_extractor-v3\",\"ModuleParameters\":[{\"Name\":\"date_col\",\"Value\":\"date\",\"ValueType\":\"Literal\",\"LinkedGlobalParameter\":null},{\"Name\":\"instrument_col\",\"Value\":\"instrument\",\"ValueType\":\"Literal\",\"LinkedGlobalParameter\":null},{\"Name\":\"drop_na\",\"Value\":\"False\",\"ValueType\":\"Literal\",\"LinkedGlobalParameter\":null},{\"Name\":\"remove_extra_columns\",\"Value\":\"False\",\"ValueType\":\"Literal\",\"LinkedGlobalParameter\":null},{\"Name\":\"user_functions\",\"Value\":\"\",\"ValueType\":\"Literal\",\"LinkedGlobalParameter\":null}],\"InputPortsInternal\":[{\"DataSourceId\":null,\"TrainedModelId\":null,\"TransformModuleId\":null,\"Name\":\"input_data\",\"NodeId\":\"-114\"},{\"DataSourceId\":null,\"TrainedModelId\":null,\"TransformModuleId\":null,\"Name\":\"features\",\"NodeId\":\"-114\"}],\"OutputPortsInternal\":[{\"Name\":\"data\",\"NodeId\":\"-114\",\"OutputType\":null}],\"UsePreviousResults\":true,\"moduleIdForCode\":16,\"IsPartOfPartialRun\":null,\"Comment\":\"\",\"CommentCollapsed\":true},{\"Id\":\"-261\",\"ModuleId\":\"BigQuantSpace.dropnan.dropnan-v1\",\"ModuleParameters\":[],\"InputPortsInternal\":[{\"DataSourceId\":null,\"TrainedModelId\":null,\"TransformModuleId\":null,\"Name\":\"input_data\",\"NodeId\":\"-261\"}],\"OutputPortsInternal\":[{\"Name\":\"data\",\"NodeId\":\"-261\",\"OutputType\":null}],\"UsePreviousResults\":true,\"moduleIdForCode\":6,\"IsPartOfPartialRun\":null,\"Comment\":\"删除前面含有缺失值的行\",\"CommentCollapsed\":false},{\"Id\":\"-895\",\"ModuleId\":\"BigQuantSpace.filter.filter-v3\",\"ModuleParameters\":[{\"Name\":\"expr\",\"Value\":\"date=='2015-01-05'\",\"ValueType\":\"Literal\",\"LinkedGlobalParameter\":null},{\"Name\":\"output_left_data\",\"Value\":\"False\",\"ValueType\":\"Literal\",\"LinkedGlobalParameter\":null}],\"InputPortsInternal\":[{\"DataSourceId\":null,\"TrainedModelId\":null,\"TransformModuleId\":null,\"Name\":\"input_data\",\"NodeId\":\"-895\"}],\"OutputPortsInternal\":[{\"Name\":\"data\",\"NodeId\":\"-895\",\"OutputType\":null},{\"Name\":\"left_data\",\"NodeId\":\"-895\",\"OutputType\":null}],\"UsePreviousResults\":true,\"moduleIdForCode\":2,\"IsPartOfPartialRun\":null,\"Comment\":\"\",\"CommentCollapsed\":true}],\"SerializedClientData\":\"<?xml version='1.0' encoding='utf-16'?><DataV1 xmlns:xsd='http://www.w3.org/2001/XMLSchema' xmlns:xsi='http://www.w3.org/2001/XMLSchema-instance'><Meta /><NodePositions><NodePosition Node='287d2cb0-f53c-4101-bdf8-104b137c8601-8' Position='166,104,200,200'/><NodePosition Node='287d2cb0-f53c-4101-bdf8-104b137c8601-24' Position='545,110.02095794677734,200,200'/><NodePosition Node='-107' Position='381,185,200,200'/><NodePosition Node='-114' Position='388,262,200,200'/><NodePosition Node='-261' Position='379,348,200,200'/><NodePosition Node='-895' Position='383,459,200,200'/></NodePositions><NodeGroups /></DataV1>\"},\"IsDraft\":true,\"ParentExperimentId\":null,\"WebService\":{\"IsWebServiceExperiment\":false,\"Inputs\":[],\"Outputs\":[],\"Parameters\":[{\"Name\":\"交易日期\",\"Value\":\"\",\"ParameterDefinition\":{\"Name\":\"交易日期\",\"FriendlyName\":\"交易日期\",\"DefaultValue\":\"\",\"ParameterType\":\"String\",\"HasDefaultValue\":true,\"IsOptional\":true,\"ParameterRules\":[],\"HasRules\":false,\"MarkupType\":0,\"CredentialDescriptor\":null}}],\"WebServiceGroupId\":null,\"SerializedClientData\":\"<?xml version='1.0' encoding='utf-16'?><DataV1 xmlns:xsd='http://www.w3.org/2001/XMLSchema' xmlns:xsi='http://www.w3.org/2001/XMLSchema-instance'><Meta /><NodePositions></NodePositions><NodeGroups /></DataV1>\"},\"DisableNodesUpdate\":false,\"Category\":\"user\",\"Tags\":[],\"IsPartialRun\":true}"
   },
   "outputs": [
    {
     "data": {
      "text/plain": [
       "[2019-05-08 22:05:13.684103] INFO: bigquant: instruments.v2 开始运行.."
      ]
     },
     "metadata": {
      "is_log": true,
      "status": "INFO"
     },
     "output_type": "display_data"
    },
    {
     "data": {
      "text/plain": [
       "[2019-05-08 22:05:13.768914] INFO: bigquant: 命中缓存"
      ]
     },
     "metadata": {
      "is_log": true,
      "status": "INFO"
     },
     "output_type": "display_data"
    },
    {
     "data": {
      "text/plain": [
       "[2019-05-08 22:05:13.774467] INFO: bigquant: instruments.v2 运行完成[0.09036s]."
      ]
     },
     "metadata": {
      "is_log": true,
      "status": "INFO"
     },
     "output_type": "display_data"
    },
    {
     "data": {
      "text/plain": [
       "[2019-05-08 22:05:13.780960] INFO: bigquant: input_features.v1 开始运行.."
      ]
     },
     "metadata": {
      "is_log": true,
      "status": "INFO"
     },
     "output_type": "display_data"
    },
    {
     "data": {
      "text/plain": [
       "[2019-05-08 22:05:13.914581] INFO: bigquant: input_features.v1 运行完成[0.133612s]."
      ]
     },
     "metadata": {
      "is_log": true,
      "status": "INFO"
     },
     "output_type": "display_data"
    },
    {
     "data": {
      "text/plain": [
       "[2019-05-08 22:05:14.042743] INFO: bigquant: general_feature_extractor.v7 开始运行.."
      ]
     },
     "metadata": {
      "is_log": true,
      "status": "INFO"
     },
     "output_type": "display_data"
    },
    {
     "data": {
      "text/plain": [
       "[2019-05-08 22:05:15.937914] INFO: 基础特征抽取: 年份 2015, 特征行数=569698"
      ]
     },
     "metadata": {
      "is_log": true,
      "status": "INFO"
     },
     "output_type": "display_data"
    },
    {
     "data": {
      "text/plain": [
       "[2019-05-08 22:05:17.090848] INFO: 基础特征抽取: 年份 2016, 特征行数=0"
      ]
     },
     "metadata": {
      "is_log": true,
      "status": "INFO"
     },
     "output_type": "display_data"
    },
    {
     "data": {
      "text/plain": [
       "[2019-05-08 22:05:17.848789] INFO: 基础特征抽取: 总行数: 569698"
      ]
     },
     "metadata": {
      "is_log": true,
      "status": "INFO"
     },
     "output_type": "display_data"
    },
    {
     "data": {
      "text/plain": [
       "[2019-05-08 22:05:17.856253] INFO: bigquant: general_feature_extractor.v7 运行完成[3.813498s]."
      ]
     },
     "metadata": {
      "is_log": true,
      "status": "INFO"
     },
     "output_type": "display_data"
    },
    {
     "data": {
      "text/plain": [
       "[2019-05-08 22:05:17.860069] INFO: bigquant: derived_feature_extractor.v3 开始运行.."
      ]
     },
     "metadata": {
      "is_log": true,
      "status": "INFO"
     },
     "output_type": "display_data"
    },
    {
     "data": {
      "text/plain": [
       "[2019-05-08 22:05:20.835495] INFO: general_feature_extractor: 提取完成 log(market_cap_float_0)/group_mean(industry_sw_level1_0,log(market_cap_float_0)), 2.569s"
      ]
     },
     "metadata": {
      "is_log": true,
      "status": "INFO"
     },
     "output_type": "display_data"
    },
    {
     "data": {
      "text/plain": [
       "[2019-05-08 22:05:21.158511] INFO: general_feature_extractor: /y_2015, 569698"
      ]
     },
     "metadata": {
      "is_log": true,
      "status": "INFO"
     },
     "output_type": "display_data"
    },
    {
     "data": {
      "text/plain": [
       "[2019-05-08 22:05:22.091251] INFO: bigquant: derived_feature_extractor.v3 运行完成[4.231164s]."
      ]
     },
     "metadata": {
      "is_log": true,
      "status": "INFO"
     },
     "output_type": "display_data"
    },
    {
     "data": {
      "text/plain": [
       "[2019-05-08 22:05:22.097049] INFO: bigquant: dropnan.v1 开始运行.."
      ]
     },
     "metadata": {
      "is_log": true,
      "status": "INFO"
     },
     "output_type": "display_data"
    },
    {
     "data": {
      "text/plain": [
       "[2019-05-08 22:05:22.892796] INFO: dropnan: /y_2015, 569698/569698"
      ]
     },
     "metadata": {
      "is_log": true,
      "status": "INFO"
     },
     "output_type": "display_data"
    },
    {
     "data": {
      "text/plain": [
       "[2019-05-08 22:05:23.330461] INFO: dropnan: 行数: 569698/569698"
      ]
     },
     "metadata": {
      "is_log": true,
      "status": "INFO"
     },
     "output_type": "display_data"
    },
    {
     "data": {
      "text/plain": [
       "[2019-05-08 22:05:23.400412] INFO: bigquant: dropnan.v1 运行完成[1.303326s]."
      ]
     },
     "metadata": {
      "is_log": true,
      "status": "INFO"
     },
     "output_type": "display_data"
    },
    {
     "data": {
      "text/plain": [
       "[2019-05-08 22:05:23.404611] INFO: bigquant: filter.v3 开始运行.."
      ]
     },
     "metadata": {
      "is_log": true,
      "status": "INFO"
     },
     "output_type": "display_data"
    },
    {
     "data": {
      "text/plain": [
       "[2019-05-08 22:05:23.413835] INFO: filter: 使用表达式 date=='2015-01-05' 过滤"
      ]
     },
     "metadata": {
      "is_log": true,
      "status": "INFO"
     },
     "output_type": "display_data"
    },
    {
     "data": {
      "text/plain": [
       "[2019-05-08 22:05:23.871648] INFO: filter: 过滤 /y_2015, 2339/0/569698"
      ]
     },
     "metadata": {
      "is_log": true,
      "status": "INFO"
     },
     "output_type": "display_data"
    },
    {
     "data": {
      "text/plain": [
       "[2019-05-08 22:05:24.192261] INFO: bigquant: filter.v3 运行完成[0.787632s]."
      ]
     },
     "metadata": {
      "is_log": true,
      "status": "INFO"
     },
     "output_type": "display_data"
    }
   ],
   "source": [
    "# 本代码由可视化策略环境自动生成 2019年7月26日 09:08\n",
    "# 本代码单元只能在可视化模式下编辑。您也可以拷贝代码，粘贴到新建的代码单元或者策略，然后修改。\n",
    "\n",
    "\n",
    "m1 = M.instruments.v2(\n",
    "    start_date='2015-01-01',\n",
    "    end_date='2016-01-01',\n",
    "    market='CN_STOCK_A',\n",
    "    instrument_list='',\n",
    "    max_count=0\n",
    ")\n",
    "\n",
    "m3 = M.input_features.v1(\n",
    "    features=\"\"\"# #号开始的表示注释\n",
    "# 多个特征，每行一个，可以包含基础特征和衍生特征\n",
    "market_cap_float_0\n",
    "log(market_cap_float_0)/group_mean(industry_sw_level1_0,log(market_cap_float_0))\"\"\"\n",
    ")\n",
    "\n",
    "m15 = M.general_feature_extractor.v7(\n",
    "    instruments=m1.data,\n",
    "    features=m3.data,\n",
    "    start_date='',\n",
    "    end_date='',\n",
    "    before_start_days=0\n",
    ")\n",
    "\n",
    "m16 = M.derived_feature_extractor.v3(\n",
    "    input_data=m15.data,\n",
    "    features=m3.data,\n",
    "    date_col='date',\n",
    "    instrument_col='instrument',\n",
    "    drop_na=False,\n",
    "    remove_extra_columns=False\n",
    ")\n",
    "\n",
    "m6 = M.dropnan.v1(\n",
    "    input_data=m16.data\n",
    ")\n",
    "\n",
    "m2 = M.filter.v3(\n",
    "    input_data=m6.data,\n",
    "    expr='date==\\'2015-01-05\\'',\n",
    "    output_left_data=False\n",
    ")\n"
   ]
  },
  {
   "cell_type": "code",
   "execution_count": 16,
   "metadata": {},
   "outputs": [],
   "source": [
    "df1 = m2.data.read_df()"
   ]
  },
  {
   "cell_type": "code",
   "execution_count": 17,
   "metadata": {},
   "outputs": [
    {
     "data": {
      "text/html": [
       "<div>\n",
       "<style scoped>\n",
       "    .dataframe tbody tr th:only-of-type {\n",
       "        vertical-align: middle;\n",
       "    }\n",
       "\n",
       "    .dataframe tbody tr th {\n",
       "        vertical-align: top;\n",
       "    }\n",
       "\n",
       "    .dataframe thead th {\n",
       "        text-align: right;\n",
       "    }\n",
       "</style>\n",
       "<table border=\"1\" class=\"dataframe\">\n",
       "  <thead>\n",
       "    <tr style=\"text-align: right;\">\n",
       "      <th></th>\n",
       "      <th>date</th>\n",
       "      <th>industry_sw_level1_0</th>\n",
       "      <th>instrument</th>\n",
       "      <th>market_cap_float_0</th>\n",
       "      <th>log(market_cap_float_0)/group_mean(industry_sw_level1_0,log(market_cap_float_0))</th>\n",
       "    </tr>\n",
       "  </thead>\n",
       "  <tbody>\n",
       "    <tr>\n",
       "      <th>540177</th>\n",
       "      <td>2015-01-05</td>\n",
       "      <td>210000</td>\n",
       "      <td>601857.SHA</td>\n",
       "      <td>1.925254e+12</td>\n",
       "      <td>1.235994</td>\n",
       "    </tr>\n",
       "    <tr>\n",
       "      <th>530512</th>\n",
       "      <td>2015-01-05</td>\n",
       "      <td>480000</td>\n",
       "      <td>601398.SHA</td>\n",
       "      <td>1.349503e+12</td>\n",
       "      <td>1.070655</td>\n",
       "    </tr>\n",
       "    <tr>\n",
       "      <th>527548</th>\n",
       "      <td>2015-01-05</td>\n",
       "      <td>480000</td>\n",
       "      <td>601288.SHA</td>\n",
       "      <td>1.105396e+12</td>\n",
       "      <td>1.063006</td>\n",
       "    </tr>\n",
       "    <tr>\n",
       "      <th>545117</th>\n",
       "      <td>2015-01-05</td>\n",
       "      <td>480000</td>\n",
       "      <td>601988.SHA</td>\n",
       "      <td>9.065812e+11</td>\n",
       "      <td>1.055406</td>\n",
       "    </tr>\n",
       "    <tr>\n",
       "      <th>534352</th>\n",
       "      <td>2015-01-05</td>\n",
       "      <td>490000</td>\n",
       "      <td>601628.SHA</td>\n",
       "      <td>7.098742e+11</td>\n",
       "      <td>1.119635</td>\n",
       "    </tr>\n",
       "    <tr>\n",
       "      <th>347527</th>\n",
       "      <td>2015-01-05</td>\n",
       "      <td>220000</td>\n",
       "      <td>600028.SHA</td>\n",
       "      <td>6.623561e+11</td>\n",
       "      <td>1.238772</td>\n",
       "    </tr>\n",
       "    <tr>\n",
       "      <th>528333</th>\n",
       "      <td>2015-01-05</td>\n",
       "      <td>490000</td>\n",
       "      <td>601318.SHA</td>\n",
       "      <td>3.936239e+11</td>\n",
       "      <td>1.095441</td>\n",
       "    </tr>\n",
       "    <tr>\n",
       "      <th>519081</th>\n",
       "      <td>2015-01-05</td>\n",
       "      <td>210000</td>\n",
       "      <td>601088.SHA</td>\n",
       "      <td>3.680800e+11</td>\n",
       "      <td>1.163698</td>\n",
       "    </tr>\n",
       "    <tr>\n",
       "      <th>348936</th>\n",
       "      <td>2015-01-05</td>\n",
       "      <td>480000</td>\n",
       "      <td>600036.SHA</td>\n",
       "      <td>3.440908e+11</td>\n",
       "      <td>1.018270</td>\n",
       "    </tr>\n",
       "    <tr>\n",
       "      <th>348015</th>\n",
       "      <td>2015-01-05</td>\n",
       "      <td>490000</td>\n",
       "      <td>600030.SHA</td>\n",
       "      <td>3.401762e+11</td>\n",
       "      <td>1.089453</td>\n",
       "    </tr>\n",
       "  </tbody>\n",
       "</table>\n",
       "</div>"
      ],
      "text/plain": [
       "             date  industry_sw_level1_0  instrument  market_cap_float_0  \\\n",
       "540177 2015-01-05                210000  601857.SHA        1.925254e+12   \n",
       "530512 2015-01-05                480000  601398.SHA        1.349503e+12   \n",
       "527548 2015-01-05                480000  601288.SHA        1.105396e+12   \n",
       "545117 2015-01-05                480000  601988.SHA        9.065812e+11   \n",
       "534352 2015-01-05                490000  601628.SHA        7.098742e+11   \n",
       "347527 2015-01-05                220000  600028.SHA        6.623561e+11   \n",
       "528333 2015-01-05                490000  601318.SHA        3.936239e+11   \n",
       "519081 2015-01-05                210000  601088.SHA        3.680800e+11   \n",
       "348936 2015-01-05                480000  600036.SHA        3.440908e+11   \n",
       "348015 2015-01-05                490000  600030.SHA        3.401762e+11   \n",
       "\n",
       "        log(market_cap_float_0)/group_mean(industry_sw_level1_0,log(market_cap_float_0))  \n",
       "540177                                           1.235994                                 \n",
       "530512                                           1.070655                                 \n",
       "527548                                           1.063006                                 \n",
       "545117                                           1.055406                                 \n",
       "534352                                           1.119635                                 \n",
       "347527                                           1.238772                                 \n",
       "528333                                           1.095441                                 \n",
       "519081                                           1.163698                                 \n",
       "348936                                           1.018270                                 \n",
       "348015                                           1.089453                                 "
      ]
     },
     "execution_count": 17,
     "metadata": {},
     "output_type": "execute_result"
    }
   ],
   "source": [
    "df1.sort_values(by='market_cap_float_0',ascending=False).head(10)"
   ]
  },
  {
   "cell_type": "markdown",
   "metadata": {},
   "source": [
    "##### 结论1：可以看到按照市值因子排序，排序结果存在行业分布集中的特性"
   ]
  },
  {
   "cell_type": "code",
   "execution_count": 15,
   "metadata": {},
   "outputs": [
    {
     "data": {
      "text/html": [
       "<div>\n",
       "<style scoped>\n",
       "    .dataframe tbody tr th:only-of-type {\n",
       "        vertical-align: middle;\n",
       "    }\n",
       "\n",
       "    .dataframe tbody tr th {\n",
       "        vertical-align: top;\n",
       "    }\n",
       "\n",
       "    .dataframe thead th {\n",
       "        text-align: right;\n",
       "    }\n",
       "</style>\n",
       "<table border=\"1\" class=\"dataframe\">\n",
       "  <thead>\n",
       "    <tr style=\"text-align: right;\">\n",
       "      <th></th>\n",
       "      <th>date</th>\n",
       "      <th>industry_sw_level1_0</th>\n",
       "      <th>instrument</th>\n",
       "      <th>market_cap_float_0</th>\n",
       "      <th>log(market_cap_float_0)/group_mean(industry_sw_level1_0,log(market_cap_float_0))</th>\n",
       "    </tr>\n",
       "  </thead>\n",
       "  <tbody>\n",
       "    <tr>\n",
       "      <th>347527</th>\n",
       "      <td>2015-01-05</td>\n",
       "      <td>220000</td>\n",
       "      <td>600028.SHA</td>\n",
       "      <td>6.623561e+11</td>\n",
       "      <td>1.238772</td>\n",
       "    </tr>\n",
       "    <tr>\n",
       "      <th>540177</th>\n",
       "      <td>2015-01-05</td>\n",
       "      <td>210000</td>\n",
       "      <td>601857.SHA</td>\n",
       "      <td>1.925254e+12</td>\n",
       "      <td>1.235994</td>\n",
       "    </tr>\n",
       "    <tr>\n",
       "      <th>360743</th>\n",
       "      <td>2015-01-05</td>\n",
       "      <td>280000</td>\n",
       "      <td>600104.SHA</td>\n",
       "      <td>2.604239e+11</td>\n",
       "      <td>1.186819</td>\n",
       "    </tr>\n",
       "    <tr>\n",
       "      <th>519081</th>\n",
       "      <td>2015-01-05</td>\n",
       "      <td>210000</td>\n",
       "      <td>601088.SHA</td>\n",
       "      <td>3.680800e+11</td>\n",
       "      <td>1.163698</td>\n",
       "    </tr>\n",
       "    <tr>\n",
       "      <th>434540</th>\n",
       "      <td>2015-01-05</td>\n",
       "      <td>340000</td>\n",
       "      <td>600519.SHA</td>\n",
       "      <td>2.312774e+11</td>\n",
       "      <td>1.161830</td>\n",
       "    </tr>\n",
       "    <tr>\n",
       "      <th>535311</th>\n",
       "      <td>2015-01-05</td>\n",
       "      <td>620000</td>\n",
       "      <td>601668.SHA</td>\n",
       "      <td>2.191226e+11</td>\n",
       "      <td>1.157317</td>\n",
       "    </tr>\n",
       "    <tr>\n",
       "      <th>44734</th>\n",
       "      <td>2015-01-05</td>\n",
       "      <td>330000</td>\n",
       "      <td>000651.SZA</td>\n",
       "      <td>1.218479e+11</td>\n",
       "      <td>1.154425</td>\n",
       "    </tr>\n",
       "    <tr>\n",
       "      <th>350128</th>\n",
       "      <td>2015-01-05</td>\n",
       "      <td>730000</td>\n",
       "      <td>600050.SHA</td>\n",
       "      <td>1.114941e+11</td>\n",
       "      <td>1.146879</td>\n",
       "    </tr>\n",
       "    <tr>\n",
       "      <th>348259</th>\n",
       "      <td>2015-01-05</td>\n",
       "      <td>640000</td>\n",
       "      <td>600031.SHA</td>\n",
       "      <td>7.616487e+10</td>\n",
       "      <td>1.146481</td>\n",
       "    </tr>\n",
       "    <tr>\n",
       "      <th>446724</th>\n",
       "      <td>2015-01-05</td>\n",
       "      <td>610000</td>\n",
       "      <td>600585.SHA</td>\n",
       "      <td>9.075325e+10</td>\n",
       "      <td>1.145218</td>\n",
       "    </tr>\n",
       "  </tbody>\n",
       "</table>\n",
       "</div>"
      ],
      "text/plain": [
       "             date  industry_sw_level1_0  instrument  market_cap_float_0  \\\n",
       "347527 2015-01-05                220000  600028.SHA        6.623561e+11   \n",
       "540177 2015-01-05                210000  601857.SHA        1.925254e+12   \n",
       "360743 2015-01-05                280000  600104.SHA        2.604239e+11   \n",
       "519081 2015-01-05                210000  601088.SHA        3.680800e+11   \n",
       "434540 2015-01-05                340000  600519.SHA        2.312774e+11   \n",
       "535311 2015-01-05                620000  601668.SHA        2.191226e+11   \n",
       "44734  2015-01-05                330000  000651.SZA        1.218479e+11   \n",
       "350128 2015-01-05                730000  600050.SHA        1.114941e+11   \n",
       "348259 2015-01-05                640000  600031.SHA        7.616487e+10   \n",
       "446724 2015-01-05                610000  600585.SHA        9.075325e+10   \n",
       "\n",
       "        log(market_cap_float_0)/group_mean(industry_sw_level1_0,log(market_cap_float_0))  \n",
       "347527                                           1.238772                                 \n",
       "540177                                           1.235994                                 \n",
       "360743                                           1.186819                                 \n",
       "519081                                           1.163698                                 \n",
       "434540                                           1.161830                                 \n",
       "535311                                           1.157317                                 \n",
       "44734                                            1.154425                                 \n",
       "350128                                           1.146879                                 \n",
       "348259                                           1.146481                                 \n",
       "446724                                           1.145218                                 "
      ]
     },
     "execution_count": 15,
     "metadata": {},
     "output_type": "execute_result"
    }
   ],
   "source": [
    "df1.sort_values(by='log(market_cap_float_0)/group_mean(industry_sw_level1_0,log(market_cap_float_0))',ascending=False).head(10)"
   ]
  },
  {
   "cell_type": "markdown",
   "metadata": {},
   "source": [
    "##### 结论2：通过行业中性化后的市值因子排序，排序结果的行业集中度下降，分布更加均匀"
   ]
  }
 ],
 "metadata": {
  "kernelspec": {
   "display_name": "Python 3",
   "language": "python",
   "name": "python3"
  },
  "language_info": {
   "codemirror_mode": {
    "name": "ipython",
    "version": 3
   },
   "file_extension": ".py",
   "mimetype": "text/x-python",
   "name": "python",
   "nbconvert_exporter": "python",
   "pygments_lexer": "ipython3",
   "version": "3.5.4"
  }
 },
 "nbformat": 4,
 "nbformat_minor": 2
}
