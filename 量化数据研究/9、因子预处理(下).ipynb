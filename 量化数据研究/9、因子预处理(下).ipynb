{
 "cells": [
  {
   "cell_type": "markdown",
   "metadata": {},
   "source": [
    "### 因子预处理(下)"
   ]
  },
  {
   "cell_type": "code",
   "execution_count": 2,
   "metadata": {
    "machine_learning_studio": "true",
    "ml_studio_json": "{\"Description\":\"实验创建于2017/8/26\",\"Summary\":\"\",\"Graph\":{\"EdgesInternal\":[{\"DestinationInputPortId\":\"-107:instruments\",\"SourceOutputPortId\":\"287d2cb0-f53c-4101-bdf8-104b137c8601-8:data\"},{\"DestinationInputPortId\":\"-54:input_2\",\"SourceOutputPortId\":\"287d2cb0-f53c-4101-bdf8-104b137c8601-24:data\"},{\"DestinationInputPortId\":\"-58:features_ds\",\"SourceOutputPortId\":\"287d2cb0-f53c-4101-bdf8-104b137c8601-24:data\"},{\"DestinationInputPortId\":\"-214:input_2\",\"SourceOutputPortId\":\"287d2cb0-f53c-4101-bdf8-104b137c8601-24:data\"},{\"DestinationInputPortId\":\"-223:input_2\",\"SourceOutputPortId\":\"287d2cb0-f53c-4101-bdf8-104b137c8601-24:data\"},{\"DestinationInputPortId\":\"-243:input_2\",\"SourceOutputPortId\":\"287d2cb0-f53c-4101-bdf8-104b137c8601-24:data\"},{\"DestinationInputPortId\":\"-114:input_data\",\"SourceOutputPortId\":\"-107:data\"},{\"DestinationInputPortId\":\"-243:input_1\",\"SourceOutputPortId\":\"-114:data\"},{\"DestinationInputPortId\":\"-107:features\",\"SourceOutputPortId\":\"-58:data\"},{\"DestinationInputPortId\":\"-114:features\",\"SourceOutputPortId\":\"-58:data\"},{\"DestinationInputPortId\":\"-54:input_1\",\"SourceOutputPortId\":\"-214:data\"},{\"DestinationInputPortId\":\"-261:input_data\",\"SourceOutputPortId\":\"-243:data\"},{\"DestinationInputPortId\":\"-214:input_1\",\"SourceOutputPortId\":\"-261:data\"},{\"DestinationInputPortId\":\"-223:input_1\",\"SourceOutputPortId\":\"-261:data\"}],\"ModuleNodes\":[{\"Id\":\"287d2cb0-f53c-4101-bdf8-104b137c8601-8\",\"ModuleId\":\"BigQuantSpace.instruments.instruments-v2\",\"ModuleParameters\":[{\"Name\":\"start_date\",\"Value\":\"2015-01-01\",\"ValueType\":\"Literal\",\"LinkedGlobalParameter\":null},{\"Name\":\"end_date\",\"Value\":\"2016-01-01\",\"ValueType\":\"Literal\",\"LinkedGlobalParameter\":null},{\"Name\":\"market\",\"Value\":\"CN_STOCK_A\",\"ValueType\":\"Literal\",\"LinkedGlobalParameter\":null},{\"Name\":\"instrument_list\",\"Value\":\"\",\"ValueType\":\"Literal\",\"LinkedGlobalParameter\":null},{\"Name\":\"max_count\",\"Value\":\"0\",\"ValueType\":\"Literal\",\"LinkedGlobalParameter\":null}],\"InputPortsInternal\":[{\"DataSourceId\":null,\"TrainedModelId\":null,\"TransformModuleId\":null,\"Name\":\"rolling_conf\",\"NodeId\":\"287d2cb0-f53c-4101-bdf8-104b137c8601-8\"}],\"OutputPortsInternal\":[{\"Name\":\"data\",\"NodeId\":\"287d2cb0-f53c-4101-bdf8-104b137c8601-8\",\"OutputType\":null}],\"UsePreviousResults\":true,\"moduleIdForCode\":1,\"IsPartOfPartialRun\":null,\"Comment\":\"\",\"CommentCollapsed\":true},{\"Id\":\"287d2cb0-f53c-4101-bdf8-104b137c8601-24\",\"ModuleId\":\"BigQuantSpace.input_features.input_features-v1\",\"ModuleParameters\":[{\"Name\":\"features\",\"Value\":\"# #号开始的表示注释\\n# 多个特征，每行一个，可以包含基础特征和衍生特征\\nfs_current_assets_0\\nlog(volume_0)\",\"ValueType\":\"Literal\",\"LinkedGlobalParameter\":null}],\"InputPortsInternal\":[{\"DataSourceId\":null,\"TrainedModelId\":null,\"TransformModuleId\":null,\"Name\":\"features_ds\",\"NodeId\":\"287d2cb0-f53c-4101-bdf8-104b137c8601-24\"}],\"OutputPortsInternal\":[{\"Name\":\"data\",\"NodeId\":\"287d2cb0-f53c-4101-bdf8-104b137c8601-24\",\"OutputType\":null}],\"UsePreviousResults\":true,\"moduleIdForCode\":3,\"IsPartOfPartialRun\":null,\"Comment\":\"\",\"CommentCollapsed\":true},{\"Id\":\"-107\",\"ModuleId\":\"BigQuantSpace.general_feature_extractor.general_feature_extractor-v7\",\"ModuleParameters\":[{\"Name\":\"start_date\",\"Value\":\"\",\"ValueType\":\"Literal\",\"LinkedGlobalParameter\":null},{\"Name\":\"end_date\",\"Value\":\"\",\"ValueType\":\"Literal\",\"LinkedGlobalParameter\":null},{\"Name\":\"before_start_days\",\"Value\":0,\"ValueType\":\"Literal\",\"LinkedGlobalParameter\":null}],\"InputPortsInternal\":[{\"DataSourceId\":null,\"TrainedModelId\":null,\"TransformModuleId\":null,\"Name\":\"instruments\",\"NodeId\":\"-107\"},{\"DataSourceId\":null,\"TrainedModelId\":null,\"TransformModuleId\":null,\"Name\":\"features\",\"NodeId\":\"-107\"}],\"OutputPortsInternal\":[{\"Name\":\"data\",\"NodeId\":\"-107\",\"OutputType\":null}],\"UsePreviousResults\":true,\"moduleIdForCode\":15,\"IsPartOfPartialRun\":null,\"Comment\":\"\",\"CommentCollapsed\":true},{\"Id\":\"-114\",\"ModuleId\":\"BigQuantSpace.derived_feature_extractor.derived_feature_extractor-v3\",\"ModuleParameters\":[{\"Name\":\"date_col\",\"Value\":\"date\",\"ValueType\":\"Literal\",\"LinkedGlobalParameter\":null},{\"Name\":\"instrument_col\",\"Value\":\"instrument\",\"ValueType\":\"Literal\",\"LinkedGlobalParameter\":null},{\"Name\":\"drop_na\",\"Value\":\"False\",\"ValueType\":\"Literal\",\"LinkedGlobalParameter\":null},{\"Name\":\"remove_extra_columns\",\"Value\":\"False\",\"ValueType\":\"Literal\",\"LinkedGlobalParameter\":null},{\"Name\":\"user_functions\",\"Value\":\"\",\"ValueType\":\"Literal\",\"LinkedGlobalParameter\":null}],\"InputPortsInternal\":[{\"DataSourceId\":null,\"TrainedModelId\":null,\"TransformModuleId\":null,\"Name\":\"input_data\",\"NodeId\":\"-114\"},{\"DataSourceId\":null,\"TrainedModelId\":null,\"TransformModuleId\":null,\"Name\":\"features\",\"NodeId\":\"-114\"}],\"OutputPortsInternal\":[{\"Name\":\"data\",\"NodeId\":\"-114\",\"OutputType\":null}],\"UsePreviousResults\":true,\"moduleIdForCode\":16,\"IsPartOfPartialRun\":null,\"Comment\":\"\",\"CommentCollapsed\":true},{\"Id\":\"-54\",\"ModuleId\":\"BigQuantSpace.standardlize.standardlize-v8\",\"ModuleParameters\":[{\"Name\":\"columns_input\",\"Value\":\"[]\",\"ValueType\":\"Literal\",\"LinkedGlobalParameter\":null}],\"InputPortsInternal\":[{\"DataSourceId\":null,\"TrainedModelId\":null,\"TransformModuleId\":null,\"Name\":\"input_1\",\"NodeId\":\"-54\"},{\"DataSourceId\":null,\"TrainedModelId\":null,\"TransformModuleId\":null,\"Name\":\"input_2\",\"NodeId\":\"-54\"}],\"OutputPortsInternal\":[{\"Name\":\"data\",\"NodeId\":\"-54\",\"OutputType\":null}],\"UsePreviousResults\":true,\"moduleIdForCode\":5,\"IsPartOfPartialRun\":null,\"Comment\":\"\",\"CommentCollapsed\":true},{\"Id\":\"-58\",\"ModuleId\":\"BigQuantSpace.input_features.input_features-v1\",\"ModuleParameters\":[{\"Name\":\"features\",\"Value\":\"# #号开始的表示注释\\n# 多个特征，每行一个，可以包含基础特征和衍生特征\\nindustry_sw_level1_0\\nmarket_cap_0\",\"ValueType\":\"Literal\",\"LinkedGlobalParameter\":null}],\"InputPortsInternal\":[{\"DataSourceId\":null,\"TrainedModelId\":null,\"TransformModuleId\":null,\"Name\":\"features_ds\",\"NodeId\":\"-58\"}],\"OutputPortsInternal\":[{\"Name\":\"data\",\"NodeId\":\"-58\",\"OutputType\":null}],\"UsePreviousResults\":true,\"moduleIdForCode\":8,\"IsPartOfPartialRun\":null,\"Comment\":\"\",\"CommentCollapsed\":true},{\"Id\":\"-214\",\"ModuleId\":\"BigQuantSpace.neutralize.neutralize-v13\",\"ModuleParameters\":[{\"Name\":\"market_value_key\",\"Value\":\"True\",\"ValueType\":\"Literal\",\"LinkedGlobalParameter\":null},{\"Name\":\"industry_output_key\",\"Value\":\"True\",\"ValueType\":\"Literal\",\"LinkedGlobalParameter\":null},{\"Name\":\"market_col_name\",\"Value\":\"market_cap_0\",\"ValueType\":\"Literal\",\"LinkedGlobalParameter\":null},{\"Name\":\"industry_sw_col_name\",\"Value\":\"industry_sw_level1_0\",\"ValueType\":\"Literal\",\"LinkedGlobalParameter\":null},{\"Name\":\"columns_input\",\"Value\":\"\",\"ValueType\":\"Literal\",\"LinkedGlobalParameter\":null}],\"InputPortsInternal\":[{\"DataSourceId\":null,\"TrainedModelId\":null,\"TransformModuleId\":null,\"Name\":\"input_1\",\"NodeId\":\"-214\"},{\"DataSourceId\":null,\"TrainedModelId\":null,\"TransformModuleId\":null,\"Name\":\"input_2\",\"NodeId\":\"-214\"}],\"OutputPortsInternal\":[{\"Name\":\"data\",\"NodeId\":\"-214\",\"OutputType\":null}],\"UsePreviousResults\":true,\"moduleIdForCode\":7,\"IsPartOfPartialRun\":null,\"Comment\":\"\",\"CommentCollapsed\":true},{\"Id\":\"-223\",\"ModuleId\":\"BigQuantSpace.neutralize.neutralize-v13\",\"ModuleParameters\":[{\"Name\":\"market_value_key\",\"Value\":\"False\",\"ValueType\":\"Literal\",\"LinkedGlobalParameter\":null},{\"Name\":\"industry_output_key\",\"Value\":\"True\",\"ValueType\":\"Literal\",\"LinkedGlobalParameter\":null},{\"Name\":\"market_col_name\",\"Value\":\"market_cap_0\",\"ValueType\":\"Literal\",\"LinkedGlobalParameter\":null},{\"Name\":\"industry_sw_col_name\",\"Value\":\"industry_sw_level1_0\",\"ValueType\":\"Literal\",\"LinkedGlobalParameter\":null},{\"Name\":\"columns_input\",\"Value\":\"\",\"ValueType\":\"Literal\",\"LinkedGlobalParameter\":null}],\"InputPortsInternal\":[{\"DataSourceId\":null,\"TrainedModelId\":null,\"TransformModuleId\":null,\"Name\":\"input_1\",\"NodeId\":\"-223\"},{\"DataSourceId\":null,\"TrainedModelId\":null,\"TransformModuleId\":null,\"Name\":\"input_2\",\"NodeId\":\"-223\"}],\"OutputPortsInternal\":[{\"Name\":\"data\",\"NodeId\":\"-223\",\"OutputType\":null}],\"UsePreviousResults\":true,\"moduleIdForCode\":10,\"IsPartOfPartialRun\":null,\"Comment\":\"\",\"CommentCollapsed\":true},{\"Id\":\"-243\",\"ModuleId\":\"BigQuantSpace.fill_nan.fill_nan-v1\",\"ModuleParameters\":[{\"Name\":\"columns_input\",\"Value\":\"[]\",\"ValueType\":\"Literal\",\"LinkedGlobalParameter\":null},{\"Name\":\"group_key\",\"Value\":\"['instrument']\",\"ValueType\":\"Literal\",\"LinkedGlobalParameter\":null},{\"Name\":\"method\",\"Value\":\"向下填充\",\"ValueType\":\"Literal\",\"LinkedGlobalParameter\":null}],\"InputPortsInternal\":[{\"DataSourceId\":null,\"TrainedModelId\":null,\"TransformModuleId\":null,\"Name\":\"input_1\",\"NodeId\":\"-243\"},{\"DataSourceId\":null,\"TrainedModelId\":null,\"TransformModuleId\":null,\"Name\":\"input_2\",\"NodeId\":\"-243\"}],\"OutputPortsInternal\":[{\"Name\":\"data\",\"NodeId\":\"-243\",\"OutputType\":null}],\"UsePreviousResults\":true,\"moduleIdForCode\":11,\"IsPartOfPartialRun\":null,\"Comment\":\"后面各行缺失值使用前值填充\",\"CommentCollapsed\":false},{\"Id\":\"-261\",\"ModuleId\":\"BigQuantSpace.dropnan.dropnan-v1\",\"ModuleParameters\":[],\"InputPortsInternal\":[{\"DataSourceId\":null,\"TrainedModelId\":null,\"TransformModuleId\":null,\"Name\":\"input_data\",\"NodeId\":\"-261\"}],\"OutputPortsInternal\":[{\"Name\":\"data\",\"NodeId\":\"-261\",\"OutputType\":null}],\"UsePreviousResults\":true,\"moduleIdForCode\":6,\"IsPartOfPartialRun\":null,\"Comment\":\"删除前面含有缺失值的行\",\"CommentCollapsed\":false}],\"SerializedClientData\":\"<?xml version='1.0' encoding='utf-16'?><DataV1 xmlns:xsd='http://www.w3.org/2001/XMLSchema' xmlns:xsi='http://www.w3.org/2001/XMLSchema-instance'><Meta /><NodePositions><NodePosition Node='287d2cb0-f53c-4101-bdf8-104b137c8601-8' Position='166,104,200,200'/><NodePosition Node='287d2cb0-f53c-4101-bdf8-104b137c8601-24' Position='712,20,200,200'/><NodePosition Node='-107' Position='381,185,200,200'/><NodePosition Node='-114' Position='388,262,200,200'/><NodePosition Node='-54' Position='397.97265625,594.3223876953125,200,200'/><NodePosition Node='-58' Position='480,102,200,200'/><NodePosition Node='-214' Position='395.71588134765625,514.6803588867188,200,200'/><NodePosition Node='-223' Position='718.89892578125,507.2950439453125,200,200'/><NodePosition Node='-243' Position='391,329,200,200'/><NodePosition Node='-261' Position='394,414,200,200'/></NodePositions><NodeGroups /></DataV1>\"},\"IsDraft\":true,\"ParentExperimentId\":null,\"WebService\":{\"IsWebServiceExperiment\":false,\"Inputs\":[],\"Outputs\":[],\"Parameters\":[{\"Name\":\"交易日期\",\"Value\":\"\",\"ParameterDefinition\":{\"Name\":\"交易日期\",\"FriendlyName\":\"交易日期\",\"DefaultValue\":\"\",\"ParameterType\":\"String\",\"HasDefaultValue\":true,\"IsOptional\":true,\"ParameterRules\":[],\"HasRules\":false,\"MarkupType\":0,\"CredentialDescriptor\":null}}],\"WebServiceGroupId\":null,\"SerializedClientData\":\"<?xml version='1.0' encoding='utf-16'?><DataV1 xmlns:xsd='http://www.w3.org/2001/XMLSchema' xmlns:xsi='http://www.w3.org/2001/XMLSchema-instance'><Meta /><NodePositions></NodePositions><NodeGroups /></DataV1>\"},\"DisableNodesUpdate\":false,\"Category\":\"user\",\"Tags\":[],\"IsPartialRun\":true}"
   },
   "outputs": [
    {
     "data": {
      "text/plain": [
       "[2019-07-25 17:14:20.996498] INFO: bigquant: instruments.v2 开始运行.."
      ]
     },
     "metadata": {
      "is_log": true,
      "status": "INFO"
     },
     "output_type": "display_data"
    },
    {
     "data": {
      "text/plain": [
       "[2019-07-25 17:14:21.255020] INFO: bigquant: 命中缓存"
      ]
     },
     "metadata": {
      "is_log": true,
      "status": "INFO"
     },
     "output_type": "display_data"
    },
    {
     "data": {
      "text/plain": [
       "[2019-07-25 17:14:21.257678] INFO: bigquant: instruments.v2 运行完成[0.2612s]."
      ]
     },
     "metadata": {
      "is_log": true,
      "status": "INFO"
     },
     "output_type": "display_data"
    },
    {
     "data": {
      "text/plain": [
       "[2019-07-25 17:14:21.261572] INFO: bigquant: input_features.v1 开始运行.."
      ]
     },
     "metadata": {
      "is_log": true,
      "status": "INFO"
     },
     "output_type": "display_data"
    },
    {
     "data": {
      "text/plain": [
       "[2019-07-25 17:14:21.348970] INFO: bigquant: 命中缓存"
      ]
     },
     "metadata": {
      "is_log": true,
      "status": "INFO"
     },
     "output_type": "display_data"
    },
    {
     "data": {
      "text/plain": [
       "[2019-07-25 17:14:21.351551] INFO: bigquant: input_features.v1 运行完成[0.089964s]."
      ]
     },
     "metadata": {
      "is_log": true,
      "status": "INFO"
     },
     "output_type": "display_data"
    },
    {
     "data": {
      "text/plain": [
       "[2019-07-25 17:14:21.358802] INFO: bigquant: input_features.v1 开始运行.."
      ]
     },
     "metadata": {
      "is_log": true,
      "status": "INFO"
     },
     "output_type": "display_data"
    },
    {
     "data": {
      "text/plain": [
       "[2019-07-25 17:14:21.444601] INFO: bigquant: 命中缓存"
      ]
     },
     "metadata": {
      "is_log": true,
      "status": "INFO"
     },
     "output_type": "display_data"
    },
    {
     "data": {
      "text/plain": [
       "[2019-07-25 17:14:21.446943] INFO: bigquant: input_features.v1 运行完成[0.08814s]."
      ]
     },
     "metadata": {
      "is_log": true,
      "status": "INFO"
     },
     "output_type": "display_data"
    },
    {
     "data": {
      "text/plain": [
       "[2019-07-25 17:14:21.481865] INFO: bigquant: general_feature_extractor.v7 开始运行.."
      ]
     },
     "metadata": {
      "is_log": true,
      "status": "INFO"
     },
     "output_type": "display_data"
    },
    {
     "data": {
      "text/plain": [
       "[2019-07-25 17:14:21.617365] INFO: bigquant: 命中缓存"
      ]
     },
     "metadata": {
      "is_log": true,
      "status": "INFO"
     },
     "output_type": "display_data"
    },
    {
     "data": {
      "text/plain": [
       "[2019-07-25 17:14:21.619852] INFO: bigquant: general_feature_extractor.v7 运行完成[0.137992s]."
      ]
     },
     "metadata": {
      "is_log": true,
      "status": "INFO"
     },
     "output_type": "display_data"
    },
    {
     "data": {
      "text/plain": [
       "[2019-07-25 17:14:21.622973] INFO: bigquant: derived_feature_extractor.v3 开始运行.."
      ]
     },
     "metadata": {
      "is_log": true,
      "status": "INFO"
     },
     "output_type": "display_data"
    },
    {
     "data": {
      "text/plain": [
       "[2019-07-25 17:14:21.738630] INFO: bigquant: 命中缓存"
      ]
     },
     "metadata": {
      "is_log": true,
      "status": "INFO"
     },
     "output_type": "display_data"
    },
    {
     "data": {
      "text/plain": [
       "[2019-07-25 17:14:21.743776] INFO: bigquant: derived_feature_extractor.v3 运行完成[0.120765s]."
      ]
     },
     "metadata": {
      "is_log": true,
      "status": "INFO"
     },
     "output_type": "display_data"
    },
    {
     "data": {
      "text/plain": [
       "[2019-07-25 17:14:21.749686] INFO: bigquant: fill_nan.v1 开始运行.."
      ]
     },
     "metadata": {
      "is_log": true,
      "status": "INFO"
     },
     "output_type": "display_data"
    },
    {
     "data": {
      "text/plain": [
       "[2019-07-25 17:14:21.808890] INFO: bigquant: 命中缓存"
      ]
     },
     "metadata": {
      "is_log": true,
      "status": "INFO"
     },
     "output_type": "display_data"
    },
    {
     "data": {
      "text/plain": [
       "[2019-07-25 17:14:21.811626] INFO: bigquant: fill_nan.v1 运行完成[0.06193s]."
      ]
     },
     "metadata": {
      "is_log": true,
      "status": "INFO"
     },
     "output_type": "display_data"
    },
    {
     "data": {
      "text/plain": [
       "[2019-07-25 17:14:21.820947] INFO: bigquant: dropnan.v1 开始运行.."
      ]
     },
     "metadata": {
      "is_log": true,
      "status": "INFO"
     },
     "output_type": "display_data"
    },
    {
     "data": {
      "text/plain": [
       "[2019-07-25 17:14:22.030826] INFO: bigquant: 命中缓存"
      ]
     },
     "metadata": {
      "is_log": true,
      "status": "INFO"
     },
     "output_type": "display_data"
    },
    {
     "data": {
      "text/plain": [
       "[2019-07-25 17:14:22.036602] INFO: bigquant: dropnan.v1 运行完成[0.215636s]."
      ]
     },
     "metadata": {
      "is_log": true,
      "status": "INFO"
     },
     "output_type": "display_data"
    },
    {
     "data": {
      "text/plain": [
       "[2019-07-25 17:14:22.039498] INFO: bigquant: neutralize.v13 开始运行.."
      ]
     },
     "metadata": {
      "is_log": true,
      "status": "INFO"
     },
     "output_type": "display_data"
    },
    {
     "data": {
      "text/plain": [
       "[2019-07-25 17:14:22.118225] INFO: bigquant: 命中缓存"
      ]
     },
     "metadata": {
      "is_log": true,
      "status": "INFO"
     },
     "output_type": "display_data"
    },
    {
     "data": {
      "text/plain": [
       "[2019-07-25 17:14:22.120653] INFO: bigquant: neutralize.v13 运行完成[0.081163s]."
      ]
     },
     "metadata": {
      "is_log": true,
      "status": "INFO"
     },
     "output_type": "display_data"
    },
    {
     "data": {
      "text/plain": [
       "[2019-07-25 17:14:22.130297] INFO: bigquant: standardlize.v8 开始运行.."
      ]
     },
     "metadata": {
      "is_log": true,
      "status": "INFO"
     },
     "output_type": "display_data"
    },
    {
     "data": {
      "text/plain": [
       "[2019-07-25 17:14:22.237817] INFO: bigquant: 命中缓存"
      ]
     },
     "metadata": {
      "is_log": true,
      "status": "INFO"
     },
     "output_type": "display_data"
    },
    {
     "data": {
      "text/plain": [
       "[2019-07-25 17:14:22.242174] INFO: bigquant: standardlize.v8 运行完成[0.111854s]."
      ]
     },
     "metadata": {
      "is_log": true,
      "status": "INFO"
     },
     "output_type": "display_data"
    },
    {
     "data": {
      "text/plain": [
       "[2019-07-25 17:14:22.248187] INFO: bigquant: neutralize.v13 开始运行.."
      ]
     },
     "metadata": {
      "is_log": true,
      "status": "INFO"
     },
     "output_type": "display_data"
    },
    {
     "data": {
      "text/plain": [
       "[2019-07-25 17:14:22.328088] INFO: bigquant: 命中缓存"
      ]
     },
     "metadata": {
      "is_log": true,
      "status": "INFO"
     },
     "output_type": "display_data"
    },
    {
     "data": {
      "text/plain": [
       "[2019-07-25 17:14:22.330353] INFO: bigquant: neutralize.v13 运行完成[0.082138s]."
      ]
     },
     "metadata": {
      "is_log": true,
      "status": "INFO"
     },
     "output_type": "display_data"
    }
   ],
   "source": [
    "# 本代码由可视化策略环境自动生成 2019年7月25日 17:19\n",
    "# 本代码单元只能在可视化模式下编辑。您也可以拷贝代码，粘贴到新建的代码单元或者策略，然后修改。\n",
    "\n",
    "\n",
    "m1 = M.instruments.v2(\n",
    "    start_date='2015-01-01',\n",
    "    end_date='2016-01-01',\n",
    "    market='CN_STOCK_A',\n",
    "    instrument_list='',\n",
    "    max_count=0\n",
    ")\n",
    "\n",
    "m3 = M.input_features.v1(\n",
    "    features=\"\"\"# #号开始的表示注释\n",
    "# 多个特征，每行一个，可以包含基础特征和衍生特征\n",
    "fs_current_assets_0\n",
    "log(volume_0)\"\"\"\n",
    ")\n",
    "\n",
    "m8 = M.input_features.v1(\n",
    "    features_ds=m3.data,\n",
    "    features=\"\"\"# #号开始的表示注释\n",
    "# 多个特征，每行一个，可以包含基础特征和衍生特征\n",
    "industry_sw_level1_0\n",
    "market_cap_0\"\"\"\n",
    ")\n",
    "\n",
    "m15 = M.general_feature_extractor.v7(\n",
    "    instruments=m1.data,\n",
    "    features=m8.data,\n",
    "    start_date='',\n",
    "    end_date='',\n",
    "    before_start_days=0\n",
    ")\n",
    "\n",
    "m16 = M.derived_feature_extractor.v3(\n",
    "    input_data=m15.data,\n",
    "    features=m8.data,\n",
    "    date_col='date',\n",
    "    instrument_col='instrument',\n",
    "    drop_na=False,\n",
    "    remove_extra_columns=False\n",
    ")\n",
    "\n",
    "m11 = M.fill_nan.v1(\n",
    "    input_1=m16.data,\n",
    "    input_2=m3.data,\n",
    "    columns_input=[],\n",
    "    group_key=['instrument'],\n",
    "    method='向下填充'\n",
    ")\n",
    "\n",
    "m6 = M.dropnan.v1(\n",
    "    input_data=m11.data\n",
    ")\n",
    "\n",
    "m7 = M.neutralize.v13(\n",
    "    input_1=m6.data,\n",
    "    input_2=m3.data,\n",
    "    market_value_key=True,\n",
    "    industry_output_key=True,\n",
    "    market_col_name='market_cap_0',\n",
    "    industry_sw_col_name='industry_sw_level1_0',\n",
    "    columns_input=''\n",
    ")\n",
    "\n",
    "m5 = M.standardlize.v8(\n",
    "    input_1=m7.data,\n",
    "    input_2=m3.data,\n",
    "    columns_input='[]'\n",
    ")\n",
    "\n",
    "m10 = M.neutralize.v13(\n",
    "    input_1=m6.data,\n",
    "    input_2=m3.data,\n",
    "    market_value_key=False,\n",
    "    industry_output_key=True,\n",
    "    market_col_name='market_cap_0',\n",
    "    industry_sw_col_name='industry_sw_level1_0',\n",
    "    columns_input=''\n",
    ")\n"
   ]
  },
  {
   "cell_type": "code",
   "execution_count": 7,
   "metadata": {},
   "outputs": [
    {
     "data": {
      "text/html": [
       "<div>\n",
       "<style scoped>\n",
       "    .dataframe tbody tr th:only-of-type {\n",
       "        vertical-align: middle;\n",
       "    }\n",
       "\n",
       "    .dataframe tbody tr th {\n",
       "        vertical-align: top;\n",
       "    }\n",
       "\n",
       "    .dataframe thead th {\n",
       "        text-align: right;\n",
       "    }\n",
       "</style>\n",
       "<table border=\"1\" class=\"dataframe\">\n",
       "  <thead>\n",
       "    <tr style=\"text-align: right;\">\n",
       "      <th></th>\n",
       "      <th>date</th>\n",
       "      <th>instrument</th>\n",
       "      <th>fs_current_assets_0</th>\n",
       "      <th>log(volume_0)</th>\n",
       "      <th>industry_sw_level1_0</th>\n",
       "      <th>market_cap_0</th>\n",
       "      <th>volume_0</th>\n",
       "      <th>industry_prefix_0</th>\n",
       "      <th>industry_prefix_110000</th>\n",
       "      <th>industry_prefix_210000</th>\n",
       "      <th>...</th>\n",
       "      <th>industry_prefix_490000</th>\n",
       "      <th>industry_prefix_510000</th>\n",
       "      <th>industry_prefix_610000</th>\n",
       "      <th>industry_prefix_620000</th>\n",
       "      <th>industry_prefix_630000</th>\n",
       "      <th>industry_prefix_640000</th>\n",
       "      <th>industry_prefix_650000</th>\n",
       "      <th>industry_prefix_710000</th>\n",
       "      <th>industry_prefix_720000</th>\n",
       "      <th>industry_prefix_730000</th>\n",
       "    </tr>\n",
       "  </thead>\n",
       "  <tbody>\n",
       "    <tr>\n",
       "      <th>0</th>\n",
       "      <td>2015-01-05</td>\n",
       "      <td>000002.SZA</td>\n",
       "      <td>4.531912e+11</td>\n",
       "      <td>3.341389</td>\n",
       "      <td>430000</td>\n",
       "      <td>1.642341e+11</td>\n",
       "      <td>656083570</td>\n",
       "      <td>0</td>\n",
       "      <td>0</td>\n",
       "      <td>0</td>\n",
       "      <td>...</td>\n",
       "      <td>0</td>\n",
       "      <td>0</td>\n",
       "      <td>0</td>\n",
       "      <td>0</td>\n",
       "      <td>0</td>\n",
       "      <td>0</td>\n",
       "      <td>0</td>\n",
       "      <td>0</td>\n",
       "      <td>0</td>\n",
       "      <td>0</td>\n",
       "    </tr>\n",
       "    <tr>\n",
       "      <th>1</th>\n",
       "      <td>2015-01-05</td>\n",
       "      <td>000004.SZA</td>\n",
       "      <td>-2.377416e+09</td>\n",
       "      <td>-0.553633</td>\n",
       "      <td>370000</td>\n",
       "      <td>1.317594e+09</td>\n",
       "      <td>2809512</td>\n",
       "      <td>0</td>\n",
       "      <td>0</td>\n",
       "      <td>0</td>\n",
       "      <td>...</td>\n",
       "      <td>0</td>\n",
       "      <td>0</td>\n",
       "      <td>0</td>\n",
       "      <td>0</td>\n",
       "      <td>0</td>\n",
       "      <td>0</td>\n",
       "      <td>0</td>\n",
       "      <td>0</td>\n",
       "      <td>0</td>\n",
       "      <td>0</td>\n",
       "    </tr>\n",
       "    <tr>\n",
       "      <th>2</th>\n",
       "      <td>2015-01-05</td>\n",
       "      <td>000006.SZA</td>\n",
       "      <td>-1.136430e+10</td>\n",
       "      <td>0.775385</td>\n",
       "      <td>210000</td>\n",
       "      <td>9.557965e+09</td>\n",
       "      <td>107864712</td>\n",
       "      <td>0</td>\n",
       "      <td>0</td>\n",
       "      <td>1</td>\n",
       "      <td>...</td>\n",
       "      <td>0</td>\n",
       "      <td>0</td>\n",
       "      <td>0</td>\n",
       "      <td>0</td>\n",
       "      <td>0</td>\n",
       "      <td>0</td>\n",
       "      <td>0</td>\n",
       "      <td>0</td>\n",
       "      <td>0</td>\n",
       "      <td>0</td>\n",
       "    </tr>\n",
       "    <tr>\n",
       "      <th>3</th>\n",
       "      <td>2015-01-05</td>\n",
       "      <td>000007.SZA</td>\n",
       "      <td>-8.829279e+08</td>\n",
       "      <td>-0.622456</td>\n",
       "      <td>460000</td>\n",
       "      <td>3.353617e+09</td>\n",
       "      <td>2841572</td>\n",
       "      <td>0</td>\n",
       "      <td>0</td>\n",
       "      <td>0</td>\n",
       "      <td>...</td>\n",
       "      <td>0</td>\n",
       "      <td>0</td>\n",
       "      <td>0</td>\n",
       "      <td>0</td>\n",
       "      <td>0</td>\n",
       "      <td>0</td>\n",
       "      <td>0</td>\n",
       "      <td>0</td>\n",
       "      <td>0</td>\n",
       "      <td>0</td>\n",
       "    </tr>\n",
       "    <tr>\n",
       "      <th>4</th>\n",
       "      <td>2015-01-05</td>\n",
       "      <td>000008.SZA</td>\n",
       "      <td>-4.940606e+09</td>\n",
       "      <td>-2.038679</td>\n",
       "      <td>240000</td>\n",
       "      <td>6.588155e+09</td>\n",
       "      <td>2290058</td>\n",
       "      <td>0</td>\n",
       "      <td>0</td>\n",
       "      <td>0</td>\n",
       "      <td>...</td>\n",
       "      <td>0</td>\n",
       "      <td>0</td>\n",
       "      <td>0</td>\n",
       "      <td>0</td>\n",
       "      <td>0</td>\n",
       "      <td>0</td>\n",
       "      <td>0</td>\n",
       "      <td>0</td>\n",
       "      <td>0</td>\n",
       "      <td>0</td>\n",
       "    </tr>\n",
       "  </tbody>\n",
       "</table>\n",
       "<p>5 rows × 35 columns</p>\n",
       "</div>"
      ],
      "text/plain": [
       "        date  instrument  fs_current_assets_0  log(volume_0)  \\\n",
       "0 2015-01-05  000002.SZA         4.531912e+11       3.341389   \n",
       "1 2015-01-05  000004.SZA        -2.377416e+09      -0.553633   \n",
       "2 2015-01-05  000006.SZA        -1.136430e+10       0.775385   \n",
       "3 2015-01-05  000007.SZA        -8.829279e+08      -0.622456   \n",
       "4 2015-01-05  000008.SZA        -4.940606e+09      -2.038679   \n",
       "\n",
       "   industry_sw_level1_0  market_cap_0   volume_0  industry_prefix_0  \\\n",
       "0                430000  1.642341e+11  656083570                  0   \n",
       "1                370000  1.317594e+09    2809512                  0   \n",
       "2                210000  9.557965e+09  107864712                  0   \n",
       "3                460000  3.353617e+09    2841572                  0   \n",
       "4                240000  6.588155e+09    2290058                  0   \n",
       "\n",
       "   industry_prefix_110000  industry_prefix_210000           ...            \\\n",
       "0                       0                       0           ...             \n",
       "1                       0                       0           ...             \n",
       "2                       0                       1           ...             \n",
       "3                       0                       0           ...             \n",
       "4                       0                       0           ...             \n",
       "\n",
       "   industry_prefix_490000  industry_prefix_510000  industry_prefix_610000  \\\n",
       "0                       0                       0                       0   \n",
       "1                       0                       0                       0   \n",
       "2                       0                       0                       0   \n",
       "3                       0                       0                       0   \n",
       "4                       0                       0                       0   \n",
       "\n",
       "   industry_prefix_620000  industry_prefix_630000  industry_prefix_640000  \\\n",
       "0                       0                       0                       0   \n",
       "1                       0                       0                       0   \n",
       "2                       0                       0                       0   \n",
       "3                       0                       0                       0   \n",
       "4                       0                       0                       0   \n",
       "\n",
       "   industry_prefix_650000  industry_prefix_710000  industry_prefix_720000  \\\n",
       "0                       0                       0                       0   \n",
       "1                       0                       0                       0   \n",
       "2                       0                       0                       0   \n",
       "3                       0                       0                       0   \n",
       "4                       0                       0                       0   \n",
       "\n",
       "   industry_prefix_730000  \n",
       "0                       0  \n",
       "1                       0  \n",
       "2                       0  \n",
       "3                       0  \n",
       "4                       0  \n",
       "\n",
       "[5 rows x 35 columns]"
      ]
     },
     "execution_count": 7,
     "metadata": {},
     "output_type": "execute_result"
    }
   ],
   "source": [
    "df1 = m10.data.read_df()\n",
    "df1.head()"
   ]
  },
  {
   "cell_type": "code",
   "execution_count": 8,
   "metadata": {},
   "outputs": [
    {
     "data": {
      "text/html": [
       "<div>\n",
       "<style scoped>\n",
       "    .dataframe tbody tr th:only-of-type {\n",
       "        vertical-align: middle;\n",
       "    }\n",
       "\n",
       "    .dataframe tbody tr th {\n",
       "        vertical-align: top;\n",
       "    }\n",
       "\n",
       "    .dataframe thead th {\n",
       "        text-align: right;\n",
       "    }\n",
       "</style>\n",
       "<table border=\"1\" class=\"dataframe\">\n",
       "  <thead>\n",
       "    <tr style=\"text-align: right;\">\n",
       "      <th></th>\n",
       "      <th></th>\n",
       "      <th>fs_current_assets_0</th>\n",
       "    </tr>\n",
       "    <tr>\n",
       "      <th>date</th>\n",
       "      <th>industry_sw_level1_0</th>\n",
       "      <th></th>\n",
       "    </tr>\n",
       "  </thead>\n",
       "  <tbody>\n",
       "    <tr>\n",
       "      <th rowspan=\"10\" valign=\"top\">2015-01-05</th>\n",
       "      <th>0</th>\n",
       "      <td>0.000000</td>\n",
       "    </tr>\n",
       "    <tr>\n",
       "      <th>110000</th>\n",
       "      <td>-0.000004</td>\n",
       "    </tr>\n",
       "    <tr>\n",
       "      <th>210000</th>\n",
       "      <td>0.000443</td>\n",
       "    </tr>\n",
       "    <tr>\n",
       "      <th>220000</th>\n",
       "      <td>-0.000614</td>\n",
       "    </tr>\n",
       "    <tr>\n",
       "      <th>230000</th>\n",
       "      <td>0.000004</td>\n",
       "    </tr>\n",
       "    <tr>\n",
       "      <th>240000</th>\n",
       "      <td>0.000089</td>\n",
       "    </tr>\n",
       "    <tr>\n",
       "      <th>270000</th>\n",
       "      <td>0.000000</td>\n",
       "    </tr>\n",
       "    <tr>\n",
       "      <th>280000</th>\n",
       "      <td>-0.000097</td>\n",
       "    </tr>\n",
       "    <tr>\n",
       "      <th>330000</th>\n",
       "      <td>0.000086</td>\n",
       "    </tr>\n",
       "    <tr>\n",
       "      <th>340000</th>\n",
       "      <td>-0.000004</td>\n",
       "    </tr>\n",
       "  </tbody>\n",
       "</table>\n",
       "</div>"
      ],
      "text/plain": [
       "                                 fs_current_assets_0\n",
       "date       industry_sw_level1_0                     \n",
       "2015-01-05 0                                0.000000\n",
       "           110000                          -0.000004\n",
       "           210000                           0.000443\n",
       "           220000                          -0.000614\n",
       "           230000                           0.000004\n",
       "           240000                           0.000089\n",
       "           270000                           0.000000\n",
       "           280000                          -0.000097\n",
       "           330000                           0.000086\n",
       "           340000                          -0.000004"
      ]
     },
     "execution_count": 8,
     "metadata": {},
     "output_type": "execute_result"
    }
   ],
   "source": [
    "df1.groupby(['date','industry_sw_level1_0'])[['fs_current_assets_0']].sum().head(10)"
   ]
  },
  {
   "cell_type": "markdown",
   "metadata": {},
   "source": [
    "##### 结论1：可以看到行业中性化后的因子，按照行业分组求和基本为0，即中性化后的因子剔除了股票所在行业的影响。"
   ]
  },
  {
   "cell_type": "markdown",
   "metadata": {},
   "source": [
    "* 很多指标都会受到市值因素的影响。 比如成交额，小市值股票的成交额总体上比大市值股票的成交额要低， 如果选成交额小的股票， 一般选出来的股票都是小市值的股票， 因为成交额和总市值有很多信息重复\n",
    "* 我们可以对成交额指标做市值中性化， 以排除市值因素的影响"
   ]
  },
  {
   "cell_type": "code",
   "execution_count": 11,
   "metadata": {},
   "outputs": [
    {
     "data": {
      "text/html": [
       "<div>\n",
       "<style scoped>\n",
       "    .dataframe tbody tr th:only-of-type {\n",
       "        vertical-align: middle;\n",
       "    }\n",
       "\n",
       "    .dataframe tbody tr th {\n",
       "        vertical-align: top;\n",
       "    }\n",
       "\n",
       "    .dataframe thead th {\n",
       "        text-align: right;\n",
       "    }\n",
       "</style>\n",
       "<table border=\"1\" class=\"dataframe\">\n",
       "  <thead>\n",
       "    <tr style=\"text-align: right;\">\n",
       "      <th></th>\n",
       "      <th>date</th>\n",
       "      <th>industry_sw_level1_0</th>\n",
       "      <th>instrument</th>\n",
       "      <th>log(volume_0)</th>\n",
       "      <th>volume_0</th>\n",
       "      <th>market_cap_0</th>\n",
       "    </tr>\n",
       "  </thead>\n",
       "  <tbody>\n",
       "    <tr>\n",
       "      <th>546332</th>\n",
       "      <td>2015-12-31</td>\n",
       "      <td>730000</td>\n",
       "      <td>600198.SHA</td>\n",
       "      <td>17.845830</td>\n",
       "      <td>56278874</td>\n",
       "      <td>2.176162e+10</td>\n",
       "    </tr>\n",
       "    <tr>\n",
       "      <th>546333</th>\n",
       "      <td>2015-12-31</td>\n",
       "      <td>730000</td>\n",
       "      <td>300098.SZA</td>\n",
       "      <td>17.258626</td>\n",
       "      <td>31284278</td>\n",
       "      <td>2.247545e+10</td>\n",
       "    </tr>\n",
       "    <tr>\n",
       "      <th>546334</th>\n",
       "      <td>2015-12-31</td>\n",
       "      <td>730000</td>\n",
       "      <td>002491.SZA</td>\n",
       "      <td>17.952319</td>\n",
       "      <td>62602728</td>\n",
       "      <td>2.323887e+10</td>\n",
       "    </tr>\n",
       "    <tr>\n",
       "      <th>546335</th>\n",
       "      <td>2015-12-31</td>\n",
       "      <td>730000</td>\n",
       "      <td>600522.SHA</td>\n",
       "      <td>16.814864</td>\n",
       "      <td>20072555</td>\n",
       "      <td>2.391466e+10</td>\n",
       "    </tr>\n",
       "    <tr>\n",
       "      <th>546336</th>\n",
       "      <td>2015-12-31</td>\n",
       "      <td>730000</td>\n",
       "      <td>000547.SZA</td>\n",
       "      <td>16.514331</td>\n",
       "      <td>14862196</td>\n",
       "      <td>2.723443e+10</td>\n",
       "    </tr>\n",
       "    <tr>\n",
       "      <th>546337</th>\n",
       "      <td>2015-12-31</td>\n",
       "      <td>730000</td>\n",
       "      <td>600498.SHA</td>\n",
       "      <td>17.293266</td>\n",
       "      <td>32386950</td>\n",
       "      <td>2.984765e+10</td>\n",
       "    </tr>\n",
       "    <tr>\n",
       "      <th>546338</th>\n",
       "      <td>2015-12-31</td>\n",
       "      <td>730000</td>\n",
       "      <td>300017.SZA</td>\n",
       "      <td>15.968966</td>\n",
       "      <td>8614571</td>\n",
       "      <td>4.195567e+10</td>\n",
       "    </tr>\n",
       "    <tr>\n",
       "      <th>546339</th>\n",
       "      <td>2015-12-31</td>\n",
       "      <td>730000</td>\n",
       "      <td>000063.SZA</td>\n",
       "      <td>17.590833</td>\n",
       "      <td>43611572</td>\n",
       "      <td>7.731986e+10</td>\n",
       "    </tr>\n",
       "    <tr>\n",
       "      <th>546340</th>\n",
       "      <td>2015-12-31</td>\n",
       "      <td>730000</td>\n",
       "      <td>600485.SHA</td>\n",
       "      <td>17.373364</td>\n",
       "      <td>35087813</td>\n",
       "      <td>7.821012e+10</td>\n",
       "    </tr>\n",
       "    <tr>\n",
       "      <th>546341</th>\n",
       "      <td>2015-12-31</td>\n",
       "      <td>730000</td>\n",
       "      <td>600050.SHA</td>\n",
       "      <td>18.053065</td>\n",
       "      <td>69238328</td>\n",
       "      <td>1.309950e+11</td>\n",
       "    </tr>\n",
       "  </tbody>\n",
       "</table>\n",
       "</div>"
      ],
      "text/plain": [
       "             date  industry_sw_level1_0  instrument  log(volume_0)  volume_0  \\\n",
       "546332 2015-12-31                730000  600198.SHA      17.845830  56278874   \n",
       "546333 2015-12-31                730000  300098.SZA      17.258626  31284278   \n",
       "546334 2015-12-31                730000  002491.SZA      17.952319  62602728   \n",
       "546335 2015-12-31                730000  600522.SHA      16.814864  20072555   \n",
       "546336 2015-12-31                730000  000547.SZA      16.514331  14862196   \n",
       "546337 2015-12-31                730000  600498.SHA      17.293266  32386950   \n",
       "546338 2015-12-31                730000  300017.SZA      15.968966   8614571   \n",
       "546339 2015-12-31                730000  000063.SZA      17.590833  43611572   \n",
       "546340 2015-12-31                730000  600485.SHA      17.373364  35087813   \n",
       "546341 2015-12-31                730000  600050.SHA      18.053065  69238328   \n",
       "\n",
       "        market_cap_0  \n",
       "546332  2.176162e+10  \n",
       "546333  2.247545e+10  \n",
       "546334  2.323887e+10  \n",
       "546335  2.391466e+10  \n",
       "546336  2.723443e+10  \n",
       "546337  2.984765e+10  \n",
       "546338  4.195567e+10  \n",
       "546339  7.731986e+10  \n",
       "546340  7.821012e+10  \n",
       "546341  1.309950e+11  "
      ]
     },
     "execution_count": 11,
     "metadata": {},
     "output_type": "execute_result"
    }
   ],
   "source": [
    "# 市值中性化前\n",
    "m6.data.read().groupby(['date','industry_sw_level1_0'])[['instrument','log(volume_0)','volume_0','market_cap_0']].apply(lambda x:x.sort_values(by='market_cap_0')).reset_index().drop('level_2',axis=1).tail(10)"
   ]
  },
  {
   "cell_type": "code",
   "execution_count": 13,
   "metadata": {},
   "outputs": [
    {
     "data": {
      "text/html": [
       "<div>\n",
       "<style scoped>\n",
       "    .dataframe tbody tr th:only-of-type {\n",
       "        vertical-align: middle;\n",
       "    }\n",
       "\n",
       "    .dataframe tbody tr th {\n",
       "        vertical-align: top;\n",
       "    }\n",
       "\n",
       "    .dataframe thead th {\n",
       "        text-align: right;\n",
       "    }\n",
       "</style>\n",
       "<table border=\"1\" class=\"dataframe\">\n",
       "  <thead>\n",
       "    <tr style=\"text-align: right;\">\n",
       "      <th></th>\n",
       "      <th>date</th>\n",
       "      <th>industry_sw_level1_0</th>\n",
       "      <th>instrument</th>\n",
       "      <th>log(volume_0)</th>\n",
       "      <th>volume_0</th>\n",
       "      <th>market_cap_0</th>\n",
       "    </tr>\n",
       "  </thead>\n",
       "  <tbody>\n",
       "    <tr>\n",
       "      <th>546332</th>\n",
       "      <td>2015-12-31</td>\n",
       "      <td>730000</td>\n",
       "      <td>600198.SHA</td>\n",
       "      <td>1.529118</td>\n",
       "      <td>56278874</td>\n",
       "      <td>2.176162e+10</td>\n",
       "    </tr>\n",
       "    <tr>\n",
       "      <th>546333</th>\n",
       "      <td>2015-12-31</td>\n",
       "      <td>730000</td>\n",
       "      <td>300098.SZA</td>\n",
       "      <td>0.847417</td>\n",
       "      <td>31284278</td>\n",
       "      <td>2.247545e+10</td>\n",
       "    </tr>\n",
       "    <tr>\n",
       "      <th>546334</th>\n",
       "      <td>2015-12-31</td>\n",
       "      <td>730000</td>\n",
       "      <td>002491.SZA</td>\n",
       "      <td>1.618118</td>\n",
       "      <td>62602728</td>\n",
       "      <td>2.323887e+10</td>\n",
       "    </tr>\n",
       "    <tr>\n",
       "      <th>546335</th>\n",
       "      <td>2015-12-31</td>\n",
       "      <td>730000</td>\n",
       "      <td>600522.SHA</td>\n",
       "      <td>0.314001</td>\n",
       "      <td>20072555</td>\n",
       "      <td>2.391466e+10</td>\n",
       "    </tr>\n",
       "    <tr>\n",
       "      <th>546336</th>\n",
       "      <td>2015-12-31</td>\n",
       "      <td>730000</td>\n",
       "      <td>000547.SZA</td>\n",
       "      <td>-0.089825</td>\n",
       "      <td>14862196</td>\n",
       "      <td>2.723443e+10</td>\n",
       "    </tr>\n",
       "    <tr>\n",
       "      <th>546337</th>\n",
       "      <td>2015-12-31</td>\n",
       "      <td>730000</td>\n",
       "      <td>600498.SHA</td>\n",
       "      <td>0.749385</td>\n",
       "      <td>32386950</td>\n",
       "      <td>2.984765e+10</td>\n",
       "    </tr>\n",
       "    <tr>\n",
       "      <th>546338</th>\n",
       "      <td>2015-12-31</td>\n",
       "      <td>730000</td>\n",
       "      <td>300017.SZA</td>\n",
       "      <td>-0.917630</td>\n",
       "      <td>8614571</td>\n",
       "      <td>4.195567e+10</td>\n",
       "    </tr>\n",
       "    <tr>\n",
       "      <th>546339</th>\n",
       "      <td>2015-12-31</td>\n",
       "      <td>730000</td>\n",
       "      <td>000063.SZA</td>\n",
       "      <td>0.626156</td>\n",
       "      <td>43611572</td>\n",
       "      <td>7.731986e+10</td>\n",
       "    </tr>\n",
       "    <tr>\n",
       "      <th>546340</th>\n",
       "      <td>2015-12-31</td>\n",
       "      <td>730000</td>\n",
       "      <td>600485.SHA</td>\n",
       "      <td>0.373938</td>\n",
       "      <td>35087813</td>\n",
       "      <td>7.821012e+10</td>\n",
       "    </tr>\n",
       "    <tr>\n",
       "      <th>546341</th>\n",
       "      <td>2015-12-31</td>\n",
       "      <td>730000</td>\n",
       "      <td>600050.SHA</td>\n",
       "      <td>0.895268</td>\n",
       "      <td>69238328</td>\n",
       "      <td>1.309950e+11</td>\n",
       "    </tr>\n",
       "  </tbody>\n",
       "</table>\n",
       "</div>"
      ],
      "text/plain": [
       "             date  industry_sw_level1_0  instrument  log(volume_0)  volume_0  \\\n",
       "546332 2015-12-31                730000  600198.SHA       1.529118  56278874   \n",
       "546333 2015-12-31                730000  300098.SZA       0.847417  31284278   \n",
       "546334 2015-12-31                730000  002491.SZA       1.618118  62602728   \n",
       "546335 2015-12-31                730000  600522.SHA       0.314001  20072555   \n",
       "546336 2015-12-31                730000  000547.SZA      -0.089825  14862196   \n",
       "546337 2015-12-31                730000  600498.SHA       0.749385  32386950   \n",
       "546338 2015-12-31                730000  300017.SZA      -0.917630   8614571   \n",
       "546339 2015-12-31                730000  000063.SZA       0.626156  43611572   \n",
       "546340 2015-12-31                730000  600485.SHA       0.373938  35087813   \n",
       "546341 2015-12-31                730000  600050.SHA       0.895268  69238328   \n",
       "\n",
       "        market_cap_0  \n",
       "546332  2.176162e+10  \n",
       "546333  2.247545e+10  \n",
       "546334  2.323887e+10  \n",
       "546335  2.391466e+10  \n",
       "546336  2.723443e+10  \n",
       "546337  2.984765e+10  \n",
       "546338  4.195567e+10  \n",
       "546339  7.731986e+10  \n",
       "546340  7.821012e+10  \n",
       "546341  1.309950e+11  "
      ]
     },
     "execution_count": 13,
     "metadata": {},
     "output_type": "execute_result"
    }
   ],
   "source": [
    "# 中性化后的数据\n",
    "m7.data.read_df().groupby(['date','industry_sw_level1_0'])[['instrument','log(volume_0)','volume_0','market_cap_0']].apply(lambda x:x.sort_values(by='market_cap_0')).reset_index().drop('level_2',axis=1).tail(10)"
   ]
  },
  {
   "cell_type": "markdown",
   "metadata": {},
   "source": [
    "##### 结论2：通过比对600050.SHA和002491.SZA两只股票可以看到市值大的中性化成交额可能反而值小，中性化去除了市值大小的影响"
   ]
  }
 ],
 "metadata": {
  "kernelspec": {
   "display_name": "Python 3",
   "language": "python",
   "name": "python3"
  },
  "language_info": {
   "codemirror_mode": {
    "name": "ipython",
    "version": 3
   },
   "file_extension": ".py",
   "mimetype": "text/x-python",
   "name": "python",
   "nbconvert_exporter": "python",
   "pygments_lexer": "ipython3",
   "version": "3.5.4"
  }
 },
 "nbformat": 4,
 "nbformat_minor": 2
}
